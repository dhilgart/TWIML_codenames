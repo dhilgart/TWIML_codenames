{
 "cells": [
  {
   "cell_type": "markdown",
   "metadata": {},
   "source": [
    "##### This jupyter notebook serves as a tutorial for the code used to run the TWIMLfest 2020 Codenames competition. Please first read through the [README](https://github.com/dhilgart/TWIML_codenames/blob/master/README.md) for an overview of the competition. The README also includes links to the rules of the official board game Codenames (by Vlaada Chvátil)  and a video that shows how to play."
   ]
  },
  {
   "cell_type": "code",
   "execution_count": 1,
   "metadata": {},
   "outputs": [
    {
     "name": "stderr",
     "output_type": "stream",
     "text": [
      "[nltk_data] Downloading package wordnet to\n",
      "[nltk_data]     C:\\Users\\dhilg\\AppData\\Roaming\\nltk_data...\n",
      "[nltk_data]   Package wordnet is already up-to-date!\n"
     ]
    }
   ],
   "source": [
    "import TWIML_codenames\n",
    "import numpy as np\n",
    "import random\n",
    "from datetime import datetime"
   ]
  },
  {
   "cell_type": "markdown",
   "metadata": {},
   "source": [
    "# How games get played"
   ]
  },
  {
   "cell_type": "markdown",
   "metadata": {},
   "source": [
    "In order for a game to be created, it needs a few objects provided on instantiation. First, let's "
   ]
  },
  {
   "cell_type": "markdown",
   "metadata": {},
   "source": [
    "### Create a TWIML_codenames.Gameboard object:"
   ]
  },
  {
   "cell_type": "code",
   "execution_count": 2,
   "metadata": {},
   "outputs": [],
   "source": [
    "#In order to create a gameboard, you must provide it with a list of words\n",
    "wordlist = [line.strip() for line in open('wordlist.txt', 'r').readlines()][:25]"
   ]
  },
  {
   "cell_type": "code",
   "execution_count": 3,
   "metadata": {},
   "outputs": [],
   "source": [
    "#create a gameboard:\n",
    "gameboard = TWIML_codenames.Gameboard(wordlist)"
   ]
  },
  {
   "cell_type": "markdown",
   "metadata": {},
   "source": [
    "A gameboard has 3 5x5 numpy arrays that store information about the gameboard. Let's visualize the words on the board:"
   ]
  },
  {
   "cell_type": "code",
   "execution_count": 4,
   "metadata": {},
   "outputs": [
    {
     "data": {
      "text/plain": [
       "array([['ask', 'reject', 'quarantine', 'gambling', 'vote'],\n",
       "       ['club', 'profit', 'desk', 'pass', 'chicken'],\n",
       "       ['ghost', 'sip', 'center', 'winter', 'hurdle'],\n",
       "       ['Cleopatra', 'road', 'bench', 'oyster', 'pajamas'],\n",
       "       ['user', 'cough', 'vet', 'horse', 'taxi']], dtype='<U10')"
      ]
     },
     "execution_count": 4,
     "metadata": {},
     "output_type": "execute_result"
    }
   ],
   "source": [
    "gameboard.boardwords"
   ]
  },
  {
   "cell_type": "markdown",
   "metadata": {},
   "source": [
    "Now let's visualize the key, which tells the spymasters which words belong to which team. The teams are as follows: \n",
    "- 1 = team 1\n",
    "- 2 = team 2\n",
    "- 0 = neutral\n",
    "- -1 = assassin\n",
    "\n",
    "Note: we do not use blue team and red team. Whichever team goes first is team 1 and has 1 extra word they need to guess."
   ]
  },
  {
   "cell_type": "code",
   "execution_count": 5,
   "metadata": {},
   "outputs": [
    {
     "data": {
      "text/plain": [
       "array([[ 1,  0,  2,  2,  1],\n",
       "       [ 2,  1,  2,  1,  0],\n",
       "       [ 2,  1,  1,  0,  1],\n",
       "       [ 1,  0,  2,  0,  2],\n",
       "       [-1,  0,  0,  1,  2]])"
      ]
     },
     "execution_count": 5,
     "metadata": {},
     "output_type": "execute_result"
    }
   ],
   "source": [
    "gameboard.boardkey"
   ]
  },
  {
   "cell_type": "markdown",
   "metadata": {},
   "source": [
    "Lastly, there is an array that stores a record of which words have been guessed so far in the game. At the beginning of the game, it is all np.NaN:"
   ]
  },
  {
   "cell_type": "code",
   "execution_count": 6,
   "metadata": {},
   "outputs": [
    {
     "data": {
      "text/plain": [
       "array([[nan, nan, nan, nan, nan],\n",
       "       [nan, nan, nan, nan, nan],\n",
       "       [nan, nan, nan, nan, nan],\n",
       "       [nan, nan, nan, nan, nan],\n",
       "       [nan, nan, nan, nan, nan]])"
      ]
     },
     "execution_count": 6,
     "metadata": {},
     "output_type": "execute_result"
    }
   ],
   "source": [
    "gameboard.boardmarkers"
   ]
  },
  {
   "cell_type": "markdown",
   "metadata": {},
   "source": [
    "The next thing the TWIML_codenames.Game needs is players! It requires a list of TWIML_codenames.Player objects on team1 and on team2. So, let's"
   ]
  },
  {
   "cell_type": "markdown",
   "metadata": {},
   "source": [
    "### Create TWIML_codenames.Player objects:"
   ]
  },
  {
   "cell_type": "markdown",
   "metadata": {},
   "source": [
    "We will need 4 Player objects: 2 for team 1 and 2 for team 2. Let's put them in a list called playerlist. Each Player object will need a player_id. For the competition, your player_ID has been emailed to you. For this demo, let's use player_IDs 1001, 1002, 1003, and 1004."
   ]
  },
  {
   "cell_type": "code",
   "execution_count": 7,
   "metadata": {},
   "outputs": [
    {
     "name": "stdout",
     "output_type": "stream",
     "text": [
      "<TWIML_codenames.Player object at 0x00000245910A3340>\n",
      "<TWIML_codenames.Player object at 0x00000245910A3490>\n",
      "<TWIML_codenames.Player object at 0x00000245910A35E0>\n",
      "<TWIML_codenames.Player object at 0x00000245910A3700>\n"
     ]
    }
   ],
   "source": [
    "playerlist=[]\n",
    "for i in range(4):\n",
    "    playerlist.append(TWIML_codenames.Player(1001+i))\n",
    "    print(playerlist[i])"
   ]
  },
  {
   "cell_type": "markdown",
   "metadata": {},
   "source": [
    "Let's investigate what a TWIML_codenames.Player object contains. It stores:\n",
    "- the player_id\n",
    "- the Elo ratings of the player (These will be used to determine the winners. See the README for details)\n",
    "- the Win-Loss records of the player"
   ]
  },
  {
   "cell_type": "code",
   "execution_count": 8,
   "metadata": {},
   "outputs": [
    {
     "data": {
      "text/plain": [
       "1001"
      ]
     },
     "execution_count": 8,
     "metadata": {},
     "output_type": "execute_result"
    }
   ],
   "source": [
    "playerlist[0].player_id"
   ]
  },
  {
   "cell_type": "code",
   "execution_count": 9,
   "metadata": {},
   "outputs": [
    {
     "data": {
      "text/plain": [
       "{'Spymaster': 1500.0, 'Operative': 1500.0}"
      ]
     },
     "execution_count": 9,
     "metadata": {},
     "output_type": "execute_result"
    }
   ],
   "source": [
    "playerlist[0].Elo"
   ]
  },
  {
   "cell_type": "code",
   "execution_count": 10,
   "metadata": {},
   "outputs": [
    {
     "data": {
      "text/plain": [
       "{'Spymaster': {'W': 0, 'L': 0}, 'Operative': {'W': 0, 'L': 0}}"
      ]
     },
     "execution_count": 10,
     "metadata": {},
     "output_type": "execute_result"
    }
   ],
   "source": [
    "playerlist[0].record"
   ]
  },
  {
   "cell_type": "markdown",
   "metadata": {},
   "source": [
    "Note that the Elo ratings and records have been pre-populated on instantiation. Both Elo and W-L record are tracked separately for the Spymaster and Operative roles."
   ]
  },
  {
   "cell_type": "markdown",
   "metadata": {},
   "source": [
    "We have everything we need to create a game! Let's do it!"
   ]
  },
  {
   "cell_type": "markdown",
   "metadata": {},
   "source": [
    "### Create a TWIML_codenames.Game object:"
   ]
  },
  {
   "cell_type": "code",
   "execution_count": 11,
   "metadata": {},
   "outputs": [],
   "source": [
    "# first split the players into teams:\n",
    "team1 = playerlist[:2]\n",
    "team2 = playerlist[2:]"
   ]
  },
  {
   "cell_type": "code",
   "execution_count": 12,
   "metadata": {},
   "outputs": [],
   "source": [
    "# then create the game:\n",
    "my_game = TWIML_codenames.Game(gameboard = gameboard, team1 = team1, team2 = team2)"
   ]
  },
  {
   "cell_type": "markdown",
   "metadata": {},
   "source": [
    "The game is ready! \n",
    "\n",
    "When a game is instantiated, it sets all of its internal variables to prepare for the Team 1 Spymaster to give the first clue. Let's take a look:"
   ]
  },
  {
   "cell_type": "code",
   "execution_count": 13,
   "metadata": {},
   "outputs": [
    {
     "data": {
      "text/plain": [
       "1"
      ]
     },
     "execution_count": 13,
     "metadata": {},
     "output_type": "execute_result"
    }
   ],
   "source": [
    "my_game.curr_team"
   ]
  },
  {
   "cell_type": "code",
   "execution_count": 14,
   "metadata": {},
   "outputs": [
    {
     "data": {
      "text/plain": [
       "'spymaster'"
      ]
     },
     "execution_count": 14,
     "metadata": {},
     "output_type": "execute_result"
    }
   ],
   "source": [
    "my_game.waiting_on"
   ]
  },
  {
   "cell_type": "markdown",
   "metadata": {},
   "source": [
    "Let's not keep the game waiting too long! We need to"
   ]
  },
  {
   "cell_type": "markdown",
   "metadata": {},
   "source": [
    "### Feed the game a clue:"
   ]
  },
  {
   "cell_type": "markdown",
   "metadata": {},
   "source": [
    "In order to do so, let's load my_model.py"
   ]
  },
  {
   "cell_type": "code",
   "execution_count": 15,
   "metadata": {},
   "outputs": [],
   "source": [
    "import my_model as model"
   ]
  },
  {
   "cell_type": "markdown",
   "metadata": {},
   "source": [
    "Now all we need to do to figure out what clue to feed the game is call model.generate_clue:"
   ]
  },
  {
   "cell_type": "code",
   "execution_count": 16,
   "metadata": {},
   "outputs": [],
   "source": [
    "# when interacting with a game on the server, client_run.py first calls game.solicit_clue_inputs(): \n",
    "pull_team_num, pull_gameboard = my_game.solicit_clue_inputs()\n",
    "# you can skip this step when running locally by just using my_game.curr_team and my_game.gameboard as in the next cell:"
   ]
  },
  {
   "cell_type": "code",
   "execution_count": 17,
   "metadata": {},
   "outputs": [
    {
     "name": "stdout",
     "output_type": "stream",
     "text": [
      "Wall time: 34 s\n"
     ]
    }
   ],
   "source": [
    "%%time\n",
    "clue_word, clue_count = model.generate_clue(game_id=1, # note: game_id is a required input of model.generate_clue so that you can keep track of which game is asking for a clue. Each game on the server will have a unique, 6-digit integer for the game_id. For the purposes of this demo, we will just give it a game_id of 1.\n",
    "                                            team_num=my_game.curr_team, \n",
    "                                            gameboard=my_game.gameboard)"
   ]
  },
  {
   "cell_type": "markdown",
   "metadata": {},
   "source": [
    "Let's take a look at what clue_word and clue_count it generated:"
   ]
  },
  {
   "cell_type": "code",
   "execution_count": 18,
   "metadata": {},
   "outputs": [
    {
     "name": "stdout",
     "output_type": "stream",
     "text": [
      "My bot says: \"revenue for 1!\"\n"
     ]
    }
   ],
   "source": [
    "print(f'My bot says: \"{clue_word} for {clue_count}!\"')"
   ]
  },
  {
   "cell_type": "markdown",
   "metadata": {},
   "source": [
    "Can you tell what word(s) it wants the operative to guess with that clue? Let's look at the board:"
   ]
  },
  {
   "cell_type": "code",
   "execution_count": 19,
   "metadata": {},
   "outputs": [
    {
     "name": "stdout",
     "output_type": "stream",
     "text": [
      "[['ask' 'reject' 'quarantine' 'gambling' 'vote']\n",
      " ['club' 'profit' 'desk' 'pass' 'chicken']\n",
      " ['ghost' 'sip' 'center' 'winter' 'hurdle']\n",
      " ['Cleopatra' 'road' 'bench' 'oyster' 'pajamas']\n",
      " ['user' 'cough' 'vet' 'horse' 'taxi']]\n",
      "[[ 1  0  2  2  1]\n",
      " [ 2  1  2  1  0]\n",
      " [ 2  1  1  0  1]\n",
      " [ 1  0  2  0  2]\n",
      " [-1  0  0  1  2]]\n"
     ]
    }
   ],
   "source": [
    "print(my_game.gameboard.boardwords)\n",
    "print(my_game.gameboard.boardkey)"
   ]
  },
  {
   "cell_type": "markdown",
   "metadata": {},
   "source": [
    "Ok, let's feed the clue back to the game:"
   ]
  },
  {
   "cell_type": "code",
   "execution_count": 20,
   "metadata": {},
   "outputs": [],
   "source": [
    "my_game.clue_given(clue_word, clue_count)"
   ]
  },
  {
   "cell_type": "markdown",
   "metadata": {},
   "source": [
    "Let's check the status:"
   ]
  },
  {
   "cell_type": "code",
   "execution_count": 21,
   "metadata": {},
   "outputs": [
    {
     "data": {
      "text/plain": [
       "1"
      ]
     },
     "execution_count": 21,
     "metadata": {},
     "output_type": "execute_result"
    }
   ],
   "source": [
    "my_game.curr_team"
   ]
  },
  {
   "cell_type": "code",
   "execution_count": 22,
   "metadata": {},
   "outputs": [
    {
     "data": {
      "text/plain": [
       "'operative'"
      ]
     },
     "execution_count": 22,
     "metadata": {},
     "output_type": "execute_result"
    }
   ],
   "source": [
    "my_game.waiting_on"
   ]
  },
  {
   "cell_type": "markdown",
   "metadata": {},
   "source": [
    "The game is ready for Team 1's Operative (i.e. guesser) to respond. \n",
    "As above, we could pull the inputs the guesser will need using my_game.solicit_guesses_inputs(), but we will skip that for this demo. Time to"
   ]
  },
  {
   "cell_type": "markdown",
   "metadata": {},
   "source": [
    "### Feed the game a list of guesses:"
   ]
  },
  {
   "cell_type": "markdown",
   "metadata": {},
   "source": [
    "First, ask the model generate the list:"
   ]
  },
  {
   "cell_type": "code",
   "execution_count": 23,
   "metadata": {},
   "outputs": [],
   "source": [
    "guesses = model.generate_guesses(game_id = 1, # see comment on game_id when we generated the clues \n",
    "                                 team_num = my_game.curr_team, \n",
    "                                 clue_word = my_game.curr_clue_word, \n",
    "                                 clue_count = my_game.curr_clue_count, \n",
    "                                 unguessed_words = my_game.gameboard.unguessed_words(), # gameboard.unguessed_words() returns a 1-D list of all the words on the board that have not yet been guessed\n",
    "                                 boardwords = my_game.gameboard.boardwords, \n",
    "                                 boardmarkers = my_game.gameboard.boardmarkers)\n",
    "# note that the gameboard is not passed to the guesser function in whole. If it were, the guesser would have access to the key!"
   ]
  },
  {
   "cell_type": "markdown",
   "metadata": {},
   "source": [
    "Let's take a look at what the bot generated. Does it match with what you thought above?"
   ]
  },
  {
   "cell_type": "code",
   "execution_count": 24,
   "metadata": {},
   "outputs": [
    {
     "data": {
      "text/plain": [
       "['profit']"
      ]
     },
     "execution_count": 24,
     "metadata": {},
     "output_type": "execute_result"
    }
   ],
   "source": [
    "guesses"
   ]
  },
  {
   "cell_type": "markdown",
   "metadata": {},
   "source": [
    "Send it back to the game:"
   ]
  },
  {
   "cell_type": "code",
   "execution_count": 25,
   "metadata": {},
   "outputs": [],
   "source": [
    "my_game.guesses_given(guesses)"
   ]
  },
  {
   "cell_type": "markdown",
   "metadata": {},
   "source": [
    "Let's see what happened. Check the boardmarkers and the boardwords. Did the bot get it right?"
   ]
  },
  {
   "cell_type": "code",
   "execution_count": 26,
   "metadata": {},
   "outputs": [
    {
     "name": "stdout",
     "output_type": "stream",
     "text": [
      "[[nan nan nan nan nan]\n",
      " [nan  1. nan nan nan]\n",
      " [nan nan nan nan nan]\n",
      " [nan nan nan nan nan]\n",
      " [nan nan nan nan nan]]\n",
      "[['ask' 'reject' 'quarantine' 'gambling' 'vote']\n",
      " ['club' 'profit' 'desk' 'pass' 'chicken']\n",
      " ['ghost' 'sip' 'center' 'winter' 'hurdle']\n",
      " ['Cleopatra' 'road' 'bench' 'oyster' 'pajamas']\n",
      " ['user' 'cough' 'vet' 'horse' 'taxi']]\n"
     ]
    }
   ],
   "source": [
    "print(my_game.gameboard.boardmarkers)\n",
    "print(my_game.gameboard.boardwords)"
   ]
  },
  {
   "cell_type": "markdown",
   "metadata": {},
   "source": [
    "Let's check the status again:"
   ]
  },
  {
   "cell_type": "code",
   "execution_count": 27,
   "metadata": {},
   "outputs": [
    {
     "data": {
      "text/plain": [
       "2"
      ]
     },
     "execution_count": 27,
     "metadata": {},
     "output_type": "execute_result"
    }
   ],
   "source": [
    "my_game.curr_team"
   ]
  },
  {
   "cell_type": "code",
   "execution_count": 28,
   "metadata": {},
   "outputs": [
    {
     "data": {
      "text/plain": [
       "'spymaster'"
      ]
     },
     "execution_count": 28,
     "metadata": {},
     "output_type": "execute_result"
    }
   ],
   "source": [
    "my_game.waiting_on"
   ]
  },
  {
   "cell_type": "markdown",
   "metadata": {},
   "source": [
    "Team 1's turn is done! The game is ready for Team 2's Spymaster to give a clue!\n",
    "\n",
    "We don't need to go through each guess one at a time. Let's automate the rest of the game:"
   ]
  },
  {
   "cell_type": "markdown",
   "metadata": {},
   "source": [
    "### Simulate the rest of the game:"
   ]
  },
  {
   "cell_type": "code",
   "execution_count": 29,
   "metadata": {
    "scrolled": true
   },
   "outputs": [
    {
     "name": "stdout",
     "output_type": "stream",
     "text": [
      "Clue generated. Duration = 0:00:16.943150. Total elapsed time = 0:00:16.943150\n",
      "My bot says: \"room for 1!\"\n",
      "Guesses generated. Duration = 0:00:00.209001. Total elapsed time = 0:00:17.153152\n",
      "guesses = ['desk']\n",
      "Clue generated. Duration = 0:00:17.917399. Total elapsed time = 0:00:35.071567\n",
      "My bot says: \"voting for 1!\"\n",
      "Clue generated. Duration = 0:00:08.307358. Total elapsed time = 0:00:43.378925\n",
      "My bot says: \"poker for 1!\"\n",
      "Guesses generated. Duration = 0:00:00.184009. Total elapsed time = 0:00:43.563933\n",
      "guesses = ['gambling']\n",
      "Clue generated. Duration = 0:00:18.181704. Total elapsed time = 0:01:01.746629\n",
      "My bot says: \"answer for 1!\"\n",
      "Guesses generated. Duration = 0:00:00.222060. Total elapsed time = 0:01:01.969689\n",
      "guesses = ['ask']\n",
      "Clue generated. Duration = 0:00:03.618101. Total elapsed time = 0:01:05.587790\n",
      "My bot says: \"nightgown for 1!\"\n",
      "Guesses generated. Duration = 0:00:00.174003. Total elapsed time = 0:01:05.762760\n",
      "guesses = ['pajamas']\n",
      "Clue generated. Duration = 0:00:07.114552. Total elapsed time = 0:01:12.877312\n",
      "My bot says: \"voting for 1!\"\n",
      "Clue generated. Duration = 0:00:01.562344. Total elapsed time = 0:01:14.440598\n",
      "My bot says: \"chauffeur for 1!\"\n",
      "Guesses generated. Duration = 0:00:00.171014. Total elapsed time = 0:01:14.612595\n",
      "guesses = ['taxi']\n",
      "Clue generated. Duration = 0:00:05.801361. Total elapsed time = 0:01:20.413956\n",
      "My bot says: \"voting for 1!\"\n",
      "Clue generated. Duration = 0:00:00.764084. Total elapsed time = 0:01:21.180045\n",
      "My bot says: \"witch for 1!\"\n",
      "Guesses generated. Duration = 0:00:00.156033. Total elapsed time = 0:01:21.336078\n",
      "guesses = ['ghost']\n",
      "Clue generated. Duration = 0:00:05.284937. Total elapsed time = 0:01:26.621015\n",
      "My bot says: \"ballot for 1!\"\n",
      "Guesses generated. Duration = 0:00:00.152130. Total elapsed time = 0:01:26.774116\n",
      "guesses = ['vote']\n",
      "Clue generated. Duration = 0:00:00.326555. Total elapsed time = 0:01:27.101645\n",
      "My bot says: \"league for 1!\"\n",
      "Guesses generated. Duration = 0:00:00.136986. Total elapsed time = 0:01:27.239699\n",
      "guesses = ['club']\n",
      "Clue generated. Duration = 0:00:02.227873. Total elapsed time = 0:01:29.468571\n",
      "My bot says: \"obstacle for 1!\"\n",
      "Guesses generated. Duration = 0:00:00.128999. Total elapsed time = 0:01:29.598573\n",
      "guesses = ['hurdle']\n",
      "Clue generated. Duration = 0:00:00.186015. Total elapsed time = 0:01:29.784588\n",
      "My bot says: \"seat for 1!\"\n",
      "Guesses generated. Duration = 0:00:00.119000. Total elapsed time = 0:01:29.904572\n",
      "guesses = ['bench']\n",
      "Clue generated. Duration = 0:00:01.011554. Total elapsed time = 0:01:30.917126\n",
      "My bot says: \"pony for 1!\"\n",
      "Guesses generated. Duration = 0:00:00.121036. Total elapsed time = 0:01:31.040163\n",
      "guesses = ['horse']\n",
      "Clue generated. Duration = 0:00:00.126034. Total elapsed time = 0:01:31.167164\n",
      "My bot says: \"front for 1!\"\n",
      "Guesses generated. Duration = 0:00:00.100968. Total elapsed time = 0:01:31.269167\n",
      "guesses = ['center']\n",
      "Clue generated. Duration = 0:00:00.261002. Total elapsed time = 0:01:31.531132\n",
      "My bot says: \"attempt for 1!\"\n",
      "Guesses generated. Duration = 0:00:00.102997. Total elapsed time = 0:01:31.634129\n",
      "guesses = ['pass']\n",
      "Clue generated. Duration = 0:00:00.114038. Total elapsed time = 0:01:31.748167\n",
      "My bot says: \"cosset for 1!\"\n",
      "Guesses generated. Duration = 0:00:00.095329. Total elapsed time = 0:01:31.843496\n",
      "guesses = ['sip']\n",
      "Clue generated. Duration = 0:00:00.111030. Total elapsed time = 0:01:31.954526\n",
      "My bot says: \"jockey for 1!\"\n",
      "Guesses generated. Duration = 0:00:00.084971. Total elapsed time = 0:01:32.039497\n",
      "guesses = ['vet']\n",
      "Clue generated. Duration = 0:00:00.101159. Total elapsed time = 0:01:32.140656\n",
      "My bot says: \"black for 1!\"\n",
      "Guesses generated. Duration = 0:00:00.077006. Total elapsed time = 0:01:32.217662\n",
      "guesses = ['chicken']\n",
      "Clue generated. Duration = 0:00:00.097998. Total elapsed time = 0:01:32.316624\n",
      "My bot says: \"granddaughter for 1!\"\n",
      "Guesses generated. Duration = 0:00:00.063001. Total elapsed time = 0:01:32.379625\n",
      "guesses = ['oyster']\n",
      "Clue generated. Duration = 0:00:00.092033. Total elapsed time = 0:01:32.472678\n",
      "My bot says: \"buzz for 1!\"\n",
      "Guesses generated. Duration = 0:00:00.061003. Total elapsed time = 0:01:32.533681\n",
      "guesses = ['reject']\n",
      "Clue generated. Duration = 0:00:00.086996. Total elapsed time = 0:01:32.620677\n",
      "My bot says: \"religion for 1!\"\n",
      "Guesses generated. Duration = 0:00:00.048999. Total elapsed time = 0:01:32.669676\n",
      "guesses = ['user']\n"
     ]
    }
   ],
   "source": [
    "start_time=datetime.now()\n",
    "while my_game.game_completed == False:\n",
    "    # here we ignore that team 1 and team 2 will have different models and assume that regardless \n",
    "    # of which team's turn it is, we use the same model for the spymaster and the operative\n",
    "    \n",
    "    if my_game.waiting_on == 'spymaster':\n",
    "        clue_start_time=datetime.now()\n",
    "        clue_word, clue_count = model.generate_clue(game_id=1,\n",
    "                                                    team_num=my_game.curr_team, \n",
    "                                                    gameboard=my_game.gameboard)\n",
    "        print(f'Clue generated. Duration = {datetime.now()-clue_start_time}. Total elapsed time = {datetime.now()-start_time}')\n",
    "        print(f'My bot says: \"{clue_word} for {clue_count}!\"')\n",
    "        my_game.clue_given(clue_word, clue_count)\n",
    "    else:\n",
    "        guess_start_time=datetime.now()\n",
    "        guesses = model.generate_guesses(game_id = 1,\n",
    "                                         team_num = my_game.curr_team, \n",
    "                                         clue_word = my_game.curr_clue_word, \n",
    "                                         clue_count = my_game.curr_clue_count, \n",
    "                                         unguessed_words = my_game.gameboard.unguessed_words(),\n",
    "                                         boardwords = my_game.gameboard.boardwords, \n",
    "                                         boardmarkers = my_game.gameboard.boardmarkers)\n",
    "        print(f'Guesses generated. Duration = {datetime.now()-guess_start_time}. Total elapsed time = {datetime.now()-start_time}')\n",
    "        print(f'guesses = {guesses}')\n",
    "        my_game.guesses_given(guesses)"
   ]
  },
  {
   "cell_type": "markdown",
   "metadata": {},
   "source": [
    "There you have it! A completed game! But that's not all. There's something else we haven't talked about that you might be interested in: the game log!"
   ]
  },
  {
   "cell_type": "markdown",
   "metadata": {},
   "source": [
    "# The game log"
   ]
  },
  {
   "cell_type": "markdown",
   "metadata": {},
   "source": [
    "A TWIML_codenames.Game object is always created with a logger object. If no logger is supplied at initialization, a TWIML_codenames.LocalLogger object will be created for the game. LocalLogger stores the gamelog in memory. For games played on the server, a TWIML_codenames_API_server.MongoLogger is supplied at Game initialization, so the log is stored to a MongoDB. The server game logs can be retrieved using the @app.get(\"http<span>://twiml-codenames.herokuapp</span>.com/{game_id}/log/\") API endpoint. Either way, the logger stores the same information as a multi-nested dict."
   ]
  },
  {
   "cell_type": "markdown",
   "metadata": {},
   "source": [
    "Let's take a look at the log for this game:"
   ]
  },
  {
   "cell_type": "code",
   "execution_count": 30,
   "metadata": {},
   "outputs": [
    {
     "data": {
      "text/plain": [
       "{'in_progress': False,\n",
       " 'events': [{'event': 'clue_given',\n",
       "   'timestamp': datetime.datetime(2020, 10, 16, 20, 31, 33, 641585),\n",
       "   'team_num': 1,\n",
       "   'clue_word': 'revenue',\n",
       "   'clue_count': 1,\n",
       "   'legal_clue': 'Yes'},\n",
       "  {'event': 'guess made',\n",
       "   'timestamp': datetime.datetime(2020, 10, 16, 20, 31, 33, 908553),\n",
       "   'team_num': 1,\n",
       "   'word_guessed': 'profit',\n",
       "   'result': 1},\n",
       "  {'event': 'end guessing',\n",
       "   'timestamp': datetime.datetime(2020, 10, 16, 20, 31, 33, 908553),\n",
       "   'reason': 'no more guesses provided'},\n",
       "  {'event': 'clue_given',\n",
       "   'timestamp': datetime.datetime(2020, 10, 16, 20, 31, 50, 900706),\n",
       "   'team_num': 2,\n",
       "   'clue_word': 'room',\n",
       "   'clue_count': 1,\n",
       "   'legal_clue': 'Yes'},\n",
       "  {'event': 'guess made',\n",
       "   'timestamp': datetime.datetime(2020, 10, 16, 20, 31, 51, 110723),\n",
       "   'team_num': 2,\n",
       "   'word_guessed': 'desk',\n",
       "   'result': 2},\n",
       "  {'event': 'end guessing',\n",
       "   'timestamp': datetime.datetime(2020, 10, 16, 20, 31, 51, 110723),\n",
       "   'reason': 'no more guesses provided'},\n",
       "  {'event': 'clue_given',\n",
       "   'timestamp': datetime.datetime(2020, 10, 16, 20, 32, 9, 28122),\n",
       "   'team_num': 1,\n",
       "   'clue_word': 'voting',\n",
       "   'clue_count': 1,\n",
       "   'legal_clue': \"Illegal clue: clue_word lemma 'vote' (POS=n) overlaps a lemma of boardword 'vote'\"},\n",
       "  {'event': 'end guessing',\n",
       "   'timestamp': datetime.datetime(2020, 10, 16, 20, 32, 9, 28122),\n",
       "   'reason': 'illegal clue given; no guessing allowed'},\n",
       "  {'event': 'clue_given',\n",
       "   'timestamp': datetime.datetime(2020, 10, 16, 20, 32, 17, 336479),\n",
       "   'team_num': 2,\n",
       "   'clue_word': 'poker',\n",
       "   'clue_count': 1,\n",
       "   'legal_clue': 'Yes'},\n",
       "  {'event': 'guess made',\n",
       "   'timestamp': datetime.datetime(2020, 10, 16, 20, 32, 17, 521480),\n",
       "   'team_num': 2,\n",
       "   'word_guessed': 'gambling',\n",
       "   'result': 2},\n",
       "  {'event': 'end guessing',\n",
       "   'timestamp': datetime.datetime(2020, 10, 16, 20, 32, 17, 521480),\n",
       "   'reason': 'no more guesses provided'},\n",
       "  {'event': 'clue_given',\n",
       "   'timestamp': datetime.datetime(2020, 10, 16, 20, 32, 35, 704184),\n",
       "   'team_num': 1,\n",
       "   'clue_word': 'answer',\n",
       "   'clue_count': 1,\n",
       "   'legal_clue': 'Yes'},\n",
       "  {'event': 'guess made',\n",
       "   'timestamp': datetime.datetime(2020, 10, 16, 20, 32, 35, 926244),\n",
       "   'team_num': 1,\n",
       "   'word_guessed': 'ask',\n",
       "   'result': 1},\n",
       "  {'event': 'end guessing',\n",
       "   'timestamp': datetime.datetime(2020, 10, 16, 20, 32, 35, 926244),\n",
       "   'reason': 'no more guesses provided'},\n",
       "  {'event': 'clue_given',\n",
       "   'timestamp': datetime.datetime(2020, 10, 16, 20, 32, 39, 545312),\n",
       "   'team_num': 2,\n",
       "   'clue_word': 'nightgown',\n",
       "   'clue_count': 1,\n",
       "   'legal_clue': 'Yes'},\n",
       "  {'event': 'guess made',\n",
       "   'timestamp': datetime.datetime(2020, 10, 16, 20, 32, 39, 719315),\n",
       "   'team_num': 2,\n",
       "   'word_guessed': 'pajamas',\n",
       "   'result': 2},\n",
       "  {'event': 'end guessing',\n",
       "   'timestamp': datetime.datetime(2020, 10, 16, 20, 32, 39, 719315),\n",
       "   'reason': 'no more guesses provided'},\n",
       "  {'event': 'clue_given',\n",
       "   'timestamp': datetime.datetime(2020, 10, 16, 20, 32, 46, 834809),\n",
       "   'team_num': 1,\n",
       "   'clue_word': 'voting',\n",
       "   'clue_count': 1,\n",
       "   'legal_clue': \"Illegal clue: clue_word lemma 'vote' (POS=n) overlaps a lemma of boardword 'vote'\"},\n",
       "  {'event': 'end guessing',\n",
       "   'timestamp': datetime.datetime(2020, 10, 16, 20, 32, 46, 834809),\n",
       "   'reason': 'illegal clue given; no guessing allowed'},\n",
       "  {'event': 'clue_given',\n",
       "   'timestamp': datetime.datetime(2020, 10, 16, 20, 32, 48, 398136),\n",
       "   'team_num': 2,\n",
       "   'clue_word': 'chauffeur',\n",
       "   'clue_count': 1,\n",
       "   'legal_clue': 'Yes'},\n",
       "  {'event': 'guess made',\n",
       "   'timestamp': datetime.datetime(2020, 10, 16, 20, 32, 48, 569150),\n",
       "   'team_num': 2,\n",
       "   'word_guessed': 'taxi',\n",
       "   'result': 2},\n",
       "  {'event': 'end guessing',\n",
       "   'timestamp': datetime.datetime(2020, 10, 16, 20, 32, 48, 569150),\n",
       "   'reason': 'no more guesses provided'},\n",
       "  {'event': 'clue_given',\n",
       "   'timestamp': datetime.datetime(2020, 10, 16, 20, 32, 54, 372516),\n",
       "   'team_num': 1,\n",
       "   'clue_word': 'voting',\n",
       "   'clue_count': 1,\n",
       "   'legal_clue': \"Illegal clue: clue_word lemma 'vote' (POS=n) overlaps a lemma of boardword 'vote'\"},\n",
       "  {'event': 'end guessing',\n",
       "   'timestamp': datetime.datetime(2020, 10, 16, 20, 32, 54, 372516),\n",
       "   'reason': 'illegal clue given; no guessing allowed'},\n",
       "  {'event': 'clue_given',\n",
       "   'timestamp': datetime.datetime(2020, 10, 16, 20, 32, 55, 136600),\n",
       "   'team_num': 2,\n",
       "   'clue_word': 'witch',\n",
       "   'clue_count': 1,\n",
       "   'legal_clue': 'Yes'},\n",
       "  {'event': 'guess made',\n",
       "   'timestamp': datetime.datetime(2020, 10, 16, 20, 32, 55, 292633),\n",
       "   'team_num': 2,\n",
       "   'word_guessed': 'ghost',\n",
       "   'result': 2},\n",
       "  {'event': 'end guessing',\n",
       "   'timestamp': datetime.datetime(2020, 10, 16, 20, 32, 55, 292633),\n",
       "   'reason': 'no more guesses provided'},\n",
       "  {'event': 'clue_given',\n",
       "   'timestamp': datetime.datetime(2020, 10, 16, 20, 33, 0, 578541),\n",
       "   'team_num': 1,\n",
       "   'clue_word': 'ballot',\n",
       "   'clue_count': 1,\n",
       "   'legal_clue': 'Yes'},\n",
       "  {'event': 'guess made',\n",
       "   'timestamp': datetime.datetime(2020, 10, 16, 20, 33, 0, 731645),\n",
       "   'team_num': 1,\n",
       "   'word_guessed': 'vote',\n",
       "   'result': 1},\n",
       "  {'event': 'end guessing',\n",
       "   'timestamp': datetime.datetime(2020, 10, 16, 20, 33, 0, 731645),\n",
       "   'reason': 'no more guesses provided'},\n",
       "  {'event': 'clue_given',\n",
       "   'timestamp': datetime.datetime(2020, 10, 16, 20, 33, 1, 59268),\n",
       "   'team_num': 2,\n",
       "   'clue_word': 'league',\n",
       "   'clue_count': 1,\n",
       "   'legal_clue': 'Yes'},\n",
       "  {'event': 'guess made',\n",
       "   'timestamp': datetime.datetime(2020, 10, 16, 20, 33, 1, 197253),\n",
       "   'team_num': 2,\n",
       "   'word_guessed': 'club',\n",
       "   'result': 2},\n",
       "  {'event': 'end guessing',\n",
       "   'timestamp': datetime.datetime(2020, 10, 16, 20, 33, 1, 197253),\n",
       "   'reason': 'no more guesses provided'},\n",
       "  {'event': 'clue_given',\n",
       "   'timestamp': datetime.datetime(2020, 10, 16, 20, 33, 3, 426129),\n",
       "   'team_num': 1,\n",
       "   'clue_word': 'obstacle',\n",
       "   'clue_count': 1,\n",
       "   'legal_clue': 'Yes'},\n",
       "  {'event': 'guess made',\n",
       "   'timestamp': datetime.datetime(2020, 10, 16, 20, 33, 3, 555128),\n",
       "   'team_num': 1,\n",
       "   'word_guessed': 'hurdle',\n",
       "   'result': 1},\n",
       "  {'event': 'end guessing',\n",
       "   'timestamp': datetime.datetime(2020, 10, 16, 20, 33, 3, 555128),\n",
       "   'reason': 'no more guesses provided'},\n",
       "  {'event': 'clue_given',\n",
       "   'timestamp': datetime.datetime(2020, 10, 16, 20, 33, 3, 742127),\n",
       "   'team_num': 2,\n",
       "   'clue_word': 'seat',\n",
       "   'clue_count': 1,\n",
       "   'legal_clue': 'Yes'},\n",
       "  {'event': 'guess made',\n",
       "   'timestamp': datetime.datetime(2020, 10, 16, 20, 33, 3, 862127),\n",
       "   'team_num': 2,\n",
       "   'word_guessed': 'bench',\n",
       "   'result': 2},\n",
       "  {'event': 'end guessing',\n",
       "   'timestamp': datetime.datetime(2020, 10, 16, 20, 33, 3, 862127),\n",
       "   'reason': 'no more guesses provided'},\n",
       "  {'event': 'clue_given',\n",
       "   'timestamp': datetime.datetime(2020, 10, 16, 20, 33, 4, 875682),\n",
       "   'team_num': 1,\n",
       "   'clue_word': 'pony',\n",
       "   'clue_count': 1,\n",
       "   'legal_clue': 'Yes'},\n",
       "  {'event': 'guess made',\n",
       "   'timestamp': datetime.datetime(2020, 10, 16, 20, 33, 4, 996718),\n",
       "   'team_num': 1,\n",
       "   'word_guessed': 'horse',\n",
       "   'result': 1},\n",
       "  {'event': 'end guessing',\n",
       "   'timestamp': datetime.datetime(2020, 10, 16, 20, 33, 4, 997685),\n",
       "   'reason': 'no more guesses provided'},\n",
       "  {'event': 'clue_given',\n",
       "   'timestamp': datetime.datetime(2020, 10, 16, 20, 33, 5, 124754),\n",
       "   'team_num': 2,\n",
       "   'clue_word': 'front',\n",
       "   'clue_count': 1,\n",
       "   'legal_clue': 'Yes'},\n",
       "  {'event': 'guess made',\n",
       "   'timestamp': datetime.datetime(2020, 10, 16, 20, 33, 5, 225722),\n",
       "   'team_num': 2,\n",
       "   'word_guessed': 'center',\n",
       "   'result': 1},\n",
       "  {'event': 'end guessing',\n",
       "   'timestamp': datetime.datetime(2020, 10, 16, 20, 33, 5, 226685),\n",
       "   'reason': 'incorrect guess made'},\n",
       "  {'event': 'clue_given',\n",
       "   'timestamp': datetime.datetime(2020, 10, 16, 20, 33, 5, 487687),\n",
       "   'team_num': 1,\n",
       "   'clue_word': 'attempt',\n",
       "   'clue_count': 1,\n",
       "   'legal_clue': 'Yes'},\n",
       "  {'event': 'guess made',\n",
       "   'timestamp': datetime.datetime(2020, 10, 16, 20, 33, 5, 590684),\n",
       "   'team_num': 1,\n",
       "   'word_guessed': 'pass',\n",
       "   'result': 1},\n",
       "  {'event': 'end guessing',\n",
       "   'timestamp': datetime.datetime(2020, 10, 16, 20, 33, 5, 590684),\n",
       "   'reason': 'no more guesses provided'},\n",
       "  {'event': 'clue_given',\n",
       "   'timestamp': datetime.datetime(2020, 10, 16, 20, 33, 5, 704722),\n",
       "   'team_num': 2,\n",
       "   'clue_word': 'cosset',\n",
       "   'clue_count': 1,\n",
       "   'legal_clue': 'Yes'},\n",
       "  {'event': 'guess made',\n",
       "   'timestamp': datetime.datetime(2020, 10, 16, 20, 33, 5, 800051),\n",
       "   'team_num': 2,\n",
       "   'word_guessed': 'sip',\n",
       "   'result': 1},\n",
       "  {'event': 'end guessing',\n",
       "   'timestamp': datetime.datetime(2020, 10, 16, 20, 33, 5, 800051),\n",
       "   'reason': 'incorrect guess made'},\n",
       "  {'event': 'clue_given',\n",
       "   'timestamp': datetime.datetime(2020, 10, 16, 20, 33, 5, 911081),\n",
       "   'team_num': 1,\n",
       "   'clue_word': 'jockey',\n",
       "   'clue_count': 1,\n",
       "   'legal_clue': 'Yes'},\n",
       "  {'event': 'guess made',\n",
       "   'timestamp': datetime.datetime(2020, 10, 16, 20, 33, 5, 996052),\n",
       "   'team_num': 1,\n",
       "   'word_guessed': 'vet',\n",
       "   'result': 0},\n",
       "  {'event': 'end guessing',\n",
       "   'timestamp': datetime.datetime(2020, 10, 16, 20, 33, 5, 996052),\n",
       "   'reason': 'incorrect guess made'},\n",
       "  {'event': 'clue_given',\n",
       "   'timestamp': datetime.datetime(2020, 10, 16, 20, 33, 6, 97211),\n",
       "   'team_num': 2,\n",
       "   'clue_word': 'black',\n",
       "   'clue_count': 1,\n",
       "   'legal_clue': 'Yes'},\n",
       "  {'event': 'guess made',\n",
       "   'timestamp': datetime.datetime(2020, 10, 16, 20, 33, 6, 175181),\n",
       "   'team_num': 2,\n",
       "   'word_guessed': 'chicken',\n",
       "   'result': 0},\n",
       "  {'event': 'end guessing',\n",
       "   'timestamp': datetime.datetime(2020, 10, 16, 20, 33, 6, 175181),\n",
       "   'reason': 'incorrect guess made'},\n",
       "  {'event': 'clue_given',\n",
       "   'timestamp': datetime.datetime(2020, 10, 16, 20, 33, 6, 273179),\n",
       "   'team_num': 1,\n",
       "   'clue_word': 'granddaughter',\n",
       "   'clue_count': 1,\n",
       "   'legal_clue': 'Yes'},\n",
       "  {'event': 'guess made',\n",
       "   'timestamp': datetime.datetime(2020, 10, 16, 20, 33, 6, 336180),\n",
       "   'team_num': 1,\n",
       "   'word_guessed': 'oyster',\n",
       "   'result': 0},\n",
       "  {'event': 'end guessing',\n",
       "   'timestamp': datetime.datetime(2020, 10, 16, 20, 33, 6, 337200),\n",
       "   'reason': 'incorrect guess made'},\n",
       "  {'event': 'clue_given',\n",
       "   'timestamp': datetime.datetime(2020, 10, 16, 20, 33, 6, 429233),\n",
       "   'team_num': 2,\n",
       "   'clue_word': 'buzz',\n",
       "   'clue_count': 1,\n",
       "   'legal_clue': 'Yes'},\n",
       "  {'event': 'guess made',\n",
       "   'timestamp': datetime.datetime(2020, 10, 16, 20, 33, 6, 490236),\n",
       "   'team_num': 2,\n",
       "   'word_guessed': 'reject',\n",
       "   'result': 0},\n",
       "  {'event': 'end guessing',\n",
       "   'timestamp': datetime.datetime(2020, 10, 16, 20, 33, 6, 490236),\n",
       "   'reason': 'incorrect guess made'},\n",
       "  {'event': 'clue_given',\n",
       "   'timestamp': datetime.datetime(2020, 10, 16, 20, 33, 6, 577232),\n",
       "   'team_num': 1,\n",
       "   'clue_word': 'religion',\n",
       "   'clue_count': 1,\n",
       "   'legal_clue': 'Yes'},\n",
       "  {'event': 'guess made',\n",
       "   'timestamp': datetime.datetime(2020, 10, 16, 20, 33, 6, 626231),\n",
       "   'team_num': 1,\n",
       "   'word_guessed': 'user',\n",
       "   'result': -1},\n",
       "  {'event': 'game over',\n",
       "   'timestamp': datetime.datetime(2020, 10, 16, 20, 33, 6, 626231),\n",
       "   'reason': 'Team 1 guessed assassin word'}],\n",
       " 'boardwords': [['ask', 'reject', 'quarantine', 'gambling', 'vote'],\n",
       "  ['club', 'profit', 'desk', 'pass', 'chicken'],\n",
       "  ['ghost', 'sip', 'center', 'winter', 'hurdle'],\n",
       "  ['Cleopatra', 'road', 'bench', 'oyster', 'pajamas'],\n",
       "  ['user', 'cough', 'vet', 'horse', 'taxi']],\n",
       " 'boardkey': [[1, 0, 2, 2, 1],\n",
       "  [2, 1, 2, 1, 0],\n",
       "  [2, 1, 1, 0, 1],\n",
       "  [1, 0, 2, 0, 2],\n",
       "  [-1, 0, 0, 1, 2]],\n",
       " 'teams': {'team 1': [1001, 1002], 'team 2': [1003, 1004]},\n",
       " 'winning team': {'num': 2,\n",
       "  'players': [{'player_id': 1003,\n",
       "    'Elo before update': {'Spymaster': 1500.0, 'Operative': 1500.0},\n",
       "    'Elo after update': {'Spymaster': 1500.0, 'Operative': 1500.0}},\n",
       "   {'player_id': 1004,\n",
       "    'Elo before update': {'Spymaster': 1500.0, 'Operative': 1500.0},\n",
       "    'Elo after update': {'Spymaster': 1500.0, 'Operative': 1500.0}}]},\n",
       " 'losing team': {'num': 1,\n",
       "  'players': [{'player_id': 1001,\n",
       "    'Elo before update': {'Spymaster': 1500.0, 'Operative': 1500.0},\n",
       "    'Elo after update': {'Spymaster': 1500.0, 'Operative': 1500.0}},\n",
       "   {'player_id': 1002,\n",
       "    'Elo before update': {'Spymaster': 1500.0, 'Operative': 1500.0},\n",
       "    'Elo after update': {'Spymaster': 1500.0, 'Operative': 1500.0}}]},\n",
       " 'start time': datetime.datetime(2020, 10, 16, 20, 30, 49, 365783),\n",
       " 'end time': datetime.datetime(2020, 10, 16, 20, 33, 6, 627232),\n",
       " 'boardmarkers': [[1.0, 0.0, nan, 2.0, 1.0],\n",
       "  [2.0, 1.0, 2.0, 1.0, 0.0],\n",
       "  [2.0, 1.0, 1.0, nan, 1.0],\n",
       "  [nan, nan, 2.0, 0.0, 2.0],\n",
       "  [-1.0, nan, 0.0, 1.0, 2.0]]}"
      ]
     },
     "execution_count": 30,
     "metadata": {},
     "output_type": "execute_result"
    }
   ],
   "source": [
    "my_game.logger.game_log # this command only works for LocalLogger, not for MongoLogger"
   ]
  },
  {
   "cell_type": "markdown",
   "metadata": {},
   "source": [
    "Lots of information there! Let's review.\n",
    "These are the keys in the top level of the log dict:\n",
    "- in_progress : True or False\n",
    "- events : this is where all of the events of the game are recorded (more detail below)\n",
    "- boardwords : the array from the gameboard\n",
    "- boardkey : the array from the gameboard\n",
    "- teams : the player_id for each player on each team\n",
    "- winning team : the information about each winner's Elo change after the game\n",
    "- losing team : the information about each loser's Elo change after the game\n",
    "- start time : in utc\n",
    "- end time : in utc\n",
    "- boardmarkers : the final status of the board revealing which words were guessed\n",
    "\n",
    "Note: not all of this information is present until the game is completed. However, you can still pull a log in the middle of a game. You can even pull a log from the MongoDB in the middle of the game using the API endpoint mentioned above. Also, note that when pulling a log from the server, some of this information is scrubbed from the log: information that you would not have had access to based on your role.\n",
    "\n",
    "So what's in 'events'?\n",
    "\n",
    "Events is a list of dicts. Each event is a dict. New events are appended to the end of the list, so the list is in chronological order. Here is what gets recorded as an event:\n",
    "- clue_given - records the word, the count, and whether the clue was a legal clue. If it wasn't, includes an explanation why not.\n",
    "- guess made - records the word guessed and the team that word belonged to. Note this is not the same as the guesses list. Guesses are made one at a time and each is recorded individually\n",
    "- guess skipped: guess not in unguessed_words - records the word that was attempted but did not exist\n",
    "- end guessing - can be for a number of reasons which are all recorded: illegal clue given, zero guesses provided, incorrect guess made, no more guesses provided, or num guesses provided exceeded clue_count+1\n",
    "- game over - records the reason why the game ended\n",
    "\n",
    "Use this information as you wish!"
   ]
  }
 ],
 "metadata": {
  "kernelspec": {
   "display_name": "Python 3",
   "language": "python",
   "name": "python3"
  },
  "language_info": {
   "codemirror_mode": {
    "name": "ipython",
    "version": 3
   },
   "file_extension": ".py",
   "mimetype": "text/x-python",
   "name": "python",
   "nbconvert_exporter": "python",
   "pygments_lexer": "ipython3",
   "version": "3.8.3"
  }
 },
 "nbformat": 4,
 "nbformat_minor": 4
}
