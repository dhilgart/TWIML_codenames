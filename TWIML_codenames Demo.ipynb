{
 "cells": [
  {
   "cell_type": "markdown",
   "metadata": {},
   "source": [
    "##### This jupyter notebook serves as a tutorial for the code used to run the TWIMLfest 2020 Codenames competition. Please first read through the [README](https://github.com/dhilgart/TWIML_codenames/blob/master/README.md) for an overview of the competition. The README also includes links to the rules of the official board game Codenames (by Vlaada Chvátil)  and a video that shows how to play."
   ]
  },
  {
   "cell_type": "code",
   "execution_count": 1,
   "metadata": {},
   "outputs": [
    {
     "name": "stderr",
     "output_type": "stream",
     "text": [
      "[nltk_data] Downloading package wordnet to\n",
      "[nltk_data]     C:\\Users\\dhilg\\AppData\\Roaming\\nltk_data...\n",
      "[nltk_data]   Package wordnet is already up-to-date!\n"
     ]
    }
   ],
   "source": [
    "import TWIML_codenames\n",
    "import numpy as np\n",
    "import random\n",
    "from datetime import datetime"
   ]
  },
  {
   "cell_type": "markdown",
   "metadata": {},
   "source": [
    "# How games get played"
   ]
  },
  {
   "cell_type": "markdown",
   "metadata": {},
   "source": [
    "In order for a game to be created, it needs a few objects provided on instantiation. First, let's "
   ]
  },
  {
   "cell_type": "markdown",
   "metadata": {},
   "source": [
    "### Create a TWIML_codenames.Gameboard object:"
   ]
  },
  {
   "cell_type": "code",
   "execution_count": 2,
   "metadata": {},
   "outputs": [],
   "source": [
    "#In order to create a gameboard, you must provide it with a list of words\n",
    "wordlist = ['hood','cross','point','bow','pass','plate','cell','theater','bell','scale','straw','press','force','laser','ambulance','thumb','bottle','scorpion','wave','day','revolution','turkey','fair','washer','mass']"
   ]
  },
  {
   "cell_type": "code",
   "execution_count": 3,
   "metadata": {},
   "outputs": [],
   "source": [
    "#create a gameboard:\n",
    "gameboard = TWIML_codenames.Gameboard(wordlist)"
   ]
  },
  {
   "cell_type": "markdown",
   "metadata": {},
   "source": [
    "A gameboard has 3 5x5 numpy arrays that store information about the gameboard. Let's visualize the words on the board:"
   ]
  },
  {
   "cell_type": "code",
   "execution_count": 4,
   "metadata": {},
   "outputs": [
    {
     "data": {
      "text/plain": [
       "array([['bell', 'washer', 'day', 'fair', 'hood'],\n",
       "       ['thumb', 'revolution', 'scorpion', 'bottle', 'press'],\n",
       "       ['pass', 'ambulance', 'plate', 'scale', 'force'],\n",
       "       ['cross', 'turkey', 'straw', 'cell', 'theater'],\n",
       "       ['laser', 'point', 'bow', 'mass', 'wave']], dtype='<U10')"
      ]
     },
     "execution_count": 4,
     "metadata": {},
     "output_type": "execute_result"
    }
   ],
   "source": [
    "gameboard.boardwords"
   ]
  },
  {
   "cell_type": "markdown",
   "metadata": {},
   "source": [
    "Now let's visualize the key, which tells the spymasters which words belong to which team. The teams are as follows: \n",
    "- 1 = team 1\n",
    "- 2 = team 2\n",
    "- 0 = neutral\n",
    "- -1 = assassin\n",
    "\n",
    "Note: we do not use blue team and red team. Whichever team goes first is team 1 and has 1 extra word they need to guess."
   ]
  },
  {
   "cell_type": "code",
   "execution_count": 5,
   "metadata": {},
   "outputs": [
    {
     "data": {
      "text/plain": [
       "array([[-1,  2,  1,  1,  0],\n",
       "       [ 2,  1,  0,  2,  1],\n",
       "       [ 1,  0,  1,  2,  1],\n",
       "       [ 0,  1,  2,  2,  0],\n",
       "       [ 2,  1,  0,  2,  0]])"
      ]
     },
     "execution_count": 5,
     "metadata": {},
     "output_type": "execute_result"
    }
   ],
   "source": [
    "gameboard.boardkey"
   ]
  },
  {
   "cell_type": "markdown",
   "metadata": {},
   "source": [
    "Lastly, there is an array that stores a record of which words have been guessed so far in the game. At the beginning of the game, it is all np.NaN:"
   ]
  },
  {
   "cell_type": "code",
   "execution_count": 6,
   "metadata": {},
   "outputs": [
    {
     "data": {
      "text/plain": [
       "array([[nan, nan, nan, nan, nan],\n",
       "       [nan, nan, nan, nan, nan],\n",
       "       [nan, nan, nan, nan, nan],\n",
       "       [nan, nan, nan, nan, nan],\n",
       "       [nan, nan, nan, nan, nan]])"
      ]
     },
     "execution_count": 6,
     "metadata": {},
     "output_type": "execute_result"
    }
   ],
   "source": [
    "gameboard.boardmarkers"
   ]
  },
  {
   "cell_type": "markdown",
   "metadata": {},
   "source": [
    "The next thing the TWIML_codenames.Game needs is players! It requires a list of TWIML_codenames.Player objects on team1 and on team2. So, let's"
   ]
  },
  {
   "cell_type": "markdown",
   "metadata": {},
   "source": [
    "### Create TWIML_codenames.Player objects:"
   ]
  },
  {
   "cell_type": "markdown",
   "metadata": {},
   "source": [
    "We will need 4 Player objects: 2 for team 1 and 2 for team 2. Let's put them in a list called playerlist. Each Player object will need a player_id. For the competition, your player_ID has been emailed to you. For this demo, let's use player_IDs 1001, 1002, 1003, and 1004."
   ]
  },
  {
   "cell_type": "code",
   "execution_count": 7,
   "metadata": {},
   "outputs": [
    {
     "name": "stdout",
     "output_type": "stream",
     "text": [
      "<TWIML_codenames.Player object at 0x000001A959F2F130>\n",
      "<TWIML_codenames.Player object at 0x000001A959F2F160>\n",
      "<TWIML_codenames.Player object at 0x000001A959F2F280>\n",
      "<TWIML_codenames.Player object at 0x000001A959E91CD0>\n"
     ]
    }
   ],
   "source": [
    "playerlist=[]\n",
    "for i in range(4):\n",
    "    playerlist.append(TWIML_codenames.Player(1001+i))\n",
    "    print(playerlist[i])"
   ]
  },
  {
   "cell_type": "markdown",
   "metadata": {},
   "source": [
    "Let's investigate what a TWIML_codenames.Player object contains. It stores:\n",
    "- the player_id\n",
    "- the Elo ratings of the player (These will be used to determine the winners. See the README for details)\n",
    "- the Win-Loss records of the player"
   ]
  },
  {
   "cell_type": "code",
   "execution_count": 8,
   "metadata": {},
   "outputs": [
    {
     "data": {
      "text/plain": [
       "1001"
      ]
     },
     "execution_count": 8,
     "metadata": {},
     "output_type": "execute_result"
    }
   ],
   "source": [
    "playerlist[0].player_id"
   ]
  },
  {
   "cell_type": "code",
   "execution_count": 9,
   "metadata": {},
   "outputs": [
    {
     "data": {
      "text/plain": [
       "{'Spymaster': 1500.0, 'Operative': 1500.0}"
      ]
     },
     "execution_count": 9,
     "metadata": {},
     "output_type": "execute_result"
    }
   ],
   "source": [
    "playerlist[0].Elo"
   ]
  },
  {
   "cell_type": "code",
   "execution_count": 10,
   "metadata": {},
   "outputs": [
    {
     "data": {
      "text/plain": [
       "{'Spymaster': {'W': 0, 'L': 0}, 'Operative': {'W': 0, 'L': 0}}"
      ]
     },
     "execution_count": 10,
     "metadata": {},
     "output_type": "execute_result"
    }
   ],
   "source": [
    "playerlist[0].record"
   ]
  },
  {
   "cell_type": "markdown",
   "metadata": {},
   "source": [
    "Note that the Elo ratings and records have been pre-populated on instantiation. Both Elo and W-L record are tracked separately for the Spymaster and Operative roles."
   ]
  },
  {
   "cell_type": "markdown",
   "metadata": {},
   "source": [
    "We have everything we need to create a game! Let's do it!"
   ]
  },
  {
   "cell_type": "markdown",
   "metadata": {},
   "source": [
    "### Create a TWIML_codenames.Game object:"
   ]
  },
  {
   "cell_type": "code",
   "execution_count": 11,
   "metadata": {},
   "outputs": [],
   "source": [
    "# first split the players into teams:\n",
    "team1 = playerlist[:2]\n",
    "team2 = playerlist[2:]"
   ]
  },
  {
   "cell_type": "code",
   "execution_count": 12,
   "metadata": {},
   "outputs": [],
   "source": [
    "# then create the game:\n",
    "my_game = TWIML_codenames.Game(gameboard = gameboard, team1 = team1, team2 = team2)"
   ]
  },
  {
   "cell_type": "markdown",
   "metadata": {},
   "source": [
    "The game is ready! \n",
    "\n",
    "When a game is instantiated, it sets all of its internal variables to prepare for the Team 1 Spymaster to give the first clue. Let's take a look:"
   ]
  },
  {
   "cell_type": "code",
   "execution_count": 13,
   "metadata": {},
   "outputs": [
    {
     "data": {
      "text/plain": [
       "1"
      ]
     },
     "execution_count": 13,
     "metadata": {},
     "output_type": "execute_result"
    }
   ],
   "source": [
    "my_game.curr_team"
   ]
  },
  {
   "cell_type": "code",
   "execution_count": 14,
   "metadata": {},
   "outputs": [
    {
     "data": {
      "text/plain": [
       "'spymaster'"
      ]
     },
     "execution_count": 14,
     "metadata": {},
     "output_type": "execute_result"
    }
   ],
   "source": [
    "my_game.waiting_on"
   ]
  },
  {
   "cell_type": "markdown",
   "metadata": {},
   "source": [
    "Let's not keep the game waiting too long! We need to"
   ]
  },
  {
   "cell_type": "markdown",
   "metadata": {},
   "source": [
    "### Feed the game a clue:"
   ]
  },
  {
   "cell_type": "markdown",
   "metadata": {},
   "source": [
    "In order to do so, let's load my_model.py"
   ]
  },
  {
   "cell_type": "code",
   "execution_count": 15,
   "metadata": {},
   "outputs": [],
   "source": [
    "import my_model as model"
   ]
  },
  {
   "cell_type": "markdown",
   "metadata": {},
   "source": [
    "Now all we need to do to figure out what clue to feed the game is call model.generate_clue:"
   ]
  },
  {
   "cell_type": "code",
   "execution_count": 16,
   "metadata": {},
   "outputs": [],
   "source": [
    "# when interacting with a game on the server, client_run.py first calls game.solicit_clue_inputs(): \n",
    "pull_team_num, pull_gameboard = my_game.solicit_clue_inputs()\n",
    "# you can skip this step when running locally by just using my_game.curr_team and my_game.gameboard as in the next cell:"
   ]
  },
  {
   "cell_type": "code",
   "execution_count": 17,
   "metadata": {},
   "outputs": [
    {
     "name": "stderr",
     "output_type": "stream",
     "text": [
      "C:\\Users\\dhilg\\OneDrive\\Documents\\Dan\\Python\\Codenames\\git\\TWIML_codenames\\my_model.py:54: UserWarning: [W008] Evaluating Token.similarity based on empty vectors.\n",
      "  return 1 - tokens[0].similarity(tokens[1])\n"
     ]
    },
    {
     "name": "stdout",
     "output_type": "stream",
     "text": [
      "Wall time: 3min 56s\n"
     ]
    }
   ],
   "source": [
    "%%time\n",
    "# this can take awhile with the template bot. On my laptop it takes about 3.5 minutes. \n",
    "# You may want to reduce the size of the sample taken from nounlist to improve the runtime.\n",
    "# Reduce the 1000 in this line in my_model.py: np.random.choice(full_candidates,1000, replace=False)\n",
    "clue_word, clue_count = model.generate_clue(game_id=1, # note: game_id is a required input of model.generate_clue so that you can keep track of which game is asking for a clue. Each game on the server will have a unique, 6-digit integer for the game_id. For the purposes of this demo, we will just give it a game_id of 1.\n",
    "                                            team_num=my_game.curr_team, \n",
    "                                            gameboard=my_game.gameboard)"
   ]
  },
  {
   "cell_type": "markdown",
   "metadata": {},
   "source": [
    "Let's take a look at what clue_word and clue_count it generated:"
   ]
  },
  {
   "cell_type": "code",
   "execution_count": 18,
   "metadata": {},
   "outputs": [
    {
     "name": "stdout",
     "output_type": "stream",
     "text": [
      "My bot says: \"rush for 1!\"\n"
     ]
    }
   ],
   "source": [
    "print(f'My bot says: \"{clue_word} for {clue_count}!\"')"
   ]
  },
  {
   "cell_type": "markdown",
   "metadata": {},
   "source": [
    "Can you tell what word(s) it wants the operative to guess with that clue? Let's look at the board:"
   ]
  },
  {
   "cell_type": "code",
   "execution_count": 19,
   "metadata": {},
   "outputs": [
    {
     "name": "stdout",
     "output_type": "stream",
     "text": [
      "[['bell' 'washer' 'day' 'fair' 'hood']\n",
      " ['thumb' 'revolution' 'scorpion' 'bottle' 'press']\n",
      " ['pass' 'ambulance' 'plate' 'scale' 'force']\n",
      " ['cross' 'turkey' 'straw' 'cell' 'theater']\n",
      " ['laser' 'point' 'bow' 'mass' 'wave']]\n",
      "[[-1  2  1  1  0]\n",
      " [ 2  1  0  2  1]\n",
      " [ 1  0  1  2  1]\n",
      " [ 0  1  2  2  0]\n",
      " [ 2  1  0  2  0]]\n"
     ]
    }
   ],
   "source": [
    "print(my_game.gameboard.boardwords)\n",
    "print(my_game.gameboard.boardkey)"
   ]
  },
  {
   "cell_type": "markdown",
   "metadata": {},
   "source": [
    "Ok, let's feed the clue back to the game:"
   ]
  },
  {
   "cell_type": "code",
   "execution_count": 20,
   "metadata": {},
   "outputs": [],
   "source": [
    "my_game.clue_given(clue_word, clue_count)"
   ]
  },
  {
   "cell_type": "markdown",
   "metadata": {},
   "source": [
    "Let's check the status:"
   ]
  },
  {
   "cell_type": "code",
   "execution_count": 21,
   "metadata": {},
   "outputs": [
    {
     "data": {
      "text/plain": [
       "1"
      ]
     },
     "execution_count": 21,
     "metadata": {},
     "output_type": "execute_result"
    }
   ],
   "source": [
    "my_game.curr_team"
   ]
  },
  {
   "cell_type": "code",
   "execution_count": 22,
   "metadata": {},
   "outputs": [
    {
     "data": {
      "text/plain": [
       "'operative'"
      ]
     },
     "execution_count": 22,
     "metadata": {},
     "output_type": "execute_result"
    }
   ],
   "source": [
    "my_game.waiting_on"
   ]
  },
  {
   "cell_type": "markdown",
   "metadata": {},
   "source": [
    "The game is ready for Team 1's Operative (i.e. guesser) to respond. \n",
    "As above, we could pull the inputs the guesser will need using my_game.solicit_guesses_inputs(), but we will skip that for this demo. Time to"
   ]
  },
  {
   "cell_type": "markdown",
   "metadata": {},
   "source": [
    "### Feed the game a list of guesses:"
   ]
  },
  {
   "cell_type": "markdown",
   "metadata": {},
   "source": [
    "First, ask the model generate the list:"
   ]
  },
  {
   "cell_type": "code",
   "execution_count": 23,
   "metadata": {},
   "outputs": [],
   "source": [
    "guesses = model.generate_guesses(game_id = 1, # see comment on game_id when we generated the clues \n",
    "                                 team_num = my_game.curr_team, \n",
    "                                 clue_word = my_game.curr_clue_word, \n",
    "                                 clue_count = my_game.curr_clue_count, \n",
    "                                 unguessed_words = my_game.gameboard.unguessed_words(), # gameboard.unguessed_words() returns a 1-D list of all the words on the board that have not yet been guessed\n",
    "                                 boardwords = my_game.gameboard.boardwords, \n",
    "                                 boardmarkers = my_game.gameboard.boardmarkers)\n",
    "# note that the gameboard is not passed to the guesser function in whole. If it were, the guesser would have access to the key!"
   ]
  },
  {
   "cell_type": "markdown",
   "metadata": {},
   "source": [
    "Let's take a look at what the bot generated. Does it match with what you thought above?"
   ]
  },
  {
   "cell_type": "code",
   "execution_count": 24,
   "metadata": {},
   "outputs": [
    {
     "data": {
      "text/plain": [
       "['pass']"
      ]
     },
     "execution_count": 24,
     "metadata": {},
     "output_type": "execute_result"
    }
   ],
   "source": [
    "guesses"
   ]
  },
  {
   "cell_type": "markdown",
   "metadata": {},
   "source": [
    "Send it back to the game:"
   ]
  },
  {
   "cell_type": "code",
   "execution_count": 25,
   "metadata": {},
   "outputs": [],
   "source": [
    "my_game.guesses_given(guesses)"
   ]
  },
  {
   "cell_type": "markdown",
   "metadata": {},
   "source": [
    "Let's see what happened. Check the boardmarkers and the boardwords. Did the bot get it right?"
   ]
  },
  {
   "cell_type": "code",
   "execution_count": 26,
   "metadata": {},
   "outputs": [
    {
     "name": "stdout",
     "output_type": "stream",
     "text": [
      "[[nan nan nan nan nan]\n",
      " [nan nan nan nan nan]\n",
      " [ 1. nan nan nan nan]\n",
      " [nan nan nan nan nan]\n",
      " [nan nan nan nan nan]]\n",
      "[['bell' 'washer' 'day' 'fair' 'hood']\n",
      " ['thumb' 'revolution' 'scorpion' 'bottle' 'press']\n",
      " ['pass' 'ambulance' 'plate' 'scale' 'force']\n",
      " ['cross' 'turkey' 'straw' 'cell' 'theater']\n",
      " ['laser' 'point' 'bow' 'mass' 'wave']]\n"
     ]
    }
   ],
   "source": [
    "print(my_game.gameboard.boardmarkers)\n",
    "print(my_game.gameboard.boardwords)"
   ]
  },
  {
   "cell_type": "markdown",
   "metadata": {},
   "source": [
    "Let's check the status again:"
   ]
  },
  {
   "cell_type": "code",
   "execution_count": 27,
   "metadata": {},
   "outputs": [
    {
     "data": {
      "text/plain": [
       "2"
      ]
     },
     "execution_count": 27,
     "metadata": {},
     "output_type": "execute_result"
    }
   ],
   "source": [
    "my_game.curr_team"
   ]
  },
  {
   "cell_type": "code",
   "execution_count": 28,
   "metadata": {},
   "outputs": [
    {
     "data": {
      "text/plain": [
       "'spymaster'"
      ]
     },
     "execution_count": 28,
     "metadata": {},
     "output_type": "execute_result"
    }
   ],
   "source": [
    "my_game.waiting_on"
   ]
  },
  {
   "cell_type": "markdown",
   "metadata": {},
   "source": [
    "Team 1's turn is done! The game is ready for Team 2's Spymaster to give a clue!\n",
    "\n",
    "We don't need to go through each guess one at a time. Let's automate the rest of the game:"
   ]
  },
  {
   "cell_type": "markdown",
   "metadata": {},
   "source": [
    "### Simulate the rest of the game:"
   ]
  },
  {
   "cell_type": "code",
   "execution_count": 29,
   "metadata": {
    "scrolled": true
   },
   "outputs": [
    {
     "name": "stdout",
     "output_type": "stream",
     "text": [
      "Clue generated. Duration = 0:03:32.983610. Total elapsed time = 0:03:32.984611\n",
      "My bot says: \"finger for 1!\"\n",
      "Guesses generated. Duration = 0:00:00.206139. Total elapsed time = 0:03:33.191751\n",
      "guesses = ['thumb']\n",
      "Clue generated. Duration = 0:03:21.912924. Total elapsed time = 0:06:55.105672\n",
      "My bot says: \"morning for 1!\"\n",
      "Guesses generated. Duration = 0:00:00.177001. Total elapsed time = 0:06:55.282673\n",
      "guesses = ['day']\n",
      "Clue generated. Duration = 0:03:26.804228. Total elapsed time = 0:10:22.086901\n",
      "My bot says: \"phone for 1!\"\n",
      "Guesses generated. Duration = 0:00:00.311182. Total elapsed time = 0:10:22.401086\n",
      "guesses = ['cell']\n",
      "Clue generated. Duration = 0:03:23.674126. Total elapsed time = 0:13:46.076203\n",
      "My bot says: \"thought for 1!\"\n",
      "Guesses generated. Duration = 0:00:00.142996. Total elapsed time = 0:13:46.219199\n",
      "guesses = ['point']\n",
      "Clue generated. Duration = 0:02:29.595017. Total elapsed time = 0:16:15.814216\n",
      "My bot says: \"wine for 1!\"\n",
      "Guesses generated. Duration = 0:00:00.134035. Total elapsed time = 0:16:15.949207\n",
      "guesses = ['bottle']\n",
      "Clue generated. Duration = 0:02:34.032625. Total elapsed time = 0:18:49.982832\n",
      "My bot says: \"beef for 1!\"\n",
      "Guesses generated. Duration = 0:00:00.155000. Total elapsed time = 0:18:50.137832\n",
      "guesses = ['turkey']\n",
      "Clue generated. Duration = 0:03:27.243519. Total elapsed time = 0:22:17.381351\n",
      "My bot says: \"tub for 1!\"\n",
      "Guesses generated. Duration = 0:00:00.190048. Total elapsed time = 0:22:17.572400\n",
      "guesses = ['washer']\n",
      "Clue generated. Duration = 0:03:40.679018. Total elapsed time = 0:25:58.252421\n",
      "My bot says: \"platter for 1!\"\n",
      "Guesses generated. Duration = 0:00:00.205648. Total elapsed time = 0:25:58.460066\n",
      "guesses = ['plate']\n",
      "Clue generated. Duration = 0:03:21.290312. Total elapsed time = 0:29:19.750378\n",
      "My bot says: \"beam for 1!\"\n",
      "Guesses generated. Duration = 0:00:00.177578. Total elapsed time = 0:29:19.929956\n",
      "guesses = ['laser']\n",
      "Clue generated. Duration = 0:03:15.583377. Total elapsed time = 0:32:35.514334\n",
      "My bot says: \"anarchy for 1!\"\n",
      "Guesses generated. Duration = 0:00:00.249528. Total elapsed time = 0:32:35.767859\n",
      "guesses = ['revolution']\n",
      "Clue generated. Duration = 0:02:35.951689. Total elapsed time = 0:35:11.721547\n",
      "My bot says: \"destruction for 1!\"\n",
      "Guesses generated. Duration = 0:00:00.131289. Total elapsed time = 0:35:11.853836\n",
      "guesses = ['force']\n",
      "Clue generated. Duration = 0:02:22.463753. Total elapsed time = 0:37:34.317589\n",
      "My bot says: \"pay for 1!\"\n",
      "Guesses generated. Duration = 0:00:00.155001. Total elapsed time = 0:37:34.473590\n",
      "guesses = ['scorpion']\n",
      "Clue generated. Duration = 0:02:44.858085. Total elapsed time = 0:40:19.332674\n",
      "My bot says: \"plastic for 1!\"\n",
      "Guesses generated. Duration = 0:00:00.209668. Total elapsed time = 0:40:19.545345\n",
      "guesses = ['ambulance']\n",
      "Clue generated. Duration = 0:02:28.719972. Total elapsed time = 0:42:48.268280\n",
      "My bot says: \"hope for 1!\"\n",
      "Guesses generated. Duration = 0:00:00.130523. Total elapsed time = 0:42:48.399803\n",
      "guesses = ['theater']\n",
      "Clue generated. Duration = 0:02:08.121267. Total elapsed time = 0:44:56.522070\n",
      "My bot says: \"force for 1!\"\n",
      "Guesses generated. Duration = 0:00:00.109998. Total elapsed time = 0:44:56.633066\n",
      "guesses = ['mass']\n",
      "Clue generated. Duration = 0:01:55.661008. Total elapsed time = 0:46:52.294074\n",
      "My bot says: \"well for 1!\"\n",
      "Guesses generated. Duration = 0:00:00.144540. Total elapsed time = 0:46:52.440614\n",
      "guesses = ['fair']\n",
      "Clue generated. Duration = 0:01:43.585066. Total elapsed time = 0:48:36.026680\n",
      "My bot says: \"compost for 1!\"\n",
      "Guesses generated. Duration = 0:00:00.093055. Total elapsed time = 0:48:36.119735\n",
      "guesses = ['hood']\n",
      "Clue generated. Duration = 0:01:29.072165. Total elapsed time = 0:50:05.193899\n",
      "My bot says: \"frame for 1!\"\n",
      "Guesses generated. Duration = 0:00:00.067022. Total elapsed time = 0:50:05.261927\n",
      "guesses = ['wave']\n",
      "Clue generated. Duration = 0:01:15.480637. Total elapsed time = 0:51:20.742564\n",
      "My bot says: \"wool for 1!\"\n",
      "Guesses generated. Duration = 0:00:00.072001. Total elapsed time = 0:51:20.815554\n",
      "guesses = ['bell']\n"
     ]
    }
   ],
   "source": [
    "start_time=datetime.now()\n",
    "while my_game.game_completed == False:\n",
    "    # here we ignore that team 1 and team 2 will have different models and assume that regardless \n",
    "    # of which team's turn it is, we use the same model for the spymaster and the operative\n",
    "    \n",
    "    if my_game.waiting_on == 'spymaster':\n",
    "        clue_start_time=datetime.now()\n",
    "        clue_word, clue_count = model.generate_clue(game_id=1,\n",
    "                                                    team_num=my_game.curr_team, \n",
    "                                                    gameboard=my_game.gameboard)\n",
    "        print(f'Clue generated. Duration = {datetime.now()-clue_start_time}. Total elapsed time = {datetime.now()-start_time}')\n",
    "        print(f'My bot says: \"{clue_word} for {clue_count}!\"')\n",
    "        my_game.clue_given(clue_word, clue_count)\n",
    "    else:\n",
    "        guess_start_time=datetime.now()\n",
    "        guesses = model.generate_guesses(game_id = 1,\n",
    "                                         team_num = my_game.curr_team, \n",
    "                                         clue_word = my_game.curr_clue_word, \n",
    "                                         clue_count = my_game.curr_clue_count, \n",
    "                                         unguessed_words = my_game.gameboard.unguessed_words(),\n",
    "                                         boardwords = my_game.gameboard.boardwords, \n",
    "                                         boardmarkers = my_game.gameboard.boardmarkers)\n",
    "        print(f'Guesses generated. Duration = {datetime.now()-guess_start_time}. Total elapsed time = {datetime.now()-start_time}')\n",
    "        print(f'guesses = {guesses}')\n",
    "        my_game.guesses_given(guesses)"
   ]
  },
  {
   "cell_type": "markdown",
   "metadata": {},
   "source": [
    "There you have it! A completed game! But that's not all. There's something else we haven't talked about that you might be interested in: the game log!"
   ]
  },
  {
   "cell_type": "markdown",
   "metadata": {},
   "source": [
    "# The game log"
   ]
  },
  {
   "cell_type": "markdown",
   "metadata": {},
   "source": [
    "A TWIML_codenames.Game object is always created with a logger object. If no logger is supplied at initialization, a TWIML_codenames.LocalLogger object will be created for the game. LocalLogger stores the gamelog in memory. For games played on the server, a TWIML_codenames_API_server.MongoLogger is supplied at Game initialization, so the log is stored to a MongoDB. The server game logs can be retrieved using the @app.get(\"http<span>://twiml-codenames.herokuapp</span>.com/{game_id}/log/\") API endpoint. Either way, the logger stores the same information as a multi-nested dict."
   ]
  },
  {
   "cell_type": "markdown",
   "metadata": {},
   "source": [
    "Let's take a look at the log for this game:"
   ]
  },
  {
   "cell_type": "code",
   "execution_count": 30,
   "metadata": {},
   "outputs": [
    {
     "data": {
      "text/plain": [
       "{'in_progress': False,\n",
       " 'events': [{'event': 'clue_given',\n",
       "   'timestamp': datetime.datetime(2020, 10, 16, 13, 37, 52, 360643),\n",
       "   'team_num': 1,\n",
       "   'clue_word': 'rush',\n",
       "   'clue_count': 1,\n",
       "   'legal_clue': 'Yes'},\n",
       "  {'event': 'guess made',\n",
       "   'timestamp': datetime.datetime(2020, 10, 16, 13, 37, 52, 649161),\n",
       "   'team_num': 1,\n",
       "   'word_guessed': 'pass',\n",
       "   'result': 1},\n",
       "  {'event': 'end guessing',\n",
       "   'timestamp': datetime.datetime(2020, 10, 16, 13, 37, 52, 650163),\n",
       "   'reason': 'no more guesses provided'},\n",
       "  {'event': 'clue_given',\n",
       "   'timestamp': datetime.datetime(2020, 10, 16, 13, 41, 25, 698781),\n",
       "   'team_num': 2,\n",
       "   'clue_word': 'finger',\n",
       "   'clue_count': 1,\n",
       "   'legal_clue': 'Yes'},\n",
       "  {'event': 'guess made',\n",
       "   'timestamp': datetime.datetime(2020, 10, 16, 13, 41, 25, 905917),\n",
       "   'team_num': 2,\n",
       "   'word_guessed': 'thumb',\n",
       "   'result': 2},\n",
       "  {'event': 'end guessing',\n",
       "   'timestamp': datetime.datetime(2020, 10, 16, 13, 41, 25, 905917),\n",
       "   'reason': 'no more guesses provided'},\n",
       "  {'event': 'clue_given',\n",
       "   'timestamp': datetime.datetime(2020, 10, 16, 13, 44, 47, 818841),\n",
       "   'team_num': 1,\n",
       "   'clue_word': 'morning',\n",
       "   'clue_count': 1,\n",
       "   'legal_clue': 'Yes'},\n",
       "  {'event': 'guess made',\n",
       "   'timestamp': datetime.datetime(2020, 10, 16, 13, 44, 47, 995842),\n",
       "   'team_num': 1,\n",
       "   'word_guessed': 'day',\n",
       "   'result': 1},\n",
       "  {'event': 'end guessing',\n",
       "   'timestamp': datetime.datetime(2020, 10, 16, 13, 44, 47, 995842),\n",
       "   'reason': 'no more guesses provided'},\n",
       "  {'event': 'clue_given',\n",
       "   'timestamp': datetime.datetime(2020, 10, 16, 13, 48, 14, 803073),\n",
       "   'team_num': 2,\n",
       "   'clue_word': 'phone',\n",
       "   'clue_count': 1,\n",
       "   'legal_clue': 'Yes'},\n",
       "  {'event': 'guess made',\n",
       "   'timestamp': datetime.datetime(2020, 10, 16, 13, 48, 15, 114255),\n",
       "   'team_num': 2,\n",
       "   'word_guessed': 'cell',\n",
       "   'result': 2},\n",
       "  {'event': 'end guessing',\n",
       "   'timestamp': datetime.datetime(2020, 10, 16, 13, 48, 15, 115246),\n",
       "   'reason': 'no more guesses provided'},\n",
       "  {'event': 'clue_given',\n",
       "   'timestamp': datetime.datetime(2020, 10, 16, 13, 51, 38, 789372),\n",
       "   'team_num': 1,\n",
       "   'clue_word': 'thought',\n",
       "   'clue_count': 1,\n",
       "   'legal_clue': 'Yes'},\n",
       "  {'event': 'guess made',\n",
       "   'timestamp': datetime.datetime(2020, 10, 16, 13, 51, 38, 932368),\n",
       "   'team_num': 1,\n",
       "   'word_guessed': 'point',\n",
       "   'result': 1},\n",
       "  {'event': 'end guessing',\n",
       "   'timestamp': datetime.datetime(2020, 10, 16, 13, 51, 38, 932368),\n",
       "   'reason': 'no more guesses provided'},\n",
       "  {'event': 'clue_given',\n",
       "   'timestamp': datetime.datetime(2020, 10, 16, 13, 54, 8, 528341),\n",
       "   'team_num': 2,\n",
       "   'clue_word': 'wine',\n",
       "   'clue_count': 1,\n",
       "   'legal_clue': 'Yes'},\n",
       "  {'event': 'guess made',\n",
       "   'timestamp': datetime.datetime(2020, 10, 16, 13, 54, 8, 662376),\n",
       "   'team_num': 2,\n",
       "   'word_guessed': 'bottle',\n",
       "   'result': 2},\n",
       "  {'event': 'end guessing',\n",
       "   'timestamp': datetime.datetime(2020, 10, 16, 13, 54, 8, 662376),\n",
       "   'reason': 'no more guesses provided'},\n",
       "  {'event': 'clue_given',\n",
       "   'timestamp': datetime.datetime(2020, 10, 16, 13, 56, 42, 696001),\n",
       "   'team_num': 1,\n",
       "   'clue_word': 'beef',\n",
       "   'clue_count': 1,\n",
       "   'legal_clue': 'Yes'},\n",
       "  {'event': 'guess made',\n",
       "   'timestamp': datetime.datetime(2020, 10, 16, 13, 56, 42, 851001),\n",
       "   'team_num': 1,\n",
       "   'word_guessed': 'turkey',\n",
       "   'result': 1},\n",
       "  {'event': 'end guessing',\n",
       "   'timestamp': datetime.datetime(2020, 10, 16, 13, 56, 42, 851001),\n",
       "   'reason': 'no more guesses provided'},\n",
       "  {'event': 'clue_given',\n",
       "   'timestamp': datetime.datetime(2020, 10, 16, 14, 0, 10, 95521),\n",
       "   'team_num': 2,\n",
       "   'clue_word': 'tub',\n",
       "   'clue_count': 1,\n",
       "   'legal_clue': 'Yes'},\n",
       "  {'event': 'guess made',\n",
       "   'timestamp': datetime.datetime(2020, 10, 16, 14, 0, 10, 286572),\n",
       "   'team_num': 2,\n",
       "   'word_guessed': 'washer',\n",
       "   'result': 2},\n",
       "  {'event': 'end guessing',\n",
       "   'timestamp': datetime.datetime(2020, 10, 16, 14, 0, 10, 286572),\n",
       "   'reason': 'no more guesses provided'},\n",
       "  {'event': 'clue_given',\n",
       "   'timestamp': datetime.datetime(2020, 10, 16, 14, 3, 50, 967587),\n",
       "   'team_num': 1,\n",
       "   'clue_word': 'platter',\n",
       "   'clue_count': 1,\n",
       "   'legal_clue': 'Yes'},\n",
       "  {'event': 'guess made',\n",
       "   'timestamp': datetime.datetime(2020, 10, 16, 14, 3, 51, 173235),\n",
       "   'team_num': 1,\n",
       "   'word_guessed': 'plate',\n",
       "   'result': 1},\n",
       "  {'event': 'end guessing',\n",
       "   'timestamp': datetime.datetime(2020, 10, 16, 14, 3, 51, 173235),\n",
       "   'reason': 'no more guesses provided'},\n",
       "  {'event': 'clue_given',\n",
       "   'timestamp': datetime.datetime(2020, 10, 16, 14, 7, 12, 465547),\n",
       "   'team_num': 2,\n",
       "   'clue_word': 'beam',\n",
       "   'clue_count': 1,\n",
       "   'legal_clue': 'Yes'},\n",
       "  {'event': 'guess made',\n",
       "   'timestamp': datetime.datetime(2020, 10, 16, 14, 7, 12, 644126),\n",
       "   'team_num': 2,\n",
       "   'word_guessed': 'laser',\n",
       "   'result': 2},\n",
       "  {'event': 'end guessing',\n",
       "   'timestamp': datetime.datetime(2020, 10, 16, 14, 7, 12, 644126),\n",
       "   'reason': 'no more guesses provided'},\n",
       "  {'event': 'clue_given',\n",
       "   'timestamp': datetime.datetime(2020, 10, 16, 14, 10, 28, 231500),\n",
       "   'team_num': 1,\n",
       "   'clue_word': 'anarchy',\n",
       "   'clue_count': 1,\n",
       "   'legal_clue': 'Yes'},\n",
       "  {'event': 'guess made',\n",
       "   'timestamp': datetime.datetime(2020, 10, 16, 14, 10, 28, 482028),\n",
       "   'team_num': 1,\n",
       "   'word_guessed': 'revolution',\n",
       "   'result': 1},\n",
       "  {'event': 'end guessing',\n",
       "   'timestamp': datetime.datetime(2020, 10, 16, 14, 10, 28, 483027),\n",
       "   'reason': 'no more guesses provided'},\n",
       "  {'event': 'clue_given',\n",
       "   'timestamp': datetime.datetime(2020, 10, 16, 14, 13, 4, 435716),\n",
       "   'team_num': 2,\n",
       "   'clue_word': 'destruction',\n",
       "   'clue_count': 1,\n",
       "   'legal_clue': 'Yes'},\n",
       "  {'event': 'guess made',\n",
       "   'timestamp': datetime.datetime(2020, 10, 16, 14, 13, 4, 567005),\n",
       "   'team_num': 2,\n",
       "   'word_guessed': 'force',\n",
       "   'result': 1},\n",
       "  {'event': 'end guessing',\n",
       "   'timestamp': datetime.datetime(2020, 10, 16, 14, 13, 4, 567005),\n",
       "   'reason': 'incorrect guess made'},\n",
       "  {'event': 'clue_given',\n",
       "   'timestamp': datetime.datetime(2020, 10, 16, 14, 15, 27, 31758),\n",
       "   'team_num': 1,\n",
       "   'clue_word': 'pay',\n",
       "   'clue_count': 1,\n",
       "   'legal_clue': 'Yes'},\n",
       "  {'event': 'guess made',\n",
       "   'timestamp': datetime.datetime(2020, 10, 16, 14, 15, 27, 187758),\n",
       "   'team_num': 1,\n",
       "   'word_guessed': 'scorpion',\n",
       "   'result': 0},\n",
       "  {'event': 'end guessing',\n",
       "   'timestamp': datetime.datetime(2020, 10, 16, 14, 15, 27, 187758),\n",
       "   'reason': 'incorrect guess made'},\n",
       "  {'event': 'clue_given',\n",
       "   'timestamp': datetime.datetime(2020, 10, 16, 14, 18, 12, 48846),\n",
       "   'team_num': 2,\n",
       "   'clue_word': 'plastic',\n",
       "   'clue_count': 1,\n",
       "   'legal_clue': 'Yes'},\n",
       "  {'event': 'guess made',\n",
       "   'timestamp': datetime.datetime(2020, 10, 16, 14, 18, 12, 260477),\n",
       "   'team_num': 2,\n",
       "   'word_guessed': 'ambulance',\n",
       "   'result': 0},\n",
       "  {'event': 'end guessing',\n",
       "   'timestamp': datetime.datetime(2020, 10, 16, 14, 18, 12, 260477),\n",
       "   'reason': 'incorrect guess made'},\n",
       "  {'event': 'clue_given',\n",
       "   'timestamp': datetime.datetime(2020, 10, 16, 14, 20, 40, 982449),\n",
       "   'team_num': 1,\n",
       "   'clue_word': 'hope',\n",
       "   'clue_count': 1,\n",
       "   'legal_clue': 'Yes'},\n",
       "  {'event': 'guess made',\n",
       "   'timestamp': datetime.datetime(2020, 10, 16, 14, 20, 41, 113972),\n",
       "   'team_num': 1,\n",
       "   'word_guessed': 'theater',\n",
       "   'result': 0},\n",
       "  {'event': 'end guessing',\n",
       "   'timestamp': datetime.datetime(2020, 10, 16, 14, 20, 41, 113972),\n",
       "   'reason': 'incorrect guess made'},\n",
       "  {'event': 'clue_given',\n",
       "   'timestamp': datetime.datetime(2020, 10, 16, 14, 22, 49, 236237),\n",
       "   'team_num': 2,\n",
       "   'clue_word': 'force',\n",
       "   'clue_count': 1,\n",
       "   'legal_clue': 'Yes'},\n",
       "  {'event': 'guess made',\n",
       "   'timestamp': datetime.datetime(2020, 10, 16, 14, 22, 49, 346235),\n",
       "   'team_num': 2,\n",
       "   'word_guessed': 'mass',\n",
       "   'result': 2},\n",
       "  {'event': 'end guessing',\n",
       "   'timestamp': datetime.datetime(2020, 10, 16, 14, 22, 49, 346235),\n",
       "   'reason': 'no more guesses provided'},\n",
       "  {'event': 'clue_given',\n",
       "   'timestamp': datetime.datetime(2020, 10, 16, 14, 24, 45, 9243),\n",
       "   'team_num': 1,\n",
       "   'clue_word': 'well',\n",
       "   'clue_count': 1,\n",
       "   'legal_clue': 'Yes'},\n",
       "  {'event': 'guess made',\n",
       "   'timestamp': datetime.datetime(2020, 10, 16, 14, 24, 45, 153783),\n",
       "   'team_num': 1,\n",
       "   'word_guessed': 'fair',\n",
       "   'result': 1},\n",
       "  {'event': 'end guessing',\n",
       "   'timestamp': datetime.datetime(2020, 10, 16, 14, 24, 45, 154783),\n",
       "   'reason': 'no more guesses provided'},\n",
       "  {'event': 'clue_given',\n",
       "   'timestamp': datetime.datetime(2020, 10, 16, 14, 26, 28, 739849),\n",
       "   'team_num': 2,\n",
       "   'clue_word': 'compost',\n",
       "   'clue_count': 1,\n",
       "   'legal_clue': 'Yes'},\n",
       "  {'event': 'guess made',\n",
       "   'timestamp': datetime.datetime(2020, 10, 16, 14, 26, 28, 833907),\n",
       "   'team_num': 2,\n",
       "   'word_guessed': 'hood',\n",
       "   'result': 0},\n",
       "  {'event': 'end guessing',\n",
       "   'timestamp': datetime.datetime(2020, 10, 16, 14, 26, 28, 834903),\n",
       "   'reason': 'incorrect guess made'},\n",
       "  {'event': 'clue_given',\n",
       "   'timestamp': datetime.datetime(2020, 10, 16, 14, 27, 57, 908074),\n",
       "   'team_num': 1,\n",
       "   'clue_word': 'frame',\n",
       "   'clue_count': 1,\n",
       "   'legal_clue': 'Yes'},\n",
       "  {'event': 'guess made',\n",
       "   'timestamp': datetime.datetime(2020, 10, 16, 14, 27, 57, 975096),\n",
       "   'team_num': 1,\n",
       "   'word_guessed': 'wave',\n",
       "   'result': 0},\n",
       "  {'event': 'end guessing',\n",
       "   'timestamp': datetime.datetime(2020, 10, 16, 14, 27, 57, 975096),\n",
       "   'reason': 'incorrect guess made'},\n",
       "  {'event': 'clue_given',\n",
       "   'timestamp': datetime.datetime(2020, 10, 16, 14, 29, 13, 456722),\n",
       "   'team_num': 2,\n",
       "   'clue_word': 'wool',\n",
       "   'clue_count': 1,\n",
       "   'legal_clue': 'Yes'},\n",
       "  {'event': 'guess made',\n",
       "   'timestamp': datetime.datetime(2020, 10, 16, 14, 29, 13, 529722),\n",
       "   'team_num': 2,\n",
       "   'word_guessed': 'bell',\n",
       "   'result': -1},\n",
       "  {'event': 'game over',\n",
       "   'timestamp': datetime.datetime(2020, 10, 16, 14, 29, 13, 529722),\n",
       "   'reason': 'Team 2 guessed assassin word'}],\n",
       " 'boardwords': [['bell', 'washer', 'day', 'fair', 'hood'],\n",
       "  ['thumb', 'revolution', 'scorpion', 'bottle', 'press'],\n",
       "  ['pass', 'ambulance', 'plate', 'scale', 'force'],\n",
       "  ['cross', 'turkey', 'straw', 'cell', 'theater'],\n",
       "  ['laser', 'point', 'bow', 'mass', 'wave']],\n",
       " 'boardkey': [[-1, 2, 1, 1, 0],\n",
       "  [2, 1, 0, 2, 1],\n",
       "  [1, 0, 1, 2, 1],\n",
       "  [0, 1, 2, 2, 0],\n",
       "  [2, 1, 0, 2, 0]],\n",
       " 'teams': {'team 1': [1001, 1002], 'team 2': [1003, 1004]},\n",
       " 'winning team': {'num': 1,\n",
       "  'players': [{'player_id': 1001,\n",
       "    'Elo before update': {'Spymaster': 1500.0, 'Operative': 1500.0},\n",
       "    'Elo after update': {'Spymaster': 1500.0, 'Operative': 1500.0}},\n",
       "   {'player_id': 1002,\n",
       "    'Elo before update': {'Spymaster': 1500.0, 'Operative': 1500.0},\n",
       "    'Elo after update': {'Spymaster': 1500.0, 'Operative': 1500.0}}]},\n",
       " 'losing team': {'num': 2,\n",
       "  'players': [{'player_id': 1003,\n",
       "    'Elo before update': {'Spymaster': 1500.0, 'Operative': 1500.0},\n",
       "    'Elo after update': {'Spymaster': 1500.0, 'Operative': 1500.0}},\n",
       "   {'player_id': 1004,\n",
       "    'Elo before update': {'Spymaster': 1500.0, 'Operative': 1500.0},\n",
       "    'Elo after update': {'Spymaster': 1500.0, 'Operative': 1500.0}}]},\n",
       " 'start time': datetime.datetime(2020, 10, 16, 13, 33, 46, 314856),\n",
       " 'end time': datetime.datetime(2020, 10, 16, 14, 29, 13, 529722),\n",
       " 'boardmarkers': [[-1.0, 2.0, 1.0, 1.0, 0.0],\n",
       "  [2.0, 1.0, 0.0, 2.0, nan],\n",
       "  [1.0, 0.0, 1.0, nan, 1.0],\n",
       "  [nan, 1.0, nan, 2.0, 0.0],\n",
       "  [2.0, 1.0, nan, 2.0, 0.0]]}"
      ]
     },
     "execution_count": 30,
     "metadata": {},
     "output_type": "execute_result"
    }
   ],
   "source": [
    "my_game.logger.game_log # this command only works for LocalLogger, not for MongoLogger"
   ]
  },
  {
   "cell_type": "markdown",
   "metadata": {},
   "source": [
    "Lots of information there! Let's review.\n",
    "These are the keys in the top level of the log dict:\n",
    "- in_progress : True or False\n",
    "- events : this is where all of the events of the game are recorded (more detail below)\n",
    "- boardwords : the array from the gameboard\n",
    "- boardkey : the array from the gameboard\n",
    "- teams : the player_id for each player on each team\n",
    "- winning team : the information about each winner's Elo change after the game\n",
    "- losing team : the information about each loser's Elo change after the game\n",
    "- start time : in utc\n",
    "- end time : in utc\n",
    "- boardmarkers : the final status of the board revealing which words were guessed\n",
    "\n",
    "Note: not all of this information is present until the game is completed. However, you can still pull a log in the middle of a game. You can even pull a log from the MongoDB in the middle of the game using the API endpoint mentioned above. Also, note that when pulling a log from the server, some of this information is scrubbed from the log: information that you would not have had access to based on your role.\n",
    "\n",
    "So what's in 'events'?\n",
    "\n",
    "Events is a list of dicts. Each event is a dict. New events are appended to the end of the list, so the list is in chronological order. Here is what gets recorded as an event:\n",
    "- clue_given - records the word, the count, and whether the clue was a legal clue. If it wasn't, includes an explanation why not.\n",
    "- guess made - records the word guessed and the team that word belonged to. Note this is not the same as the guesses list. Guesses are made one at a time and each is recorded individually\n",
    "- guess skipped: guess not in unguessed_words - records the word that was attempted but did not exist\n",
    "- end guessing - can be for a number of reasons which are all recorded: illegal clue given, zero guesses provided, incorrect guess made, no more guesses provided, or num guesses provided exceeded clue_count+1\n",
    "- game over - records the reason why the game ended\n",
    "\n",
    "Use this information as you wish!"
   ]
  }
 ],
 "metadata": {
  "kernelspec": {
   "display_name": "Python 3",
   "language": "python",
   "name": "python3"
  },
  "language_info": {
   "codemirror_mode": {
    "name": "ipython",
    "version": 3
   },
   "file_extension": ".py",
   "mimetype": "text/x-python",
   "name": "python",
   "nbconvert_exporter": "python",
   "pygments_lexer": "ipython3",
   "version": "3.8.3"
  }
 },
 "nbformat": 4,
 "nbformat_minor": 4
}
