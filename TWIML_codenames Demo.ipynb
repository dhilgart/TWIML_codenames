{
 "cells": [
  {
   "cell_type": "markdown",
   "metadata": {},
   "source": [
    "##### This jupyter notebook serves as a tutorial for the code used to run the TWIMLfest 2020 Codenames competition. Please first read through the [README](https://github.com/dhilgart/TWIML_codenames/blob/master/README.md) for an overview of the competition. The README also includes links to the rules of the official board game Codenames (by Vlaada Chvátil)  and a video that shows how to play."
   ]
  },
  {
   "cell_type": "code",
   "execution_count": 1,
   "metadata": {},
   "outputs": [
    {
     "name": "stderr",
     "output_type": "stream",
     "text": [
      "[nltk_data] Downloading package wordnet to\n",
      "[nltk_data]     C:\\Users\\dhilg\\AppData\\Roaming\\nltk_data...\n",
      "[nltk_data]   Package wordnet is already up-to-date!\n"
     ]
    }
   ],
   "source": [
    "import TWIML_codenames\n",
    "import numpy as np\n",
    "import random\n",
    "from datetime import datetime"
   ]
  },
  {
   "cell_type": "markdown",
   "metadata": {},
   "source": [
    "# How games get played"
   ]
  },
  {
   "cell_type": "markdown",
   "metadata": {},
   "source": [
    "In order for a game to be created, it needs a few objects provided on instantiation. First, let's "
   ]
  },
  {
   "cell_type": "markdown",
   "metadata": {},
   "source": [
    "### Create a TWIML_codenames.Gameboard object:"
   ]
  },
  {
   "cell_type": "code",
   "execution_count": 2,
   "metadata": {},
   "outputs": [],
   "source": [
    "#In order to create a gameboard, you must provide it with a list of words\n",
    "wordlist = ['hood','cross','point','bow','pass','plate','cell','theater','bell','scale','straw','press','force','laser','ambulance','thumb','bottle','scorpion','wave','day','revolution','turkey','fair','washer','mass']"
   ]
  },
  {
   "cell_type": "code",
   "execution_count": 3,
   "metadata": {},
   "outputs": [],
   "source": [
    "#create a gameboard:\n",
    "gameboard = TWIML_codenames.Gameboard(wordlist)"
   ]
  },
  {
   "cell_type": "markdown",
   "metadata": {},
   "source": [
    "A gameboard has 3 5x5 numpy arrays that store information about the gameboard. Let's visualize the words on the board:"
   ]
  },
  {
   "cell_type": "code",
   "execution_count": 4,
   "metadata": {},
   "outputs": [
    {
     "data": {
      "text/plain": [
       "array([['scorpion', 'press', 'plate', 'laser', 'straw'],\n",
       "       ['washer', 'hood', 'point', 'cell', 'ambulance'],\n",
       "       ['wave', 'thumb', 'day', 'theater', 'bottle'],\n",
       "       ['mass', 'force', 'pass', 'turkey', 'fair'],\n",
       "       ['scale', 'cross', 'bell', 'revolution', 'bow']], dtype='<U10')"
      ]
     },
     "execution_count": 4,
     "metadata": {},
     "output_type": "execute_result"
    }
   ],
   "source": [
    "gameboard.boardwords"
   ]
  },
  {
   "cell_type": "markdown",
   "metadata": {},
   "source": [
    "Now let's visualize the key, which tells the spymasters which words belong to which team. The teams are as follows: \n",
    "- 1 = team 1\n",
    "- 2 = team 2\n",
    "- 0 = neutral\n",
    "- -1 = assassin\n",
    "\n",
    "Note: we do not use blue team and red team. Whichever team goes first is team 1 and has 1 extra word they need to guess."
   ]
  },
  {
   "cell_type": "code",
   "execution_count": 5,
   "metadata": {},
   "outputs": [
    {
     "data": {
      "text/plain": [
       "array([[ 1,  2,  0,  2,  0],\n",
       "       [ 1,  1,  1,  0,  2],\n",
       "       [ 1,  0,  2,  1,  2],\n",
       "       [ 2,  2,  0, -1,  1],\n",
       "       [ 1,  1,  0,  2,  0]])"
      ]
     },
     "execution_count": 5,
     "metadata": {},
     "output_type": "execute_result"
    }
   ],
   "source": [
    "gameboard.boardkey"
   ]
  },
  {
   "cell_type": "markdown",
   "metadata": {},
   "source": [
    "Lastly, there is an array that stores a record of which words have been guessed so far in the game. At the beginning of the game, it is all np.NaN:"
   ]
  },
  {
   "cell_type": "code",
   "execution_count": 6,
   "metadata": {},
   "outputs": [
    {
     "data": {
      "text/plain": [
       "array([[nan, nan, nan, nan, nan],\n",
       "       [nan, nan, nan, nan, nan],\n",
       "       [nan, nan, nan, nan, nan],\n",
       "       [nan, nan, nan, nan, nan],\n",
       "       [nan, nan, nan, nan, nan]])"
      ]
     },
     "execution_count": 6,
     "metadata": {},
     "output_type": "execute_result"
    }
   ],
   "source": [
    "gameboard.boardmarkers"
   ]
  },
  {
   "cell_type": "markdown",
   "metadata": {},
   "source": [
    "The next thing the TWIML_codenames.Game needs is players! It requires a list of TWIML_codenames.Player objects on team1 and on team2. So, let's"
   ]
  },
  {
   "cell_type": "markdown",
   "metadata": {},
   "source": [
    "### Create TWIML_codenames.Player objects:"
   ]
  },
  {
   "cell_type": "markdown",
   "metadata": {},
   "source": [
    "We will need 4 Player objects: 2 for team 1 and 2 for team 2. Let's put them in a list called playerlist. Each Player object will need a player_id. For the competition, your player_ID has been emailed to you. For this demo, let's use player_IDs 1001, 1002, 1003, and 1004."
   ]
  },
  {
   "cell_type": "code",
   "execution_count": 7,
   "metadata": {},
   "outputs": [
    {
     "name": "stdout",
     "output_type": "stream",
     "text": [
      "<TWIML_codenames.Player object at 0x00000198361920A0>\n",
      "<TWIML_codenames.Player object at 0x00000198361921F0>\n",
      "<TWIML_codenames.Player object at 0x0000019836192340>\n",
      "<TWIML_codenames.Player object at 0x0000019836192460>\n"
     ]
    }
   ],
   "source": [
    "playerlist=[]\n",
    "for i in range(4):\n",
    "    playerlist.append(TWIML_codenames.Player(1001+i))\n",
    "    print(playerlist[i])"
   ]
  },
  {
   "cell_type": "markdown",
   "metadata": {},
   "source": [
    "Let's investigate what a TWIML_codenames.Player object contains. It stores:\n",
    "- the player_id\n",
    "- the Elo ratings of the player (These will be used to determine the winners. See the README for details)\n",
    "- the Win-Loss records of the player"
   ]
  },
  {
   "cell_type": "code",
   "execution_count": 8,
   "metadata": {},
   "outputs": [
    {
     "data": {
      "text/plain": [
       "1001"
      ]
     },
     "execution_count": 8,
     "metadata": {},
     "output_type": "execute_result"
    }
   ],
   "source": [
    "playerlist[0].player_id"
   ]
  },
  {
   "cell_type": "code",
   "execution_count": 9,
   "metadata": {},
   "outputs": [
    {
     "data": {
      "text/plain": [
       "{'Spymaster': 1500.0, 'Operative': 1500.0}"
      ]
     },
     "execution_count": 9,
     "metadata": {},
     "output_type": "execute_result"
    }
   ],
   "source": [
    "playerlist[0].Elo"
   ]
  },
  {
   "cell_type": "code",
   "execution_count": 10,
   "metadata": {},
   "outputs": [
    {
     "data": {
      "text/plain": [
       "{'Spymaster': {'W': 0, 'L': 0}, 'Operative': {'W': 0, 'L': 0}}"
      ]
     },
     "execution_count": 10,
     "metadata": {},
     "output_type": "execute_result"
    }
   ],
   "source": [
    "playerlist[0].record"
   ]
  },
  {
   "cell_type": "markdown",
   "metadata": {},
   "source": [
    "Note that the Elo ratings and records have been pre-populated on instantiation. Both Elo and W-L record are tracked separately for the Spymaster and Operative roles."
   ]
  },
  {
   "cell_type": "markdown",
   "metadata": {},
   "source": [
    "We have everything we need to create a game! Let's do it!"
   ]
  },
  {
   "cell_type": "markdown",
   "metadata": {},
   "source": [
    "### Create a TWIML_codenames.Game object:"
   ]
  },
  {
   "cell_type": "code",
   "execution_count": 11,
   "metadata": {},
   "outputs": [],
   "source": [
    "# first split the players into teams:\n",
    "team1 = playerlist[:2]\n",
    "team2 = playerlist[2:]"
   ]
  },
  {
   "cell_type": "code",
   "execution_count": 12,
   "metadata": {},
   "outputs": [],
   "source": [
    "# then create the game:\n",
    "my_game = TWIML_codenames.Game(gameboard = gameboard, team1 = team1, team2 = team2)"
   ]
  },
  {
   "cell_type": "markdown",
   "metadata": {},
   "source": [
    "The game is ready! \n",
    "\n",
    "When a game is instantiated, it sets all of its internal variables to prepare for the Team 1 Spymaster to give the first clue. Let's take a look:"
   ]
  },
  {
   "cell_type": "code",
   "execution_count": 13,
   "metadata": {},
   "outputs": [
    {
     "data": {
      "text/plain": [
       "1"
      ]
     },
     "execution_count": 13,
     "metadata": {},
     "output_type": "execute_result"
    }
   ],
   "source": [
    "my_game.curr_team"
   ]
  },
  {
   "cell_type": "code",
   "execution_count": 14,
   "metadata": {},
   "outputs": [
    {
     "data": {
      "text/plain": [
       "'spymaster'"
      ]
     },
     "execution_count": 14,
     "metadata": {},
     "output_type": "execute_result"
    }
   ],
   "source": [
    "my_game.waiting_on"
   ]
  },
  {
   "cell_type": "markdown",
   "metadata": {},
   "source": [
    "Let's not keep the game waiting too long! We need to"
   ]
  },
  {
   "cell_type": "markdown",
   "metadata": {},
   "source": [
    "### Feed the game a clue:"
   ]
  },
  {
   "cell_type": "markdown",
   "metadata": {},
   "source": [
    "In order to do so, let's load my_model.py"
   ]
  },
  {
   "cell_type": "code",
   "execution_count": 15,
   "metadata": {},
   "outputs": [],
   "source": [
    "import my_model as model"
   ]
  },
  {
   "cell_type": "markdown",
   "metadata": {},
   "source": [
    "Now all we need to do to figure out what clue to feed the game is call model.generate_clue:"
   ]
  },
  {
   "cell_type": "code",
   "execution_count": 16,
   "metadata": {},
   "outputs": [],
   "source": [
    "# when interacting with a game on the server, client_run.py first calls game.solicit_clue_inputs(): \n",
    "pull_team_num, pull_gameboard = my_game.solicit_clue_inputs()\n",
    "# you can skip this step when running locally by just using my_game.curr_team and my_game.gameboard as in the next cell:"
   ]
  },
  {
   "cell_type": "code",
   "execution_count": 17,
   "metadata": {},
   "outputs": [
    {
     "name": "stderr",
     "output_type": "stream",
     "text": [
      "C:\\Users\\dhilg\\OneDrive\\Documents\\Dan\\Python\\Codenames\\git\\TWIML_codenames\\my_model.py:54: UserWarning: [W008] Evaluating Token.similarity based on empty vectors.\n",
      "  return 1 - tokens[0].similarity(tokens[1])\n"
     ]
    },
    {
     "name": "stdout",
     "output_type": "stream",
     "text": [
      "Wall time: 3min 29s\n"
     ]
    }
   ],
   "source": [
    "%%time\n",
    "# this can take awhile with the template bot. On my laptop it takes about 3.5 minutes. \n",
    "# You may want to reduce the size of the sample taken from nounlist to improve the runtime.\n",
    "# Reduce the 1000 in this line in my_model.py: np.random.choice(full_candidates,1000, replace=False)\n",
    "clue_word, clue_count = model.generate_clue(game_id=1, # note: game_id is a required input of model.generate_clue so that you can keep track of which game is asking for a clue. Each game on the server will have a unique, 6-digit integer for the game_id. For the purposes of this demo, we will just give it a game_id of 1.\n",
    "                                            team_num=my_game.curr_team, \n",
    "                                            gameboard=my_game.gameboard)"
   ]
  },
  {
   "cell_type": "markdown",
   "metadata": {},
   "source": [
    "Let's take a look at what clue_word and clue_count it generated:"
   ]
  },
  {
   "cell_type": "code",
   "execution_count": 18,
   "metadata": {},
   "outputs": [
    {
     "name": "stdout",
     "output_type": "stream",
     "text": [
      "My bot says: \"spider for 1!\"\n"
     ]
    }
   ],
   "source": [
    "print(f'My bot says: \"{clue_word} for {clue_count}!\"')"
   ]
  },
  {
   "cell_type": "markdown",
   "metadata": {},
   "source": [
    "Can you tell what word(s) it wants the operative to guess with that clue? Let's look at the board:"
   ]
  },
  {
   "cell_type": "code",
   "execution_count": 19,
   "metadata": {},
   "outputs": [
    {
     "name": "stdout",
     "output_type": "stream",
     "text": [
      "[['scorpion' 'press' 'plate' 'laser' 'straw']\n",
      " ['washer' 'hood' 'point' 'cell' 'ambulance']\n",
      " ['wave' 'thumb' 'day' 'theater' 'bottle']\n",
      " ['mass' 'force' 'pass' 'turkey' 'fair']\n",
      " ['scale' 'cross' 'bell' 'revolution' 'bow']]\n",
      "[[ 1  2  0  2  0]\n",
      " [ 1  1  1  0  2]\n",
      " [ 1  0  2  1  2]\n",
      " [ 2  2  0 -1  1]\n",
      " [ 1  1  0  2  0]]\n"
     ]
    }
   ],
   "source": [
    "print(my_game.gameboard.boardwords)\n",
    "print(my_game.gameboard.boardkey)"
   ]
  },
  {
   "cell_type": "markdown",
   "metadata": {},
   "source": [
    "Ok, let's feed the clue back to the game:"
   ]
  },
  {
   "cell_type": "code",
   "execution_count": 20,
   "metadata": {},
   "outputs": [],
   "source": [
    "my_game.clue_given(clue_word, clue_count)"
   ]
  },
  {
   "cell_type": "markdown",
   "metadata": {},
   "source": [
    "Let's check the status:"
   ]
  },
  {
   "cell_type": "code",
   "execution_count": 21,
   "metadata": {},
   "outputs": [
    {
     "data": {
      "text/plain": [
       "1"
      ]
     },
     "execution_count": 21,
     "metadata": {},
     "output_type": "execute_result"
    }
   ],
   "source": [
    "my_game.curr_team"
   ]
  },
  {
   "cell_type": "code",
   "execution_count": 22,
   "metadata": {},
   "outputs": [
    {
     "data": {
      "text/plain": [
       "'operative'"
      ]
     },
     "execution_count": 22,
     "metadata": {},
     "output_type": "execute_result"
    }
   ],
   "source": [
    "my_game.waiting_on"
   ]
  },
  {
   "cell_type": "markdown",
   "metadata": {},
   "source": [
    "The game is ready for Team 1's Operative (i.e. guesser) to respond. \n",
    "As above, we could pull the inputs the guesser will need using my_game.solicit_guesses_inputs(), but we will skip that for this demo. Time to"
   ]
  },
  {
   "cell_type": "markdown",
   "metadata": {},
   "source": [
    "### Feed the game a list of guesses:"
   ]
  },
  {
   "cell_type": "markdown",
   "metadata": {},
   "source": [
    "First, ask the model generate the list:"
   ]
  },
  {
   "cell_type": "code",
   "execution_count": 23,
   "metadata": {},
   "outputs": [],
   "source": [
    "guesses = model.generate_guesses(game_id = 1, # see comment on game_id when we generated the clues \n",
    "                                 team_num = my_game.curr_team, \n",
    "                                 clue_word = my_game.curr_clue_word, \n",
    "                                 clue_count = my_game.curr_clue_count, \n",
    "                                 unguessed_words = my_game.gameboard.unguessed_words(), # gameboard.unguessed_words() returns a 1-D list of all the words on the board that have not yet been guessed\n",
    "                                 boardwords = my_game.gameboard.boardwords, \n",
    "                                 boardmarkers = my_game.gameboard.boardmarkers)\n",
    "# note that the gameboard is not passed to the guesser function in whole. If it were, the guesser would have access to the key!"
   ]
  },
  {
   "cell_type": "markdown",
   "metadata": {},
   "source": [
    "Let's take a look at what the bot generated. Does it match with what you thought above?"
   ]
  },
  {
   "cell_type": "code",
   "execution_count": 24,
   "metadata": {},
   "outputs": [
    {
     "data": {
      "text/plain": [
       "['scorpion']"
      ]
     },
     "execution_count": 24,
     "metadata": {},
     "output_type": "execute_result"
    }
   ],
   "source": [
    "guesses"
   ]
  },
  {
   "cell_type": "markdown",
   "metadata": {},
   "source": [
    "Send it back to the game:"
   ]
  },
  {
   "cell_type": "code",
   "execution_count": 25,
   "metadata": {},
   "outputs": [],
   "source": [
    "my_game.guesses_given(guesses)"
   ]
  },
  {
   "cell_type": "markdown",
   "metadata": {},
   "source": [
    "Let's see what happened. Check the boardmarkers and the boardwords. Did the bot get it right?"
   ]
  },
  {
   "cell_type": "code",
   "execution_count": 26,
   "metadata": {},
   "outputs": [
    {
     "name": "stdout",
     "output_type": "stream",
     "text": [
      "[[ 1. nan nan nan nan]\n",
      " [nan nan nan nan nan]\n",
      " [nan nan nan nan nan]\n",
      " [nan nan nan nan nan]\n",
      " [nan nan nan nan nan]]\n",
      "[['scorpion' 'press' 'plate' 'laser' 'straw']\n",
      " ['washer' 'hood' 'point' 'cell' 'ambulance']\n",
      " ['wave' 'thumb' 'day' 'theater' 'bottle']\n",
      " ['mass' 'force' 'pass' 'turkey' 'fair']\n",
      " ['scale' 'cross' 'bell' 'revolution' 'bow']]\n"
     ]
    }
   ],
   "source": [
    "print(my_game.gameboard.boardmarkers)\n",
    "print(my_game.gameboard.boardwords)"
   ]
  },
  {
   "cell_type": "markdown",
   "metadata": {},
   "source": [
    "Let's check the status again:"
   ]
  },
  {
   "cell_type": "code",
   "execution_count": 27,
   "metadata": {},
   "outputs": [
    {
     "data": {
      "text/plain": [
       "2"
      ]
     },
     "execution_count": 27,
     "metadata": {},
     "output_type": "execute_result"
    }
   ],
   "source": [
    "my_game.curr_team"
   ]
  },
  {
   "cell_type": "code",
   "execution_count": 28,
   "metadata": {},
   "outputs": [
    {
     "data": {
      "text/plain": [
       "'spymaster'"
      ]
     },
     "execution_count": 28,
     "metadata": {},
     "output_type": "execute_result"
    }
   ],
   "source": [
    "my_game.waiting_on"
   ]
  },
  {
   "cell_type": "markdown",
   "metadata": {},
   "source": [
    "Team 1's turn is done! The game is ready for Team 2's Spymaster to give a clue!\n",
    "\n",
    "We don't need to go through each guess one at a time. Let's automate the rest of the game:"
   ]
  },
  {
   "cell_type": "markdown",
   "metadata": {},
   "source": [
    "### Simulate the rest of the game:"
   ]
  },
  {
   "cell_type": "code",
   "execution_count": 29,
   "metadata": {
    "scrolled": true
   },
   "outputs": [
    {
     "name": "stdout",
     "output_type": "stream",
     "text": [
      "Clue generated. Duration = 0:02:56.120303. Total elapsed time = 0:02:56.120303\n",
      "My bot says: \"morning for 1!\"\n",
      "Guesses generated. Duration = 0:00:00.163036. Total elapsed time = 0:02:56.283339\n",
      "guesses = ['day']\n",
      "Clue generated. Duration = 0:02:47.916748. Total elapsed time = 0:05:44.200087\n",
      "My bot says: \"idea for 1!\"\n",
      "Guesses generated. Duration = 0:00:00.164993. Total elapsed time = 0:05:44.366080\n",
      "guesses = ['point']\n",
      "Clue generated. Duration = 0:02:41.256584. Total elapsed time = 0:08:25.622664\n",
      "My bot says: \"army for 1!\"\n",
      "Guesses generated. Duration = 0:00:00.157004. Total elapsed time = 0:08:25.781664\n",
      "guesses = ['force']\n",
      "Clue generated. Duration = 0:02:33.411651. Total elapsed time = 0:10:59.193315\n",
      "My bot says: \"entertainment for 1!\"\n",
      "Guesses generated. Duration = 0:00:00.169200. Total elapsed time = 0:10:59.363514\n",
      "guesses = ['theater']\n",
      "Clue generated. Duration = 0:02:25.609734. Total elapsed time = 0:13:24.974248\n",
      "My bot says: \"drink for 1!\"\n",
      "Guesses generated. Duration = 0:00:00.142572. Total elapsed time = 0:13:25.117821\n",
      "guesses = ['bottle']\n",
      "Clue generated. Duration = 0:02:17.179631. Total elapsed time = 0:15:42.298417\n",
      "My bot says: \"heater for 1!\"\n",
      "Guesses generated. Duration = 0:00:00.137036. Total elapsed time = 0:15:42.435453\n",
      "guesses = ['washer']\n",
      "Clue generated. Duration = 0:02:10.474206. Total elapsed time = 0:17:52.910622\n",
      "My bot says: \"paramedic for 1!\"\n",
      "Guesses generated. Duration = 0:00:00.135039. Total elapsed time = 0:17:53.046661\n",
      "guesses = ['ambulance']\n",
      "Clue generated. Duration = 0:02:05.237338. Total elapsed time = 0:19:58.285010\n",
      "My bot says: \"nothing for 1!\"\n",
      "Guesses generated. Duration = 0:00:00.120006. Total elapsed time = 0:19:58.406009\n",
      "guesses = ['fair']\n",
      "Clue generated. Duration = 0:01:55.579079. Total elapsed time = 0:21:53.985088\n",
      "My bot says: \"beam for 1!\"\n",
      "Guesses generated. Duration = 0:00:00.116010. Total elapsed time = 0:21:54.102093\n",
      "guesses = ['laser']\n",
      "Clue generated. Duration = 0:01:49.115749. Total elapsed time = 0:23:43.218863\n",
      "My bot says: \"pulse for 1!\"\n",
      "Guesses generated. Duration = 0:00:00.105950. Total elapsed time = 0:23:43.325825\n",
      "guesses = ['wave']\n",
      "Clue generated. Duration = 0:01:43.360879. Total elapsed time = 0:25:26.687709\n",
      "My bot says: \"democracy for 1!\"\n",
      "Guesses generated. Duration = 0:00:00.101969. Total elapsed time = 0:25:26.790677\n",
      "guesses = ['revolution']\n",
      "Clue generated. Duration = 0:01:43.724173. Total elapsed time = 0:27:10.514850\n",
      "My bot says: \"tail for 1!\"\n",
      "Guesses generated. Duration = 0:00:00.092038. Total elapsed time = 0:27:10.607888\n",
      "guesses = []\n",
      "Clue generated. Duration = 0:01:31.708273. Total elapsed time = 0:28:42.317160\n",
      "My bot says: \"push for 1!\"\n",
      "Guesses generated. Duration = 0:00:00.085001. Total elapsed time = 0:28:42.402161\n",
      "guesses = ['press']\n",
      "Clue generated. Duration = 0:01:26.109718. Total elapsed time = 0:30:08.512903\n",
      "My bot says: \"visor for 1!\"\n",
      "Guesses generated. Duration = 0:00:00.087026. Total elapsed time = 0:30:08.600962\n",
      "guesses = ['hood']\n",
      "Clue generated. Duration = 0:01:17.299841. Total elapsed time = 0:31:25.901766\n",
      "My bot says: \"homosexuality for 1!\"\n",
      "Guesses generated. Duration = 0:00:00.088970. Total elapsed time = 0:31:25.990736\n",
      "guesses = []\n",
      "Clue generated. Duration = 0:01:17.570746. Total elapsed time = 0:32:43.561482\n",
      "My bot says: \"measure for 1!\"\n",
      "Guesses generated. Duration = 0:00:00.073035. Total elapsed time = 0:32:43.634517\n",
      "guesses = []\n",
      "Clue generated. Duration = 0:01:17.892553. Total elapsed time = 0:34:01.527070\n",
      "My bot says: \"chop for 1!\"\n",
      "Guesses generated. Duration = 0:00:00.072000. Total elapsed time = 0:34:01.599070\n",
      "guesses = []\n",
      "Clue generated. Duration = 0:01:17.303960. Total elapsed time = 0:35:18.904030\n",
      "My bot says: \"measure for 1!\"\n",
      "Guesses generated. Duration = 0:00:00.076003. Total elapsed time = 0:35:18.982037\n",
      "guesses = []\n",
      "Clue generated. Duration = 0:01:17.345313. Total elapsed time = 0:36:36.328370\n",
      "My bot says: \"missionary for 1!\"\n",
      "Guesses generated. Duration = 0:00:00.074036. Total elapsed time = 0:36:36.403375\n",
      "guesses = []\n",
      "Clue generated. Duration = 0:01:18.041849. Total elapsed time = 0:37:54.445224\n",
      "My bot says: \"measurement for 1!\"\n",
      "Guesses generated. Duration = 0:00:00.078000. Total elapsed time = 0:37:54.524223\n",
      "guesses = []\n",
      "Clue generated. Duration = 0:01:16.610843. Total elapsed time = 0:39:11.135066\n",
      "My bot says: \"chemotaxis for 1!\"\n",
      "Guesses generated. Duration = 0:00:00.075993. Total elapsed time = 0:39:11.212061\n",
      "guesses = []\n",
      "Clue generated. Duration = 0:01:17.216324. Total elapsed time = 0:40:28.428385\n",
      "My bot says: \"measure for 1!\"\n",
      "Guesses generated. Duration = 0:00:00.074002. Total elapsed time = 0:40:28.503424\n",
      "guesses = []\n",
      "Clue generated. Duration = 0:01:17.808713. Total elapsed time = 0:41:46.312137\n",
      "My bot says: \"oven for 1!\"\n",
      "Guesses generated. Duration = 0:00:00.079000. Total elapsed time = 0:41:46.392137\n",
      "guesses = []\n",
      "Clue generated. Duration = 0:01:18.264521. Total elapsed time = 0:43:04.656658\n",
      "My bot says: \"side for 1!\"\n",
      "Guesses generated. Duration = 0:00:00.074613. Total elapsed time = 0:43:04.731271\n",
      "guesses = ['cross']\n",
      "Clue generated. Duration = 0:01:10.218274. Total elapsed time = 0:44:14.949545\n",
      "My bot says: \"decrease for 1!\"\n",
      "Guesses generated. Duration = 0:00:00.068000. Total elapsed time = 0:44:15.018545\n",
      "guesses = []\n",
      "Clue generated. Duration = 0:01:09.843081. Total elapsed time = 0:45:24.861626\n",
      "My bot says: \"longitude for 1!\"\n",
      "Guesses generated. Duration = 0:00:00.065000. Total elapsed time = 0:45:24.927626\n",
      "guesses = []\n",
      "Clue generated. Duration = 0:01:10.708422. Total elapsed time = 0:46:35.636048\n",
      "My bot says: \"squirrel for 1!\"\n",
      "Guesses generated. Duration = 0:00:00.061995. Total elapsed time = 0:46:35.699048\n",
      "guesses = []\n",
      "Clue generated. Duration = 1:40:34.327897. Total elapsed time = 2:27:10.027931\n",
      "My bot says: \"earplug for 1!\"\n",
      "Guesses generated. Duration = 0:00:00.067531. Total elapsed time = 2:27:10.096464\n",
      "guesses = []\n",
      "Clue generated. Duration = 0:01:17.673658. Total elapsed time = 2:28:27.770122\n",
      "My bot says: \"refreshments for 1!\"\n",
      "Guesses generated. Duration = 0:00:00.092004. Total elapsed time = 2:28:27.863128\n",
      "guesses = []\n",
      "Clue generated. Duration = 0:01:19.338120. Total elapsed time = 2:29:47.201248\n",
      "My bot says: \"efficiency for 1!\"\n",
      "Guesses generated. Duration = 0:00:00.075990. Total elapsed time = 2:29:47.278249\n",
      "guesses = []\n",
      "Clue generated. Duration = 0:01:16.412555. Total elapsed time = 2:31:03.690804\n",
      "My bot says: \"perpendicular for 1!\"\n",
      "Guesses generated. Duration = 0:00:00.068000. Total elapsed time = 2:31:03.759805\n",
      "guesses = []\n",
      "Clue generated. Duration = 0:01:18.312219. Total elapsed time = 2:32:22.072024\n",
      "My bot says: \"ferret for 1!\"\n",
      "Guesses generated. Duration = 0:00:00.080996. Total elapsed time = 2:32:22.153020\n",
      "guesses = []\n",
      "Clue generated. Duration = 0:01:18.636351. Total elapsed time = 2:33:40.790371\n",
      "My bot says: \"waist for 1!\"\n",
      "Guesses generated. Duration = 0:00:00.088000. Total elapsed time = 2:33:40.879371\n",
      "guesses = []\n",
      "Clue generated. Duration = 0:01:15.413105. Total elapsed time = 2:34:56.292476\n",
      "My bot says: \"seafood for 1!\"\n",
      "Guesses generated. Duration = 0:00:00.071001. Total elapsed time = 2:34:56.364476\n",
      "guesses = []\n",
      "Clue generated. Duration = 0:01:14.386805. Total elapsed time = 2:36:10.752279\n",
      "My bot says: \"rhubarb for 1!\"\n",
      "Guesses generated. Duration = 0:00:00.065047. Total elapsed time = 2:36:10.818327\n",
      "guesses = []\n",
      "Clue generated. Duration = 0:01:13.109596. Total elapsed time = 2:37:23.927923\n",
      "My bot says: \"imagination for 1!\"\n",
      "Guesses generated. Duration = 0:00:00.074631. Total elapsed time = 2:37:24.003556\n",
      "guesses = []\n",
      "Clue generated. Duration = 0:01:12.599904. Total elapsed time = 2:38:36.603460\n",
      "My bot says: \"ceiling for 1!\"\n",
      "Guesses generated. Duration = 0:00:00.065034. Total elapsed time = 2:38:36.669494\n",
      "guesses = []\n",
      "Clue generated. Duration = 0:01:12.707610. Total elapsed time = 2:39:49.377104\n",
      "My bot says: \"correspondence for 1!\"\n",
      "Guesses generated. Duration = 0:00:00.091985. Total elapsed time = 2:39:49.470106\n",
      "guesses = []\n",
      "Clue generated. Duration = 0:01:13.574255. Total elapsed time = 2:41:03.045362\n",
      "My bot says: \"settler for 1!\"\n",
      "Guesses generated. Duration = 0:00:00.080000. Total elapsed time = 2:41:03.125362\n",
      "guesses = []\n",
      "Clue generated. Duration = 0:01:13.888561. Total elapsed time = 2:42:17.013923\n",
      "My bot says: \"fashion for 1!\"\n",
      "Guesses generated. Duration = 0:00:00.060001. Total elapsed time = 2:42:17.073924\n",
      "guesses = []\n"
     ]
    },
    {
     "name": "stdout",
     "output_type": "stream",
     "text": [
      "Clue generated. Duration = 0:01:09.502870. Total elapsed time = 2:43:26.576794\n",
      "My bot says: \"normalization for 1!\"\n",
      "Guesses generated. Duration = 0:00:00.066018. Total elapsed time = 2:43:26.643793\n",
      "guesses = []\n",
      "Clue generated. Duration = 0:01:07.461660. Total elapsed time = 2:44:34.106456\n",
      "My bot says: \"cyclooxygenase for 1!\"\n",
      "Guesses generated. Duration = 0:00:00.065000. Total elapsed time = 2:44:34.172456\n",
      "guesses = []\n",
      "Clue generated. Duration = 0:01:08.457198. Total elapsed time = 2:45:42.629654\n",
      "My bot says: \"pitching for 1!\"\n",
      "Guesses generated. Duration = 0:00:00.067001. Total elapsed time = 2:45:42.696655\n",
      "guesses = []\n",
      "Clue generated. Duration = 0:01:07.768949. Total elapsed time = 2:46:50.465604\n",
      "My bot says: \"flytrap for 1!\"\n",
      "Guesses generated. Duration = 0:00:00.071001. Total elapsed time = 2:46:50.537604\n",
      "guesses = []\n",
      "Clue generated. Duration = 0:01:09.962345. Total elapsed time = 2:48:00.499949\n",
      "My bot says: \"alternative for 1!\"\n",
      "Guesses generated. Duration = 0:00:00.065001. Total elapsed time = 2:48:00.565950\n",
      "guesses = []\n",
      "Clue generated. Duration = 0:01:09.346631. Total elapsed time = 2:49:09.913544\n",
      "My bot says: \"freight for 1!\"\n",
      "Guesses generated. Duration = 0:00:00.074998. Total elapsed time = 2:49:09.989505\n",
      "guesses = []\n",
      "Clue generated. Duration = 0:01:09.316880. Total elapsed time = 2:50:19.306385\n",
      "My bot says: \"preparation for 1!\"\n",
      "Guesses generated. Duration = 0:00:00.067629. Total elapsed time = 2:50:19.374956\n",
      "guesses = []\n",
      "Clue generated. Duration = 0:01:07.062142. Total elapsed time = 2:51:26.437098\n",
      "My bot says: \"designer for 1!\"\n",
      "Guesses generated. Duration = 0:00:00.065618. Total elapsed time = 2:51:26.503681\n",
      "guesses = []\n",
      "Clue generated. Duration = 0:01:10.364462. Total elapsed time = 2:52:36.868143\n",
      "My bot says: \"throat for 1!\"\n",
      "Guesses generated. Duration = 0:00:00.073997. Total elapsed time = 2:52:36.943139\n",
      "guesses = []\n",
      "Clue generated. Duration = 0:01:09.479039. Total elapsed time = 2:53:46.422178\n",
      "My bot says: \"dig for 1!\"\n",
      "Guesses generated. Duration = 0:00:00.068002. Total elapsed time = 2:53:46.490180\n",
      "guesses = []\n",
      "Clue generated. Duration = 0:01:08.338920. Total elapsed time = 2:54:54.829100\n",
      "My bot says: \"step-grandmother for 1!\"\n",
      "Clue generated. Duration = 0:01:09.766972. Total elapsed time = 2:56:04.597073\n",
      "My bot says: \"chip for 1!\"\n",
      "Guesses generated. Duration = 0:00:00.063000. Total elapsed time = 2:56:04.661074\n",
      "guesses = []\n",
      "Clue generated. Duration = 0:01:10.375141. Total elapsed time = 2:57:15.037215\n",
      "My bot says: \"destruction for 1!\"\n",
      "Guesses generated. Duration = 0:00:00.080587. Total elapsed time = 2:57:15.118791\n",
      "guesses = []\n",
      "Clue generated. Duration = 0:01:09.527531. Total elapsed time = 2:58:24.646322\n",
      "My bot says: \"dungeon for 1!\"\n",
      "Guesses generated. Duration = 0:00:00.074000. Total elapsed time = 2:58:24.720322\n",
      "guesses = []\n",
      "Clue generated. Duration = 0:01:19.230057. Total elapsed time = 2:59:43.951376\n",
      "My bot says: \"clutch for 1!\"\n",
      "Guesses generated. Duration = 0:00:00.080536. Total elapsed time = 2:59:44.032910\n",
      "guesses = []\n",
      "Clue generated. Duration = 0:01:23.769824. Total elapsed time = 3:01:07.803733\n",
      "My bot says: \"ecumenist for 1!\"\n",
      "Guesses generated. Duration = 0:00:00.069000. Total elapsed time = 3:01:07.873735\n",
      "guesses = []\n",
      "Clue generated. Duration = 0:01:14.180446. Total elapsed time = 3:02:22.055163\n",
      "My bot says: \"roof for 1!\"\n",
      "Guesses generated. Duration = 0:00:00.068623. Total elapsed time = 3:02:22.123786\n",
      "guesses = []\n",
      "Clue generated. Duration = 0:01:10.526537. Total elapsed time = 3:03:32.651288\n",
      "My bot says: \"plier for 1!\"\n",
      "Guesses generated. Duration = 0:00:00.064990. Total elapsed time = 3:03:32.716278\n",
      "guesses = []\n",
      "Clue generated. Duration = 0:01:10.417687. Total elapsed time = 3:04:43.133965\n",
      "My bot says: \"swan for 1!\"\n",
      "Guesses generated. Duration = 0:00:00.066000. Total elapsed time = 3:04:43.200966\n",
      "guesses = []\n",
      "Clue generated. Duration = 0:01:10.718918. Total elapsed time = 3:05:53.919884\n",
      "My bot says: \"yoga for 1!\"\n",
      "Guesses generated. Duration = 0:00:00.073999. Total elapsed time = 3:05:53.994855\n",
      "guesses = []\n",
      "Clue generated. Duration = 0:01:10.465506. Total elapsed time = 3:07:04.460361\n",
      "My bot says: \"dandelion for 1!\"\n",
      "Guesses generated. Duration = 0:00:00.072001. Total elapsed time = 3:07:04.532362\n",
      "guesses = []\n",
      "Clue generated. Duration = 0:01:10.694406. Total elapsed time = 3:08:15.226768\n",
      "My bot says: \"hop for 1!\"\n",
      "Guesses generated. Duration = 0:00:00.073007. Total elapsed time = 3:08:15.299775\n",
      "guesses = []\n",
      "Clue generated. Duration = 0:01:10.102454. Total elapsed time = 3:09:25.403228\n",
      "My bot says: \"tonality for 1!\"\n",
      "Guesses generated. Duration = 0:00:00.070999. Total elapsed time = 3:09:25.474227\n",
      "guesses = []\n",
      "Clue generated. Duration = 0:01:10.274392. Total elapsed time = 3:10:35.748619\n",
      "My bot says: \"e-book for 1!\"\n",
      "Clue generated. Duration = 0:01:10.030744. Total elapsed time = 3:11:45.779363\n",
      "My bot says: \"tonight for 1!\"\n",
      "Guesses generated. Duration = 0:00:00.069999. Total elapsed time = 3:11:45.849362\n",
      "guesses = []\n",
      "Clue generated. Duration = 0:01:09.449390. Total elapsed time = 3:12:55.299744\n",
      "My bot says: \"cenotaph for 1!\"\n",
      "Guesses generated. Duration = 0:00:00.070000. Total elapsed time = 3:12:55.370721\n",
      "guesses = []\n",
      "Clue generated. Duration = 0:01:10.179397. Total elapsed time = 3:14:05.551124\n",
      "My bot says: \"image for 1!\"\n",
      "Guesses generated. Duration = 0:00:00.069030. Total elapsed time = 3:14:05.621123\n",
      "guesses = []\n",
      "Clue generated. Duration = 0:01:09.618431. Total elapsed time = 3:15:15.240523\n",
      "My bot says: \"brandy for 1!\"\n",
      "Guesses generated. Duration = 0:00:00.071999. Total elapsed time = 3:15:15.313523\n",
      "guesses = []\n",
      "Clue generated. Duration = 0:01:10.495205. Total elapsed time = 3:16:25.808728\n",
      "My bot says: \"textbook for 1!\"\n",
      "Guesses generated. Duration = 0:00:00.069034. Total elapsed time = 3:16:25.878722\n",
      "guesses = []\n",
      "Clue generated. Duration = 0:01:09.982298. Total elapsed time = 3:17:35.861986\n",
      "My bot says: \"composite for 1!\"\n",
      "Guesses generated. Duration = 0:00:00.088538. Total elapsed time = 3:17:35.952522\n",
      "guesses = []\n",
      "Clue generated. Duration = 0:01:10.276060. Total elapsed time = 3:18:46.228582\n",
      "My bot says: \"logo for 1!\"\n",
      "Guesses generated. Duration = 0:00:00.069516. Total elapsed time = 3:18:46.299099\n",
      "guesses = []\n",
      "Clue generated. Duration = 0:01:10.211670. Total elapsed time = 3:19:56.510769\n",
      "My bot says: \"pen for 1!\"\n",
      "Guesses generated. Duration = 0:00:00.069010. Total elapsed time = 3:19:56.579779\n",
      "guesses = []\n",
      "Clue generated. Duration = 0:01:10.123203. Total elapsed time = 3:21:06.703942\n",
      "My bot says: \"initial for 1!\"\n",
      "Guesses generated. Duration = 0:00:00.068948. Total elapsed time = 3:21:06.774964\n",
      "guesses = []\n",
      "Clue generated. Duration = 0:01:10.162718. Total elapsed time = 3:22:16.937682\n",
      "My bot says: \"high-rise for 1!\"\n",
      "Clue generated. Duration = 0:01:11.035934. Total elapsed time = 3:23:27.973616\n",
      "My bot says: \"shadow for 1!\"\n",
      "Guesses generated. Duration = 0:00:00.070969. Total elapsed time = 3:23:28.044585\n",
      "guesses = []\n",
      "Clue generated. Duration = 0:01:10.382908. Total elapsed time = 3:24:38.428492\n",
      "My bot says: \"explorer for 1!\"\n",
      "Guesses generated. Duration = 0:00:00.069034. Total elapsed time = 3:24:38.497526\n",
      "guesses = []\n",
      "Clue generated. Duration = 0:01:10.501478. Total elapsed time = 3:25:48.999004\n",
      "My bot says: \"assertion for 1!\"\n",
      "Guesses generated. Duration = 0:00:00.071000. Total elapsed time = 3:25:49.071005\n",
      "guesses = []\n",
      "Clue generated. Duration = 0:01:10.103093. Total elapsed time = 3:26:59.174098\n",
      "My bot says: \"bidder for 1!\"\n",
      "Guesses generated. Duration = 0:00:00.068021. Total elapsed time = 3:26:59.243091\n",
      "guesses = []\n",
      "Clue generated. Duration = 0:01:10.757292. Total elapsed time = 3:28:10.000383\n",
      "My bot says: \"friendship for 1!\"\n",
      "Guesses generated. Duration = 0:00:00.069999. Total elapsed time = 3:28:10.070382\n",
      "guesses = []\n",
      "Clue generated. Duration = 0:01:09.927918. Total elapsed time = 3:29:19.998300\n",
      "My bot says: \"croissant for 1!\"\n",
      "Guesses generated. Duration = 0:00:00.078998. Total elapsed time = 3:29:20.078292\n",
      "guesses = []\n",
      "Clue generated. Duration = 0:01:10.515409. Total elapsed time = 3:30:30.594702\n",
      "My bot says: \"typhoon for 1!\"\n",
      "Guesses generated. Duration = 0:00:00.069037. Total elapsed time = 3:30:30.665739\n",
      "guesses = []\n",
      "Clue generated. Duration = 0:01:10.567332. Total elapsed time = 3:31:41.234063\n",
      "My bot says: \"bagel for 1!\"\n",
      "Guesses generated. Duration = 0:00:00.076999. Total elapsed time = 3:31:41.311062\n",
      "guesses = []\n"
     ]
    },
    {
     "name": "stdout",
     "output_type": "stream",
     "text": [
      "Clue generated. Duration = 0:01:10.760498. Total elapsed time = 3:32:52.071560\n",
      "My bot says: \"statistic for 1!\"\n",
      "Guesses generated. Duration = 0:00:00.067037. Total elapsed time = 3:32:52.139598\n",
      "guesses = []\n",
      "Clue generated. Duration = 0:01:10.503968. Total elapsed time = 3:34:02.644566\n",
      "My bot says: \"howard for 1!\"\n",
      "Guesses generated. Duration = 0:00:00.069999. Total elapsed time = 3:34:02.715566\n",
      "guesses = []\n",
      "Clue generated. Duration = 0:01:10.008903. Total elapsed time = 3:35:12.725470\n",
      "My bot says: \"job for 1!\"\n",
      "Guesses generated. Duration = 0:00:00.068037. Total elapsed time = 3:35:12.794508\n",
      "guesses = []\n",
      "Clue generated. Duration = 0:01:10.548965. Total elapsed time = 3:36:23.343473\n",
      "My bot says: \"berry for 1!\"\n",
      "Guesses generated. Duration = 0:00:00.071996. Total elapsed time = 3:36:23.415469\n",
      "guesses = []\n",
      "Clue generated. Duration = 0:01:10.299933. Total elapsed time = 3:37:33.715402\n",
      "My bot says: \"refrigerator for 1!\"\n",
      "Guesses generated. Duration = 0:00:00.076000. Total elapsed time = 3:37:33.792402\n",
      "guesses = []\n",
      "Clue generated. Duration = 0:01:10.578495. Total elapsed time = 3:38:44.370897\n",
      "My bot says: \"set for 1!\"\n",
      "Guesses generated. Duration = 0:00:00.067039. Total elapsed time = 3:38:44.438902\n",
      "guesses = []\n",
      "Clue generated. Duration = 0:01:10.681174. Total elapsed time = 3:39:55.120076\n",
      "My bot says: \"pork for 1!\"\n",
      "Guesses generated. Duration = 0:00:00.071001. Total elapsed time = 3:39:55.192078\n",
      "guesses = ['turkey']\n"
     ]
    }
   ],
   "source": [
    "start_time=datetime.now()\n",
    "while my_game.game_completed == False:\n",
    "    # here we ignore that team 1 and team 2 will have different models and assume that regardless \n",
    "    # of which team's turn it is, we use the same model for the spymaster and the operative\n",
    "    \n",
    "    if my_game.waiting_on == 'spymaster':\n",
    "        clue_start_time=datetime.now()\n",
    "        clue_word, clue_count = model.generate_clue(game_id=1,\n",
    "                                                    team_num=my_game.curr_team, \n",
    "                                                    gameboard=my_game.gameboard)\n",
    "        print(f'Clue generated. Duration = {datetime.now()-clue_start_time}. Total elapsed time = {datetime.now()-start_time}')\n",
    "        print(f'My bot says: \"{clue_word} for {clue_count}!\"')\n",
    "        my_game.clue_given(clue_word, clue_count)\n",
    "    else:\n",
    "        guess_start_time=datetime.now()\n",
    "        guesses = model.generate_guesses(game_id = 1,\n",
    "                                         team_num = my_game.curr_team, \n",
    "                                         clue_word = my_game.curr_clue_word, \n",
    "                                         clue_count = my_game.curr_clue_count, \n",
    "                                         unguessed_words = my_game.gameboard.unguessed_words(),\n",
    "                                         boardwords = my_game.gameboard.boardwords, \n",
    "                                         boardmarkers = my_game.gameboard.boardmarkers)\n",
    "        print(f'Guesses generated. Duration = {datetime.now()-guess_start_time}. Total elapsed time = {datetime.now()-start_time}')\n",
    "        print(f'guesses = {guesses}')\n",
    "        my_game.guesses_given(guesses)"
   ]
  },
  {
   "cell_type": "markdown",
   "metadata": {},
   "source": [
    "There you have it! A completed game! But that's not all. There's something else we haven't talked about that you might be interested in: the game log!"
   ]
  },
  {
   "cell_type": "markdown",
   "metadata": {},
   "source": [
    "# The game log"
   ]
  },
  {
   "cell_type": "markdown",
   "metadata": {},
   "source": [
    "A TWIML_codenames.Game object is always created with a logger object. If no logger is supplied at initialization, a TWIML_codenames.LocalLogger object will be created for the game. LocalLogger stores the gamelog in memory. For games played on the server, a TWIML_codenames_API_server.MongoLogger is supplied at Game initialization, so the log is stored to a MongoDB. The server game logs can be retrieved using the @app.get(\"http<span>://twiml-codenames.herokuapp</span>.com/{game_id}/log/\") API endpoint. Either way, the logger stores the same information as a multi-nested dict."
   ]
  },
  {
   "cell_type": "markdown",
   "metadata": {},
   "source": [
    "Let's take a look at the log for this game:"
   ]
  },
  {
   "cell_type": "code",
   "execution_count": 30,
   "metadata": {},
   "outputs": [
    {
     "data": {
      "text/plain": [
       "{'in_progress': False,\n",
       " 'events': [{'event': 'clue_given',\n",
       "   'timestamp': datetime.datetime(2020, 10, 16, 0, 32, 15, 487958),\n",
       "   'team_num': 1,\n",
       "   'clue_word': 'spider',\n",
       "   'clue_count': 1,\n",
       "   'legal_clue': 'Yes'},\n",
       "  {'event': 'guess made',\n",
       "   'timestamp': datetime.datetime(2020, 10, 16, 0, 32, 15, 763962),\n",
       "   'team_num': 1,\n",
       "   'word_guessed': 'scorpion',\n",
       "   'result': 1},\n",
       "  {'event': 'end guessing',\n",
       "   'timestamp': datetime.datetime(2020, 10, 16, 0, 32, 15, 764960),\n",
       "   'reason': 'no more guesses provided'},\n",
       "  {'event': 'clue_given',\n",
       "   'timestamp': datetime.datetime(2020, 10, 16, 0, 35, 11, 986264),\n",
       "   'team_num': 2,\n",
       "   'clue_word': 'morning',\n",
       "   'clue_count': 1,\n",
       "   'legal_clue': 'Yes'},\n",
       "  {'event': 'guess made',\n",
       "   'timestamp': datetime.datetime(2020, 10, 16, 0, 35, 12, 149300),\n",
       "   'team_num': 2,\n",
       "   'word_guessed': 'day',\n",
       "   'result': 2},\n",
       "  {'event': 'end guessing',\n",
       "   'timestamp': datetime.datetime(2020, 10, 16, 0, 35, 12, 149300),\n",
       "   'reason': 'no more guesses provided'},\n",
       "  {'event': 'clue_given',\n",
       "   'timestamp': datetime.datetime(2020, 10, 16, 0, 38, 0, 67048),\n",
       "   'team_num': 1,\n",
       "   'clue_word': 'idea',\n",
       "   'clue_count': 1,\n",
       "   'legal_clue': 'Yes'},\n",
       "  {'event': 'guess made',\n",
       "   'timestamp': datetime.datetime(2020, 10, 16, 0, 38, 0, 232041),\n",
       "   'team_num': 1,\n",
       "   'word_guessed': 'point',\n",
       "   'result': 1},\n",
       "  {'event': 'end guessing',\n",
       "   'timestamp': datetime.datetime(2020, 10, 16, 0, 38, 0, 232041),\n",
       "   'reason': 'no more guesses provided'},\n",
       "  {'event': 'clue_given',\n",
       "   'timestamp': datetime.datetime(2020, 10, 16, 0, 40, 41, 490621),\n",
       "   'team_num': 2,\n",
       "   'clue_word': 'army',\n",
       "   'clue_count': 1,\n",
       "   'legal_clue': 'Yes'},\n",
       "  {'event': 'guess made',\n",
       "   'timestamp': datetime.datetime(2020, 10, 16, 0, 40, 41, 647625),\n",
       "   'team_num': 2,\n",
       "   'word_guessed': 'force',\n",
       "   'result': 2},\n",
       "  {'event': 'end guessing',\n",
       "   'timestamp': datetime.datetime(2020, 10, 16, 0, 40, 41, 647625),\n",
       "   'reason': 'no more guesses provided'},\n",
       "  {'event': 'clue_given',\n",
       "   'timestamp': datetime.datetime(2020, 10, 16, 0, 43, 15, 60275),\n",
       "   'team_num': 1,\n",
       "   'clue_word': 'entertainment',\n",
       "   'clue_count': 1,\n",
       "   'legal_clue': 'Yes'},\n",
       "  {'event': 'guess made',\n",
       "   'timestamp': datetime.datetime(2020, 10, 16, 0, 43, 15, 230475),\n",
       "   'team_num': 1,\n",
       "   'word_guessed': 'theater',\n",
       "   'result': 1},\n",
       "  {'event': 'end guessing',\n",
       "   'timestamp': datetime.datetime(2020, 10, 16, 0, 43, 15, 230475),\n",
       "   'reason': 'no more guesses provided'},\n",
       "  {'event': 'clue_given',\n",
       "   'timestamp': datetime.datetime(2020, 10, 16, 0, 45, 40, 841210),\n",
       "   'team_num': 2,\n",
       "   'clue_word': 'drink',\n",
       "   'clue_count': 1,\n",
       "   'legal_clue': 'Yes'},\n",
       "  {'event': 'guess made',\n",
       "   'timestamp': datetime.datetime(2020, 10, 16, 0, 45, 40, 984747),\n",
       "   'team_num': 2,\n",
       "   'word_guessed': 'bottle',\n",
       "   'result': 2},\n",
       "  {'event': 'end guessing',\n",
       "   'timestamp': datetime.datetime(2020, 10, 16, 0, 45, 40, 984747),\n",
       "   'reason': 'no more guesses provided'},\n",
       "  {'event': 'clue_given',\n",
       "   'timestamp': datetime.datetime(2020, 10, 16, 0, 47, 58, 164378),\n",
       "   'team_num': 1,\n",
       "   'clue_word': 'heater',\n",
       "   'clue_count': 1,\n",
       "   'legal_clue': 'Yes'},\n",
       "  {'event': 'guess made',\n",
       "   'timestamp': datetime.datetime(2020, 10, 16, 0, 47, 58, 302377),\n",
       "   'team_num': 1,\n",
       "   'word_guessed': 'washer',\n",
       "   'result': 1},\n",
       "  {'event': 'end guessing',\n",
       "   'timestamp': datetime.datetime(2020, 10, 16, 0, 47, 58, 302377),\n",
       "   'reason': 'no more guesses provided'},\n",
       "  {'event': 'clue_given',\n",
       "   'timestamp': datetime.datetime(2020, 10, 16, 0, 50, 8, 777583),\n",
       "   'team_num': 2,\n",
       "   'clue_word': 'paramedic',\n",
       "   'clue_count': 1,\n",
       "   'legal_clue': 'Yes'},\n",
       "  {'event': 'guess made',\n",
       "   'timestamp': datetime.datetime(2020, 10, 16, 0, 50, 8, 913633),\n",
       "   'team_num': 2,\n",
       "   'word_guessed': 'ambulance',\n",
       "   'result': 2},\n",
       "  {'event': 'end guessing',\n",
       "   'timestamp': datetime.datetime(2020, 10, 16, 0, 50, 8, 913633),\n",
       "   'reason': 'no more guesses provided'},\n",
       "  {'event': 'clue_given',\n",
       "   'timestamp': datetime.datetime(2020, 10, 16, 0, 52, 14, 151964),\n",
       "   'team_num': 1,\n",
       "   'clue_word': 'nothing',\n",
       "   'clue_count': 1,\n",
       "   'legal_clue': 'Yes'},\n",
       "  {'event': 'guess made',\n",
       "   'timestamp': datetime.datetime(2020, 10, 16, 0, 52, 14, 271970),\n",
       "   'team_num': 1,\n",
       "   'word_guessed': 'fair',\n",
       "   'result': 1},\n",
       "  {'event': 'end guessing',\n",
       "   'timestamp': datetime.datetime(2020, 10, 16, 0, 52, 14, 271970),\n",
       "   'reason': 'no more guesses provided'},\n",
       "  {'event': 'clue_given',\n",
       "   'timestamp': datetime.datetime(2020, 10, 16, 0, 54, 9, 852044),\n",
       "   'team_num': 2,\n",
       "   'clue_word': 'beam',\n",
       "   'clue_count': 1,\n",
       "   'legal_clue': 'Yes'},\n",
       "  {'event': 'guess made',\n",
       "   'timestamp': datetime.datetime(2020, 10, 16, 0, 54, 9, 969075),\n",
       "   'team_num': 2,\n",
       "   'word_guessed': 'laser',\n",
       "   'result': 2},\n",
       "  {'event': 'end guessing',\n",
       "   'timestamp': datetime.datetime(2020, 10, 16, 0, 54, 9, 969075),\n",
       "   'reason': 'no more guesses provided'},\n",
       "  {'event': 'clue_given',\n",
       "   'timestamp': datetime.datetime(2020, 10, 16, 0, 55, 59, 85836),\n",
       "   'team_num': 1,\n",
       "   'clue_word': 'pulse',\n",
       "   'clue_count': 1,\n",
       "   'legal_clue': 'Yes'},\n",
       "  {'event': 'guess made',\n",
       "   'timestamp': datetime.datetime(2020, 10, 16, 0, 55, 59, 192791),\n",
       "   'team_num': 1,\n",
       "   'word_guessed': 'wave',\n",
       "   'result': 1},\n",
       "  {'event': 'end guessing',\n",
       "   'timestamp': datetime.datetime(2020, 10, 16, 0, 55, 59, 192791),\n",
       "   'reason': 'no more guesses provided'},\n",
       "  {'event': 'clue_given',\n",
       "   'timestamp': datetime.datetime(2020, 10, 16, 0, 57, 42, 554669),\n",
       "   'team_num': 2,\n",
       "   'clue_word': 'democracy',\n",
       "   'clue_count': 1,\n",
       "   'legal_clue': 'Yes'},\n",
       "  {'event': 'guess made',\n",
       "   'timestamp': datetime.datetime(2020, 10, 16, 0, 57, 42, 656638),\n",
       "   'team_num': 2,\n",
       "   'word_guessed': 'revolution',\n",
       "   'result': 2},\n",
       "  {'event': 'end guessing',\n",
       "   'timestamp': datetime.datetime(2020, 10, 16, 0, 57, 42, 656638),\n",
       "   'reason': 'no more guesses provided'},\n",
       "  {'event': 'clue_given',\n",
       "   'timestamp': datetime.datetime(2020, 10, 16, 0, 59, 26, 381811),\n",
       "   'team_num': 1,\n",
       "   'clue_word': 'tail',\n",
       "   'clue_count': 1,\n",
       "   'legal_clue': 'Yes'},\n",
       "  {'event': 'end guessing',\n",
       "   'timestamp': datetime.datetime(2020, 10, 16, 0, 59, 26, 474848),\n",
       "   'reason': 'Zero guesses provided'},\n",
       "  {'event': 'clue_given',\n",
       "   'timestamp': datetime.datetime(2020, 10, 16, 1, 0, 58, 183121),\n",
       "   'team_num': 2,\n",
       "   'clue_word': 'push',\n",
       "   'clue_count': 1,\n",
       "   'legal_clue': 'Yes'},\n",
       "  {'event': 'guess made',\n",
       "   'timestamp': datetime.datetime(2020, 10, 16, 1, 0, 58, 269146),\n",
       "   'team_num': 2,\n",
       "   'word_guessed': 'press',\n",
       "   'result': 2},\n",
       "  {'event': 'end guessing',\n",
       "   'timestamp': datetime.datetime(2020, 10, 16, 1, 0, 58, 269146),\n",
       "   'reason': 'no more guesses provided'},\n",
       "  {'event': 'clue_given',\n",
       "   'timestamp': datetime.datetime(2020, 10, 16, 1, 2, 24, 379897),\n",
       "   'team_num': 1,\n",
       "   'clue_word': 'visor',\n",
       "   'clue_count': 1,\n",
       "   'legal_clue': 'Yes'},\n",
       "  {'event': 'guess made',\n",
       "   'timestamp': datetime.datetime(2020, 10, 16, 1, 2, 24, 466923),\n",
       "   'team_num': 1,\n",
       "   'word_guessed': 'hood',\n",
       "   'result': 1},\n",
       "  {'event': 'end guessing',\n",
       "   'timestamp': datetime.datetime(2020, 10, 16, 1, 2, 24, 467886),\n",
       "   'reason': 'no more guesses provided'},\n",
       "  {'event': 'clue_given',\n",
       "   'timestamp': datetime.datetime(2020, 10, 16, 1, 3, 41, 767727),\n",
       "   'team_num': 2,\n",
       "   'clue_word': 'homosexuality',\n",
       "   'clue_count': 1,\n",
       "   'legal_clue': 'Yes'},\n",
       "  {'event': 'end guessing',\n",
       "   'timestamp': datetime.datetime(2020, 10, 16, 1, 3, 41, 856697),\n",
       "   'reason': 'Zero guesses provided'},\n",
       "  {'event': 'clue_given',\n",
       "   'timestamp': datetime.datetime(2020, 10, 16, 1, 4, 59, 427443),\n",
       "   'team_num': 1,\n",
       "   'clue_word': 'measure',\n",
       "   'clue_count': 1,\n",
       "   'legal_clue': 'Yes'},\n",
       "  {'event': 'end guessing',\n",
       "   'timestamp': datetime.datetime(2020, 10, 16, 1, 4, 59, 500478),\n",
       "   'reason': 'Zero guesses provided'},\n",
       "  {'event': 'clue_given',\n",
       "   'timestamp': datetime.datetime(2020, 10, 16, 1, 6, 17, 393031),\n",
       "   'team_num': 2,\n",
       "   'clue_word': 'chop',\n",
       "   'clue_count': 1,\n",
       "   'legal_clue': 'Yes'},\n",
       "  {'event': 'end guessing',\n",
       "   'timestamp': datetime.datetime(2020, 10, 16, 1, 6, 17, 466031),\n",
       "   'reason': 'Zero guesses provided'},\n",
       "  {'event': 'clue_given',\n",
       "   'timestamp': datetime.datetime(2020, 10, 16, 1, 7, 34, 771995),\n",
       "   'team_num': 1,\n",
       "   'clue_word': 'measure',\n",
       "   'clue_count': 1,\n",
       "   'legal_clue': 'Yes'},\n",
       "  {'event': 'end guessing',\n",
       "   'timestamp': datetime.datetime(2020, 10, 16, 1, 7, 34, 849018),\n",
       "   'reason': 'Zero guesses provided'},\n",
       "  {'event': 'clue_given',\n",
       "   'timestamp': datetime.datetime(2020, 10, 16, 1, 8, 52, 195300),\n",
       "   'team_num': 2,\n",
       "   'clue_word': 'missionary',\n",
       "   'clue_count': 1,\n",
       "   'legal_clue': 'Yes'},\n",
       "  {'event': 'end guessing',\n",
       "   'timestamp': datetime.datetime(2020, 10, 16, 1, 8, 52, 269336),\n",
       "   'reason': 'Zero guesses provided'},\n",
       "  {'event': 'clue_given',\n",
       "   'timestamp': datetime.datetime(2020, 10, 16, 1, 10, 10, 312184),\n",
       "   'team_num': 1,\n",
       "   'clue_word': 'measurement',\n",
       "   'clue_count': 1,\n",
       "   'legal_clue': 'Yes'},\n",
       "  {'event': 'end guessing',\n",
       "   'timestamp': datetime.datetime(2020, 10, 16, 1, 10, 10, 390184),\n",
       "   'reason': 'Zero guesses provided'},\n",
       "  {'event': 'clue_given',\n",
       "   'timestamp': datetime.datetime(2020, 10, 16, 1, 11, 27, 2029),\n",
       "   'team_num': 2,\n",
       "   'clue_word': 'chemotaxis',\n",
       "   'clue_count': 1,\n",
       "   'legal_clue': 'Yes'},\n",
       "  {'event': 'end guessing',\n",
       "   'timestamp': datetime.datetime(2020, 10, 16, 1, 11, 27, 78022),\n",
       "   'reason': 'Zero guesses provided'},\n",
       "  {'event': 'clue_given',\n",
       "   'timestamp': datetime.datetime(2020, 10, 16, 1, 12, 44, 295383),\n",
       "   'team_num': 1,\n",
       "   'clue_word': 'measure',\n",
       "   'clue_count': 1,\n",
       "   'legal_clue': 'Yes'},\n",
       "  {'event': 'end guessing',\n",
       "   'timestamp': datetime.datetime(2020, 10, 16, 1, 12, 44, 369385),\n",
       "   'reason': 'Zero guesses provided'},\n",
       "  {'event': 'clue_given',\n",
       "   'timestamp': datetime.datetime(2020, 10, 16, 1, 14, 2, 179098),\n",
       "   'team_num': 2,\n",
       "   'clue_word': 'oven',\n",
       "   'clue_count': 1,\n",
       "   'legal_clue': 'Yes'},\n",
       "  {'event': 'end guessing',\n",
       "   'timestamp': datetime.datetime(2020, 10, 16, 1, 14, 2, 258098),\n",
       "   'reason': 'Zero guesses provided'},\n",
       "  {'event': 'clue_given',\n",
       "   'timestamp': datetime.datetime(2020, 10, 16, 1, 15, 20, 522619),\n",
       "   'team_num': 1,\n",
       "   'clue_word': 'side',\n",
       "   'clue_count': 1,\n",
       "   'legal_clue': 'Yes'},\n",
       "  {'event': 'guess made',\n",
       "   'timestamp': datetime.datetime(2020, 10, 16, 1, 15, 20, 597232),\n",
       "   'team_num': 1,\n",
       "   'word_guessed': 'cross',\n",
       "   'result': 1},\n",
       "  {'event': 'end guessing',\n",
       "   'timestamp': datetime.datetime(2020, 10, 16, 1, 15, 20, 597232),\n",
       "   'reason': 'no more guesses provided'},\n",
       "  {'event': 'clue_given',\n",
       "   'timestamp': datetime.datetime(2020, 10, 16, 1, 16, 30, 816506),\n",
       "   'team_num': 2,\n",
       "   'clue_word': 'decrease',\n",
       "   'clue_count': 1,\n",
       "   'legal_clue': 'Yes'},\n",
       "  {'event': 'end guessing',\n",
       "   'timestamp': datetime.datetime(2020, 10, 16, 1, 16, 30, 884506),\n",
       "   'reason': 'Zero guesses provided'},\n",
       "  {'event': 'clue_given',\n",
       "   'timestamp': datetime.datetime(2020, 10, 16, 1, 17, 40, 728587),\n",
       "   'team_num': 1,\n",
       "   'clue_word': 'longitude',\n",
       "   'clue_count': 1,\n",
       "   'legal_clue': 'Yes'},\n",
       "  {'event': 'end guessing',\n",
       "   'timestamp': datetime.datetime(2020, 10, 16, 1, 17, 40, 793587),\n",
       "   'reason': 'Zero guesses provided'},\n",
       "  {'event': 'clue_given',\n",
       "   'timestamp': datetime.datetime(2020, 10, 16, 1, 18, 51, 503014),\n",
       "   'team_num': 2,\n",
       "   'clue_word': 'squirrel',\n",
       "   'clue_count': 1,\n",
       "   'legal_clue': 'Yes'},\n",
       "  {'event': 'end guessing',\n",
       "   'timestamp': datetime.datetime(2020, 10, 16, 1, 18, 51, 565009),\n",
       "   'reason': 'Zero guesses provided'},\n",
       "  {'event': 'clue_given',\n",
       "   'timestamp': datetime.datetime(2020, 10, 16, 2, 59, 25, 894894),\n",
       "   'team_num': 1,\n",
       "   'clue_word': 'earplug',\n",
       "   'clue_count': 1,\n",
       "   'legal_clue': 'Yes'},\n",
       "  {'event': 'end guessing',\n",
       "   'timestamp': datetime.datetime(2020, 10, 16, 2, 59, 25, 962425),\n",
       "   'reason': 'Zero guesses provided'},\n",
       "  {'event': 'clue_given',\n",
       "   'timestamp': datetime.datetime(2020, 10, 16, 3, 0, 43, 637085),\n",
       "   'team_num': 2,\n",
       "   'clue_word': 'refreshments',\n",
       "   'clue_count': 1,\n",
       "   'legal_clue': 'Yes'},\n",
       "  {'event': 'end guessing',\n",
       "   'timestamp': datetime.datetime(2020, 10, 16, 3, 0, 43, 729089),\n",
       "   'reason': 'Zero guesses provided'},\n",
       "  {'event': 'clue_given',\n",
       "   'timestamp': datetime.datetime(2020, 10, 16, 3, 2, 3, 68220),\n",
       "   'team_num': 1,\n",
       "   'clue_word': 'efficiency',\n",
       "   'clue_count': 1,\n",
       "   'legal_clue': 'Yes'},\n",
       "  {'event': 'end guessing',\n",
       "   'timestamp': datetime.datetime(2020, 10, 16, 3, 2, 3, 144210),\n",
       "   'reason': 'Zero guesses provided'},\n",
       "  {'event': 'clue_given',\n",
       "   'timestamp': datetime.datetime(2020, 10, 16, 3, 3, 19, 557766),\n",
       "   'team_num': 2,\n",
       "   'clue_word': 'perpendicular',\n",
       "   'clue_count': 1,\n",
       "   'legal_clue': 'Yes'},\n",
       "  {'event': 'end guessing',\n",
       "   'timestamp': datetime.datetime(2020, 10, 16, 3, 3, 19, 625766),\n",
       "   'reason': 'Zero guesses provided'},\n",
       "  {'event': 'clue_given',\n",
       "   'timestamp': datetime.datetime(2020, 10, 16, 3, 4, 37, 937985),\n",
       "   'team_num': 1,\n",
       "   'clue_word': 'ferret',\n",
       "   'clue_count': 1,\n",
       "   'legal_clue': 'Yes'},\n",
       "  {'event': 'end guessing',\n",
       "   'timestamp': datetime.datetime(2020, 10, 16, 3, 4, 38, 19981),\n",
       "   'reason': 'Zero guesses provided'},\n",
       "  {'event': 'clue_given',\n",
       "   'timestamp': datetime.datetime(2020, 10, 16, 3, 5, 56, 657332),\n",
       "   'team_num': 2,\n",
       "   'clue_word': 'waist',\n",
       "   'clue_count': 1,\n",
       "   'legal_clue': 'Yes'},\n",
       "  {'event': 'end guessing',\n",
       "   'timestamp': datetime.datetime(2020, 10, 16, 3, 5, 56, 745332),\n",
       "   'reason': 'Zero guesses provided'},\n",
       "  {'event': 'clue_given',\n",
       "   'timestamp': datetime.datetime(2020, 10, 16, 3, 7, 12, 159436),\n",
       "   'team_num': 1,\n",
       "   'clue_word': 'seafood',\n",
       "   'clue_count': 1,\n",
       "   'legal_clue': 'Yes'},\n",
       "  {'event': 'end guessing',\n",
       "   'timestamp': datetime.datetime(2020, 10, 16, 3, 7, 12, 231435),\n",
       "   'reason': 'Zero guesses provided'},\n",
       "  {'event': 'clue_given',\n",
       "   'timestamp': datetime.datetime(2020, 10, 16, 3, 8, 26, 619241),\n",
       "   'team_num': 2,\n",
       "   'clue_word': 'rhubarb',\n",
       "   'clue_count': 1,\n",
       "   'legal_clue': 'Yes'},\n",
       "  {'event': 'end guessing',\n",
       "   'timestamp': datetime.datetime(2020, 10, 16, 3, 8, 26, 684288),\n",
       "   'reason': 'Zero guesses provided'},\n",
       "  {'event': 'clue_given',\n",
       "   'timestamp': datetime.datetime(2020, 10, 16, 3, 9, 39, 794886),\n",
       "   'team_num': 1,\n",
       "   'clue_word': 'imagination',\n",
       "   'clue_count': 1,\n",
       "   'legal_clue': 'Yes'},\n",
       "  {'event': 'end guessing',\n",
       "   'timestamp': datetime.datetime(2020, 10, 16, 3, 9, 39, 869517),\n",
       "   'reason': 'Zero guesses provided'},\n",
       "  {'event': 'clue_given',\n",
       "   'timestamp': datetime.datetime(2020, 10, 16, 3, 10, 52, 470421),\n",
       "   'team_num': 2,\n",
       "   'clue_word': 'ceiling',\n",
       "   'clue_count': 1,\n",
       "   'legal_clue': 'Yes'},\n",
       "  {'event': 'end guessing',\n",
       "   'timestamp': datetime.datetime(2020, 10, 16, 3, 10, 52, 535455),\n",
       "   'reason': 'Zero guesses provided'},\n",
       "  {'event': 'clue_given',\n",
       "   'timestamp': datetime.datetime(2020, 10, 16, 3, 12, 5, 244082),\n",
       "   'team_num': 1,\n",
       "   'clue_word': 'correspondence',\n",
       "   'clue_count': 1,\n",
       "   'legal_clue': 'Yes'},\n",
       "  {'event': 'end guessing',\n",
       "   'timestamp': datetime.datetime(2020, 10, 16, 3, 12, 5, 337068),\n",
       "   'reason': 'Zero guesses provided'},\n",
       "  {'event': 'clue_given',\n",
       "   'timestamp': datetime.datetime(2020, 10, 16, 3, 13, 18, 911323),\n",
       "   'team_num': 2,\n",
       "   'clue_word': 'settler',\n",
       "   'clue_count': 1,\n",
       "   'legal_clue': 'Yes'},\n",
       "  {'event': 'end guessing',\n",
       "   'timestamp': datetime.datetime(2020, 10, 16, 3, 13, 18, 991323),\n",
       "   'reason': 'Zero guesses provided'},\n",
       "  {'event': 'clue_given',\n",
       "   'timestamp': datetime.datetime(2020, 10, 16, 3, 14, 32, 879884),\n",
       "   'team_num': 1,\n",
       "   'clue_word': 'fashion',\n",
       "   'clue_count': 1,\n",
       "   'legal_clue': 'Yes'},\n",
       "  {'event': 'end guessing',\n",
       "   'timestamp': datetime.datetime(2020, 10, 16, 3, 14, 32, 939885),\n",
       "   'reason': 'Zero guesses provided'},\n",
       "  {'event': 'clue_given',\n",
       "   'timestamp': datetime.datetime(2020, 10, 16, 3, 15, 42, 443736),\n",
       "   'team_num': 2,\n",
       "   'clue_word': 'normalization',\n",
       "   'clue_count': 1,\n",
       "   'legal_clue': 'Yes'},\n",
       "  {'event': 'end guessing',\n",
       "   'timestamp': datetime.datetime(2020, 10, 16, 3, 15, 42, 510757),\n",
       "   'reason': 'Zero guesses provided'},\n",
       "  {'event': 'clue_given',\n",
       "   'timestamp': datetime.datetime(2020, 10, 16, 3, 16, 49, 973417),\n",
       "   'team_num': 1,\n",
       "   'clue_word': 'cyclooxygenase',\n",
       "   'clue_count': 1,\n",
       "   'legal_clue': 'Yes'},\n",
       "  {'event': 'end guessing',\n",
       "   'timestamp': datetime.datetime(2020, 10, 16, 3, 16, 50, 38417),\n",
       "   'reason': 'Zero guesses provided'},\n",
       "  {'event': 'clue_given',\n",
       "   'timestamp': datetime.datetime(2020, 10, 16, 3, 17, 58, 495615),\n",
       "   'team_num': 2,\n",
       "   'clue_word': 'pitching',\n",
       "   'clue_count': 1,\n",
       "   'legal_clue': 'Yes'},\n",
       "  {'event': 'end guessing',\n",
       "   'timestamp': datetime.datetime(2020, 10, 16, 3, 17, 58, 562616),\n",
       "   'reason': 'Zero guesses provided'},\n",
       "  {'event': 'clue_given',\n",
       "   'timestamp': datetime.datetime(2020, 10, 16, 3, 19, 6, 332564),\n",
       "   'team_num': 1,\n",
       "   'clue_word': 'flytrap',\n",
       "   'clue_count': 1,\n",
       "   'legal_clue': 'Yes'},\n",
       "  {'event': 'end guessing',\n",
       "   'timestamp': datetime.datetime(2020, 10, 16, 3, 19, 6, 403565),\n",
       "   'reason': 'Zero guesses provided'},\n",
       "  {'event': 'clue_given',\n",
       "   'timestamp': datetime.datetime(2020, 10, 16, 3, 20, 16, 366910),\n",
       "   'team_num': 2,\n",
       "   'clue_word': 'alternative',\n",
       "   'clue_count': 1,\n",
       "   'legal_clue': 'Yes'},\n",
       "  {'event': 'end guessing',\n",
       "   'timestamp': datetime.datetime(2020, 10, 16, 3, 20, 16, 432874),\n",
       "   'reason': 'Zero guesses provided'},\n",
       "  {'event': 'clue_given',\n",
       "   'timestamp': datetime.datetime(2020, 10, 16, 3, 21, 25, 780468),\n",
       "   'team_num': 1,\n",
       "   'clue_word': 'freight',\n",
       "   'clue_count': 1,\n",
       "   'legal_clue': 'Yes'},\n",
       "  {'event': 'end guessing',\n",
       "   'timestamp': datetime.datetime(2020, 10, 16, 3, 21, 25, 855466),\n",
       "   'reason': 'Zero guesses provided'},\n",
       "  {'event': 'clue_given',\n",
       "   'timestamp': datetime.datetime(2020, 10, 16, 3, 22, 35, 173288),\n",
       "   'team_num': 2,\n",
       "   'clue_word': 'preparation',\n",
       "   'clue_count': 1,\n",
       "   'legal_clue': 'Yes'},\n",
       "  {'event': 'end guessing',\n",
       "   'timestamp': datetime.datetime(2020, 10, 16, 3, 22, 35, 240917),\n",
       "   'reason': 'Zero guesses provided'},\n",
       "  {'event': 'clue_given',\n",
       "   'timestamp': datetime.datetime(2020, 10, 16, 3, 23, 42, 304024),\n",
       "   'team_num': 1,\n",
       "   'clue_word': 'designer',\n",
       "   'clue_count': 1,\n",
       "   'legal_clue': 'Yes'},\n",
       "  {'event': 'end guessing',\n",
       "   'timestamp': datetime.datetime(2020, 10, 16, 3, 23, 42, 369642),\n",
       "   'reason': 'Zero guesses provided'},\n",
       "  {'event': 'clue_given',\n",
       "   'timestamp': datetime.datetime(2020, 10, 16, 3, 24, 52, 735103),\n",
       "   'team_num': 2,\n",
       "   'clue_word': 'throat',\n",
       "   'clue_count': 1,\n",
       "   'legal_clue': 'Yes'},\n",
       "  {'event': 'end guessing',\n",
       "   'timestamp': datetime.datetime(2020, 10, 16, 3, 24, 52, 809100),\n",
       "   'reason': 'Zero guesses provided'},\n",
       "  {'event': 'clue_given',\n",
       "   'timestamp': datetime.datetime(2020, 10, 16, 3, 26, 2, 288139),\n",
       "   'team_num': 1,\n",
       "   'clue_word': 'dig',\n",
       "   'clue_count': 1,\n",
       "   'legal_clue': 'Yes'},\n",
       "  {'event': 'end guessing',\n",
       "   'timestamp': datetime.datetime(2020, 10, 16, 3, 26, 2, 356141),\n",
       "   'reason': 'Zero guesses provided'},\n",
       "  {'event': 'clue_given',\n",
       "   'timestamp': datetime.datetime(2020, 10, 16, 3, 27, 10, 696062),\n",
       "   'team_num': 2,\n",
       "   'clue_word': 'step-grandmother',\n",
       "   'clue_count': 1,\n",
       "   'legal_clue': 'Illegal clue: contained hyphen(s)'},\n",
       "  {'event': 'end guessing',\n",
       "   'timestamp': datetime.datetime(2020, 10, 16, 3, 27, 10, 696062),\n",
       "   'reason': 'illegal clue given; no guessing allowed'},\n",
       "  {'event': 'clue_given',\n",
       "   'timestamp': datetime.datetime(2020, 10, 16, 3, 28, 20, 464035),\n",
       "   'team_num': 1,\n",
       "   'clue_word': 'chip',\n",
       "   'clue_count': 1,\n",
       "   'legal_clue': 'Yes'},\n",
       "  {'event': 'end guessing',\n",
       "   'timestamp': datetime.datetime(2020, 10, 16, 3, 28, 20, 528035),\n",
       "   'reason': 'Zero guesses provided'},\n",
       "  {'event': 'clue_given',\n",
       "   'timestamp': datetime.datetime(2020, 10, 16, 3, 29, 30, 904165),\n",
       "   'team_num': 2,\n",
       "   'clue_word': 'destruction',\n",
       "   'clue_count': 1,\n",
       "   'legal_clue': 'Yes'},\n",
       "  {'event': 'end guessing',\n",
       "   'timestamp': datetime.datetime(2020, 10, 16, 3, 29, 30, 984752),\n",
       "   'reason': 'Zero guesses provided'},\n",
       "  {'event': 'clue_given',\n",
       "   'timestamp': datetime.datetime(2020, 10, 16, 3, 30, 40, 512283),\n",
       "   'team_num': 1,\n",
       "   'clue_word': 'dungeon',\n",
       "   'clue_count': 1,\n",
       "   'legal_clue': 'Yes'},\n",
       "  {'event': 'end guessing',\n",
       "   'timestamp': datetime.datetime(2020, 10, 16, 3, 30, 40, 587280),\n",
       "   'reason': 'Zero guesses provided'},\n",
       "  {'event': 'clue_given',\n",
       "   'timestamp': datetime.datetime(2020, 10, 16, 3, 31, 59, 818335),\n",
       "   'team_num': 2,\n",
       "   'clue_word': 'clutch',\n",
       "   'clue_count': 1,\n",
       "   'legal_clue': 'Yes'},\n",
       "  {'event': 'end guessing',\n",
       "   'timestamp': datetime.datetime(2020, 10, 16, 3, 31, 59, 899870),\n",
       "   'reason': 'Zero guesses provided'},\n",
       "  {'event': 'clue_given',\n",
       "   'timestamp': datetime.datetime(2020, 10, 16, 3, 33, 23, 670696),\n",
       "   'team_num': 1,\n",
       "   'clue_word': 'ecumenist',\n",
       "   'clue_count': 1,\n",
       "   'legal_clue': 'Yes'},\n",
       "  {'event': 'end guessing',\n",
       "   'timestamp': datetime.datetime(2020, 10, 16, 3, 33, 23, 740678),\n",
       "   'reason': 'Zero guesses provided'},\n",
       "  {'event': 'clue_given',\n",
       "   'timestamp': datetime.datetime(2020, 10, 16, 3, 34, 37, 921124),\n",
       "   'team_num': 2,\n",
       "   'clue_word': 'roof',\n",
       "   'clue_count': 1,\n",
       "   'legal_clue': 'Yes'},\n",
       "  {'event': 'end guessing',\n",
       "   'timestamp': datetime.datetime(2020, 10, 16, 3, 34, 37, 990712),\n",
       "   'reason': 'Zero guesses provided'},\n",
       "  {'event': 'clue_given',\n",
       "   'timestamp': datetime.datetime(2020, 10, 16, 3, 35, 48, 517249),\n",
       "   'team_num': 1,\n",
       "   'clue_word': 'plier',\n",
       "   'clue_count': 1,\n",
       "   'legal_clue': 'Yes'},\n",
       "  {'event': 'end guessing',\n",
       "   'timestamp': datetime.datetime(2020, 10, 16, 3, 35, 48, 582239),\n",
       "   'reason': 'Zero guesses provided'},\n",
       "  {'event': 'clue_given',\n",
       "   'timestamp': datetime.datetime(2020, 10, 16, 3, 36, 59, 927),\n",
       "   'team_num': 2,\n",
       "   'clue_word': 'swan',\n",
       "   'clue_count': 1,\n",
       "   'legal_clue': 'Yes'},\n",
       "  {'event': 'end guessing',\n",
       "   'timestamp': datetime.datetime(2020, 10, 16, 3, 36, 59, 66927),\n",
       "   'reason': 'Zero guesses provided'},\n",
       "  {'event': 'clue_given',\n",
       "   'timestamp': datetime.datetime(2020, 10, 16, 3, 38, 9, 786817),\n",
       "   'team_num': 1,\n",
       "   'clue_word': 'yoga',\n",
       "   'clue_count': 1,\n",
       "   'legal_clue': 'Yes'},\n",
       "  {'event': 'end guessing',\n",
       "   'timestamp': datetime.datetime(2020, 10, 16, 3, 38, 9, 860816),\n",
       "   'reason': 'Zero guesses provided'},\n",
       "  {'event': 'clue_given',\n",
       "   'timestamp': datetime.datetime(2020, 10, 16, 3, 39, 20, 326322),\n",
       "   'team_num': 2,\n",
       "   'clue_word': 'dandelion',\n",
       "   'clue_count': 1,\n",
       "   'legal_clue': 'Yes'},\n",
       "  {'event': 'end guessing',\n",
       "   'timestamp': datetime.datetime(2020, 10, 16, 3, 39, 20, 398323),\n",
       "   'reason': 'Zero guesses provided'},\n",
       "  {'event': 'clue_given',\n",
       "   'timestamp': datetime.datetime(2020, 10, 16, 3, 40, 31, 92729),\n",
       "   'team_num': 1,\n",
       "   'clue_word': 'hop',\n",
       "   'clue_count': 1,\n",
       "   'legal_clue': 'Yes'},\n",
       "  {'event': 'end guessing',\n",
       "   'timestamp': datetime.datetime(2020, 10, 16, 3, 40, 31, 166735),\n",
       "   'reason': 'Zero guesses provided'},\n",
       "  {'event': 'clue_given',\n",
       "   'timestamp': datetime.datetime(2020, 10, 16, 3, 41, 41, 269189),\n",
       "   'team_num': 2,\n",
       "   'clue_word': 'tonality',\n",
       "   'clue_count': 1,\n",
       "   'legal_clue': 'Yes'},\n",
       "  {'event': 'end guessing',\n",
       "   'timestamp': datetime.datetime(2020, 10, 16, 3, 41, 41, 340188),\n",
       "   'reason': 'Zero guesses provided'},\n",
       "  {'event': 'clue_given',\n",
       "   'timestamp': datetime.datetime(2020, 10, 16, 3, 42, 51, 614580),\n",
       "   'team_num': 1,\n",
       "   'clue_word': 'e-book',\n",
       "   'clue_count': 1,\n",
       "   'legal_clue': 'Illegal clue: contained hyphen(s)'},\n",
       "  {'event': 'end guessing',\n",
       "   'timestamp': datetime.datetime(2020, 10, 16, 3, 42, 51, 614580),\n",
       "   'reason': 'illegal clue given; no guessing allowed'},\n",
       "  {'event': 'clue_given',\n",
       "   'timestamp': datetime.datetime(2020, 10, 16, 3, 44, 1, 645324),\n",
       "   'team_num': 2,\n",
       "   'clue_word': 'tonight',\n",
       "   'clue_count': 1,\n",
       "   'legal_clue': 'Yes'},\n",
       "  {'event': 'end guessing',\n",
       "   'timestamp': datetime.datetime(2020, 10, 16, 3, 44, 1, 716315),\n",
       "   'reason': 'Zero guesses provided'},\n",
       "  {'event': 'clue_given',\n",
       "   'timestamp': datetime.datetime(2020, 10, 16, 3, 45, 11, 166682),\n",
       "   'team_num': 1,\n",
       "   'clue_word': 'cenotaph',\n",
       "   'clue_count': 1,\n",
       "   'legal_clue': 'Yes'},\n",
       "  {'event': 'end guessing',\n",
       "   'timestamp': datetime.datetime(2020, 10, 16, 3, 45, 11, 237688),\n",
       "   'reason': 'Zero guesses provided'},\n",
       "  {'event': 'clue_given',\n",
       "   'timestamp': datetime.datetime(2020, 10, 16, 3, 46, 21, 418054),\n",
       "   'team_num': 2,\n",
       "   'clue_word': 'image',\n",
       "   'clue_count': 1,\n",
       "   'legal_clue': 'Yes'},\n",
       "  {'event': 'end guessing',\n",
       "   'timestamp': datetime.datetime(2020, 10, 16, 3, 46, 21, 488053),\n",
       "   'reason': 'Zero guesses provided'},\n",
       "  {'event': 'clue_given',\n",
       "   'timestamp': datetime.datetime(2020, 10, 16, 3, 47, 31, 107485),\n",
       "   'team_num': 1,\n",
       "   'clue_word': 'brandy',\n",
       "   'clue_count': 1,\n",
       "   'legal_clue': 'Yes'},\n",
       "  {'event': 'end guessing',\n",
       "   'timestamp': datetime.datetime(2020, 10, 16, 3, 47, 31, 179484),\n",
       "   'reason': 'Zero guesses provided'},\n",
       "  {'event': 'clue_given',\n",
       "   'timestamp': datetime.datetime(2020, 10, 16, 3, 48, 41, 675649),\n",
       "   'team_num': 2,\n",
       "   'clue_word': 'textbook',\n",
       "   'clue_count': 1,\n",
       "   'legal_clue': 'Yes'},\n",
       "  {'event': 'end guessing',\n",
       "   'timestamp': datetime.datetime(2020, 10, 16, 3, 48, 41, 745649),\n",
       "   'reason': 'Zero guesses provided'},\n",
       "  {'event': 'clue_given',\n",
       "   'timestamp': datetime.datetime(2020, 10, 16, 3, 49, 51, 729945),\n",
       "   'team_num': 1,\n",
       "   'clue_word': 'composite',\n",
       "   'clue_count': 1,\n",
       "   'legal_clue': 'Yes'},\n",
       "  {'event': 'end guessing',\n",
       "   'timestamp': datetime.datetime(2020, 10, 16, 3, 49, 51, 818483),\n",
       "   'reason': 'Zero guesses provided'},\n",
       "  {'event': 'clue_given',\n",
       "   'timestamp': datetime.datetime(2020, 10, 16, 3, 51, 2, 95544),\n",
       "   'team_num': 2,\n",
       "   'clue_word': 'logo',\n",
       "   'clue_count': 1,\n",
       "   'legal_clue': 'Yes'},\n",
       "  {'event': 'end guessing',\n",
       "   'timestamp': datetime.datetime(2020, 10, 16, 3, 51, 2, 165060),\n",
       "   'reason': 'Zero guesses provided'},\n",
       "  {'event': 'clue_given',\n",
       "   'timestamp': datetime.datetime(2020, 10, 16, 3, 52, 12, 376730),\n",
       "   'team_num': 1,\n",
       "   'clue_word': 'pen',\n",
       "   'clue_count': 1,\n",
       "   'legal_clue': 'Yes'},\n",
       "  {'event': 'end guessing',\n",
       "   'timestamp': datetime.datetime(2020, 10, 16, 3, 52, 12, 446700),\n",
       "   'reason': 'Zero guesses provided'},\n",
       "  {'event': 'clue_given',\n",
       "   'timestamp': datetime.datetime(2020, 10, 16, 3, 53, 22, 570946),\n",
       "   'team_num': 2,\n",
       "   'clue_word': 'initial',\n",
       "   'clue_count': 1,\n",
       "   'legal_clue': 'Yes'},\n",
       "  {'event': 'end guessing',\n",
       "   'timestamp': datetime.datetime(2020, 10, 16, 3, 53, 22, 640925),\n",
       "   'reason': 'Zero guesses provided'},\n",
       "  {'event': 'clue_given',\n",
       "   'timestamp': datetime.datetime(2020, 10, 16, 3, 54, 32, 803643),\n",
       "   'team_num': 1,\n",
       "   'clue_word': 'high-rise',\n",
       "   'clue_count': 1,\n",
       "   'legal_clue': 'Illegal clue: contained hyphen(s)'},\n",
       "  {'event': 'end guessing',\n",
       "   'timestamp': datetime.datetime(2020, 10, 16, 3, 54, 32, 803643),\n",
       "   'reason': 'illegal clue given; no guessing allowed'},\n",
       "  {'event': 'clue_given',\n",
       "   'timestamp': datetime.datetime(2020, 10, 16, 3, 55, 43, 839577),\n",
       "   'team_num': 2,\n",
       "   'clue_word': 'shadow',\n",
       "   'clue_count': 1,\n",
       "   'legal_clue': 'Yes'},\n",
       "  {'event': 'end guessing',\n",
       "   'timestamp': datetime.datetime(2020, 10, 16, 3, 55, 43, 911545),\n",
       "   'reason': 'Zero guesses provided'},\n",
       "  {'event': 'clue_given',\n",
       "   'timestamp': datetime.datetime(2020, 10, 16, 3, 56, 54, 294453),\n",
       "   'team_num': 1,\n",
       "   'clue_word': 'explorer',\n",
       "   'clue_count': 1,\n",
       "   'legal_clue': 'Yes'},\n",
       "  {'event': 'end guessing',\n",
       "   'timestamp': datetime.datetime(2020, 10, 16, 3, 56, 54, 363487),\n",
       "   'reason': 'Zero guesses provided'},\n",
       "  {'event': 'clue_given',\n",
       "   'timestamp': datetime.datetime(2020, 10, 16, 3, 58, 4, 865966),\n",
       "   'team_num': 2,\n",
       "   'clue_word': 'assertion',\n",
       "   'clue_count': 1,\n",
       "   'legal_clue': 'Yes'},\n",
       "  {'event': 'end guessing',\n",
       "   'timestamp': datetime.datetime(2020, 10, 16, 3, 58, 4, 936966),\n",
       "   'reason': 'Zero guesses provided'},\n",
       "  {'event': 'clue_given',\n",
       "   'timestamp': datetime.datetime(2020, 10, 16, 3, 59, 15, 41031),\n",
       "   'team_num': 1,\n",
       "   'clue_word': 'bidder',\n",
       "   'clue_count': 1,\n",
       "   'legal_clue': 'Yes'},\n",
       "  {'event': 'end guessing',\n",
       "   'timestamp': datetime.datetime(2020, 10, 16, 3, 59, 15, 109052),\n",
       "   'reason': 'Zero guesses provided'},\n",
       "  {'event': 'clue_given',\n",
       "   'timestamp': datetime.datetime(2020, 10, 16, 4, 0, 25, 866344),\n",
       "   'team_num': 2,\n",
       "   'clue_word': 'friendship',\n",
       "   'clue_count': 1,\n",
       "   'legal_clue': 'Yes'},\n",
       "  {'event': 'end guessing',\n",
       "   'timestamp': datetime.datetime(2020, 10, 16, 4, 0, 25, 936343),\n",
       "   'reason': 'Zero guesses provided'},\n",
       "  {'event': 'clue_given',\n",
       "   'timestamp': datetime.datetime(2020, 10, 16, 4, 1, 35, 865255),\n",
       "   'team_num': 1,\n",
       "   'clue_word': 'croissant',\n",
       "   'clue_count': 1,\n",
       "   'legal_clue': 'Yes'},\n",
       "  {'event': 'end guessing',\n",
       "   'timestamp': datetime.datetime(2020, 10, 16, 4, 1, 35, 945254),\n",
       "   'reason': 'Zero guesses provided'},\n",
       "  {'event': 'clue_given',\n",
       "   'timestamp': datetime.datetime(2020, 10, 16, 4, 2, 46, 462663),\n",
       "   'team_num': 2,\n",
       "   'clue_word': 'typhoon',\n",
       "   'clue_count': 1,\n",
       "   'legal_clue': 'Yes'},\n",
       "  {'event': 'end guessing',\n",
       "   'timestamp': datetime.datetime(2020, 10, 16, 4, 2, 46, 532692),\n",
       "   'reason': 'Zero guesses provided'},\n",
       "  {'event': 'clue_given',\n",
       "   'timestamp': datetime.datetime(2020, 10, 16, 4, 3, 57, 100024),\n",
       "   'team_num': 1,\n",
       "   'clue_word': 'bagel',\n",
       "   'clue_count': 1,\n",
       "   'legal_clue': 'Yes'},\n",
       "  {'event': 'end guessing',\n",
       "   'timestamp': datetime.datetime(2020, 10, 16, 4, 3, 57, 177023),\n",
       "   'reason': 'Zero guesses provided'},\n",
       "  {'event': 'clue_given',\n",
       "   'timestamp': datetime.datetime(2020, 10, 16, 4, 5, 7, 938522),\n",
       "   'team_num': 2,\n",
       "   'clue_word': 'statistic',\n",
       "   'clue_count': 1,\n",
       "   'legal_clue': 'Yes'},\n",
       "  {'event': 'end guessing',\n",
       "   'timestamp': datetime.datetime(2020, 10, 16, 4, 5, 8, 6559),\n",
       "   'reason': 'Zero guesses provided'},\n",
       "  {'event': 'clue_given',\n",
       "   'timestamp': datetime.datetime(2020, 10, 16, 4, 6, 18, 511528),\n",
       "   'team_num': 1,\n",
       "   'clue_word': 'howard',\n",
       "   'clue_count': 1,\n",
       "   'legal_clue': 'Yes'},\n",
       "  {'event': 'end guessing',\n",
       "   'timestamp': datetime.datetime(2020, 10, 16, 4, 6, 18, 582528),\n",
       "   'reason': 'Zero guesses provided'},\n",
       "  {'event': 'clue_given',\n",
       "   'timestamp': datetime.datetime(2020, 10, 16, 4, 7, 28, 592432),\n",
       "   'team_num': 2,\n",
       "   'clue_word': 'job',\n",
       "   'clue_count': 1,\n",
       "   'legal_clue': 'Yes'},\n",
       "  {'event': 'end guessing',\n",
       "   'timestamp': datetime.datetime(2020, 10, 16, 4, 7, 28, 660469),\n",
       "   'reason': 'Zero guesses provided'},\n",
       "  {'event': 'clue_given',\n",
       "   'timestamp': datetime.datetime(2020, 10, 16, 4, 8, 39, 209434),\n",
       "   'team_num': 1,\n",
       "   'clue_word': 'berry',\n",
       "   'clue_count': 1,\n",
       "   'legal_clue': 'Yes'},\n",
       "  {'event': 'end guessing',\n",
       "   'timestamp': datetime.datetime(2020, 10, 16, 4, 8, 39, 281430),\n",
       "   'reason': 'Zero guesses provided'},\n",
       "  {'event': 'clue_given',\n",
       "   'timestamp': datetime.datetime(2020, 10, 16, 4, 9, 49, 582363),\n",
       "   'team_num': 2,\n",
       "   'clue_word': 'refrigerator',\n",
       "   'clue_count': 1,\n",
       "   'legal_clue': 'Yes'},\n",
       "  {'event': 'end guessing',\n",
       "   'timestamp': datetime.datetime(2020, 10, 16, 4, 9, 49, 658363),\n",
       "   'reason': 'Zero guesses provided'},\n",
       "  {'event': 'clue_given',\n",
       "   'timestamp': datetime.datetime(2020, 10, 16, 4, 11, 0, 237824),\n",
       "   'team_num': 1,\n",
       "   'clue_word': 'set',\n",
       "   'clue_count': 1,\n",
       "   'legal_clue': 'Yes'},\n",
       "  {'event': 'end guessing',\n",
       "   'timestamp': datetime.datetime(2020, 10, 16, 4, 11, 0, 304863),\n",
       "   'reason': 'Zero guesses provided'},\n",
       "  {'event': 'clue_given',\n",
       "   'timestamp': datetime.datetime(2020, 10, 16, 4, 12, 10, 987038),\n",
       "   'team_num': 2,\n",
       "   'clue_word': 'pork',\n",
       "   'clue_count': 1,\n",
       "   'legal_clue': 'Yes'},\n",
       "  {'event': 'guess made',\n",
       "   'timestamp': datetime.datetime(2020, 10, 16, 4, 12, 11, 58039),\n",
       "   'team_num': 2,\n",
       "   'word_guessed': 'turkey',\n",
       "   'result': -1},\n",
       "  {'event': 'game over',\n",
       "   'timestamp': datetime.datetime(2020, 10, 16, 4, 12, 11, 58039),\n",
       "   'reason': 'Team 2 guessed assassin word'}],\n",
       " 'boardwords': [['scorpion', 'press', 'plate', 'laser', 'straw'],\n",
       "  ['washer', 'hood', 'point', 'cell', 'ambulance'],\n",
       "  ['wave', 'thumb', 'day', 'theater', 'bottle'],\n",
       "  ['mass', 'force', 'pass', 'turkey', 'fair'],\n",
       "  ['scale', 'cross', 'bell', 'revolution', 'bow']],\n",
       " 'boardkey': [[1, 2, 0, 2, 0],\n",
       "  [1, 1, 1, 0, 2],\n",
       "  [1, 0, 2, 1, 2],\n",
       "  [2, 2, 0, -1, 1],\n",
       "  [1, 1, 0, 2, 0]],\n",
       " 'teams': {'team 1': [1001, 1002], 'team 2': [1003, 1004]},\n",
       " 'winning team': {'num': 1,\n",
       "  'players': [{'player_id': 1001,\n",
       "    'Elo before update': {'Spymaster': 1500.0, 'Operative': 1500.0},\n",
       "    'Elo after update': {'Spymaster': 1500.0, 'Operative': 1500.0}},\n",
       "   {'player_id': 1002,\n",
       "    'Elo before update': {'Spymaster': 1500.0, 'Operative': 1500.0},\n",
       "    'Elo after update': {'Spymaster': 1500.0, 'Operative': 1500.0}}]},\n",
       " 'losing team': {'num': 2,\n",
       "  'players': [{'player_id': 1003,\n",
       "    'Elo before update': {'Spymaster': 1500.0, 'Operative': 1500.0},\n",
       "    'Elo after update': {'Spymaster': 1500.0, 'Operative': 1500.0}},\n",
       "   {'player_id': 1004,\n",
       "    'Elo before update': {'Spymaster': 1500.0, 'Operative': 1500.0},\n",
       "    'Elo after update': {'Spymaster': 1500.0, 'Operative': 1500.0}}]},\n",
       " 'start time': datetime.datetime(2020, 10, 16, 0, 28, 37, 91264),\n",
       " 'end time': datetime.datetime(2020, 10, 16, 4, 12, 11, 58039),\n",
       " 'boardmarkers': [[1.0, 2.0, nan, 2.0, nan],\n",
       "  [1.0, 1.0, 1.0, nan, 2.0],\n",
       "  [1.0, nan, 2.0, 1.0, 2.0],\n",
       "  [nan, 2.0, nan, -1.0, 1.0],\n",
       "  [nan, 1.0, nan, 2.0, nan]]}"
      ]
     },
     "execution_count": 30,
     "metadata": {},
     "output_type": "execute_result"
    }
   ],
   "source": [
    "my_game.logger.game_log # this command only works for LocalLogger, not for MongoLogger"
   ]
  },
  {
   "cell_type": "markdown",
   "metadata": {},
   "source": [
    "Lots of information there! Let's review.\n",
    "These are the keys in the top level of the log dict:\n",
    "- in_progress : True or False\n",
    "- events : this is where all of the events of the game are recorded (more detail below)\n",
    "- boardwords : the array from the gameboard\n",
    "- boardkey : the array from the gameboard\n",
    "- teams : the player_id for each player on each team\n",
    "- winning team : the information about each winner's Elo change after the game\n",
    "- losing team : the information about each loser's Elo change after the game\n",
    "- start time : in utc\n",
    "- end time : in utc\n",
    "- boardmarkers : the final status of the board revealing which words were guessed\n",
    "\n",
    "Note: not all of this information is present until the game is completed. However, you can still pull a log in the middle of a game. You can even pull a log from the MongoDB in the middle of the game using the API endpoint mentioned above. Also, note that when pulling a log from the server, some of this information is scrubbed from the log: information that you would not have had access to based on your role.\n",
    "\n",
    "So what's in 'events'?\n",
    "\n",
    "Events is a list of dicts. Each event is a dict. New events are appended to the end of the list, so the list is in chronological order. Here is what gets recorded as an event:\n",
    "- clue_given - records the word, the count, and whether the clue was a legal clue. If it wasn't, includes an explanation why not.\n",
    "- guess made - records the word guessed and the team that word belonged to. Note this is not the same as the guesses list. Guesses are made one at a time and each is recorded individually\n",
    "- guess skipped: guess not in unguessed_words - records the word that was attempted but did not exist\n",
    "- end guessing - can be for a number of reasons which are all recorded: illegal clue given, zero guesses provided, incorrect guess made, no more guesses provided, or num guesses provided exceeded clue_count+1\n",
    "- game over - records the reason why the game ended\n",
    "\n",
    "Use this information as you wish!"
   ]
  }
 ],
 "metadata": {
  "kernelspec": {
   "display_name": "Python 3",
   "language": "python",
   "name": "python3"
  },
  "language_info": {
   "codemirror_mode": {
    "name": "ipython",
    "version": 3
   },
   "file_extension": ".py",
   "mimetype": "text/x-python",
   "name": "python",
   "nbconvert_exporter": "python",
   "pygments_lexer": "ipython3",
   "version": "3.8.3"
  }
 },
 "nbformat": 4,
 "nbformat_minor": 4
}
